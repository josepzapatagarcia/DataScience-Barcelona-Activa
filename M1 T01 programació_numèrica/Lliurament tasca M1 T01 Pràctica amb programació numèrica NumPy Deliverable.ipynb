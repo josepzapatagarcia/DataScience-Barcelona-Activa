{
 "cells": [
  {
   "cell_type": "markdown",
   "metadata": {},
   "source": [
    "# M1 T01: Pràctica amb programació numèrica NumPy\n",
    "\n",
    "## Tasca 1\n",
    "\n",
    "- Exercici 1\n",
    "Crea una funció que donat un Array d’una dimensió, et faci un resum estadístic bàsic de les dades. Si detecta que l’array té més d’una dimensió, ha de mostrar un missatge d’error.\n",
    "\n",
    "- Exercici 2\n",
    "Crea una funció que et generi un quadrat NxN de nombres aleatoris entre el 0 i el 100.\n",
    "\n",
    "- Exercici 3\n",
    "Crea una funció que donada una taula de dues dimensions, et calculi els totals per fila i els totals per columna.\n",
    "\n",
    "- Exercici 4\n",
    "Implementa manualment una funció que calculi el coeficient de correlació. Informa’t-en sobre els seus usos i interpretació."
   ]
  },
  {
   "cell_type": "markdown",
   "metadata": {},
   "source": [
    "# Exercici 1:\n",
    "\n",
    "## Crea una funció que donat un Array d’una dimensió, et faci un resum estadístic bàsic de les dades. Si detecta que l’array té més d’una dimensió, ha de mostrar un missatge d’error."
   ]
  },
  {
   "cell_type": "code",
   "execution_count": 31,
   "metadata": {},
   "outputs": [],
   "source": [
    "import numpy as np\n",
    "\n",
    "def crea_array (arr):\n",
    "    \n",
    "    if arr.ndim != 1:\n",
    "        print('Tu array :', arr, '--> no cumple con las especificaciones:')    \n",
    "        print('Tiene las siguientes dimensiones:', int(arr.ndim))\n",
    "        print('Tipo de contenido de tu array   :', arr.shape)\n",
    "        print('Su contenido es                 :', arr.dtype)\n",
    "    if arr.ndim == 1:\n",
    "        print('Tu array :', arr, '--> SI cumple con las especificaciones:')      \n",
    "        print('Tiene las siguientes dimensiones:', int(arr.ndim))\n",
    "        print('Elementos del array             :', arr.size)\n",
    "        print('Su contenido es                 :', arr.dtype)\n",
    "        arr1 = arr.copy()  \n",
    "        arr1.sort()      \n",
    "        print('Valor Medio                     :', np.sum(arr1) / arr.shape)\n",
    "        print('Valor Mean                      :', int(arr1.mean()))\n",
    "        print('Min - Max                       :', arr1[0] , ' - ', arr1[-1])  \n",
    "        print('Std Deviation                   :', int(np.std(arr1)))\n",
    "        print('Array Original sin ordenar      :', arr)\n",
    "        print('Array Original ordenado         :', arr1)\n",
    "        \n",
    "        \n"
   ]
  },
  {
   "cell_type": "code",
   "execution_count": 36,
   "metadata": {},
   "outputs": [
    {
     "name": "stdout",
     "output_type": "stream",
     "text": [
      "Tu array : 42 --> no cumple con las especificaciones:\n",
      "Tiene las siguientes dimensiones: 0\n",
      "Tipo de contenido de tu array   : ()\n",
      "Su contenido es                 : int32\n",
      "----------------------------\n",
      "Tu array : [ 166  266 3666   46   56] --> SI cumple con las especificaciones:\n",
      "Tiene las siguientes dimensiones: 1\n",
      "Elementos del array             : 5\n",
      "Su contenido es                 : int32\n",
      "Valor Medio                     : [840.]\n",
      "Valor Mean                      : 840\n",
      "Min - Max                       : 46  -  3666\n",
      "Std Deviation                   : 1415\n",
      "Array Original sin ordenar      : [ 166  266 3666   46   56]\n",
      "Array Original ordenado         : [  46   56  166  266 3666]\n",
      "----------------------------\n",
      "Tu array : [[1 2 3]\n",
      " [4 5 6]] --> no cumple con las especificaciones:\n",
      "Tiene las siguientes dimensiones: 2\n",
      "Tipo de contenido de tu array   : (2, 3)\n",
      "Su contenido es                 : int32\n",
      "----------------------------\n",
      "Tu array : [[[1 2 3]\n",
      "  [4 5 6]]\n",
      "\n",
      " [[1 2 3]\n",
      "  [4 5 6]]] --> no cumple con las especificaciones:\n",
      "Tiene las siguientes dimensiones: 3\n",
      "Tipo de contenido de tu array   : (2, 2, 3)\n",
      "Su contenido es                 : int32\n",
      "----------------------------\n"
     ]
    }
   ],
   "source": [
    "a = np.array(42)\n",
    "b = np.array([1, 2, 3, 4, 5])\n",
    "b = np.array([166, 266, 3666, 46, 56])\n",
    "c = np.array([[1, 2, 3], [4, 5, 6]])\n",
    "d = np.array([[[1, 2, 3], [4, 5, 6]], [[1, 2, 3], [4, 5, 6]]])\n",
    "\n",
    "crea_array(a)\n",
    "print(\"----------------------------\")\n",
    "crea_array(b)\n",
    "print(\"----------------------------\")\n",
    "crea_array(c)\n",
    "print(\"----------------------------\")\n",
    "crea_array(d)\n",
    "print(\"----------------------------\")\n"
   ]
  },
  {
   "cell_type": "markdown",
   "metadata": {},
   "source": [
    "# - Exercici 2\n",
    "\n",
    "## Crea una funció que et generi un quadrat NxN de nombres aleatoris entre el 0 i el 100.\n"
   ]
  },
  {
   "cell_type": "code",
   "execution_count": 60,
   "metadata": {},
   "outputs": [
    {
     "name": "stdout",
     "output_type": "stream",
     "text": [
      "[[90 51 29 38 94  5 28 58 29 95]\n",
      " [ 3 54 67 86  4 44 13 14 13 13]\n",
      " [97 97 96 35 32 66 55 10 33 73]\n",
      " [12 83 82 19 82 21 31  8 29 92]\n",
      " [82 11 96 33 70 65 55  5  0 70]\n",
      " [36 66 80 68 96 71 41 10 88 79]\n",
      " [72 35 30 34  3 17 88 65 37 34]\n",
      " [91 41 32  3 30 99 60 67 64 94]\n",
      " [ 2 25 60 67 20 16 74 35 32 44]\n",
      " [70 77 14 50 93 14 34 41 16 44]]\n"
     ]
    }
   ],
   "source": [
    "import random\n",
    "import numpy as np\n",
    "from numpy import random\n",
    "\n",
    "def crea_quadrat_n_x_n(n):\n",
    "    \n",
    "    x = random.randint(100, size=(n, n))\n",
    "    return(x)\n",
    "\n",
    "y=crea_quadrat_n_x_n(10)\n",
    "print(y)"
   ]
  },
  {
   "cell_type": "markdown",
   "metadata": {},
   "source": [
    "# - Exercici 3\n",
    "\n",
    "## Crea una funció que donada una taula de dues dimensions, et calculi els totals per fila i els totals per columna.\n"
   ]
  },
  {
   "cell_type": "code",
   "execution_count": 90,
   "metadata": {},
   "outputs": [
    {
     "name": "stdout",
     "output_type": "stream",
     "text": [
      "---primera matriz ejemplo\n",
      "-----Matriz original-----\n",
      "[[45 29 72  1 37 56 88 27 37 26]\n",
      " [25 65 98 98 50 90 66 44 33 56]\n",
      " [63 78 83 34 40 52 28 15 60  9]\n",
      " [34 64 29 91 18 89 71 11 32 95]\n",
      " [77 33 74 27 93 50 69 88 12 87]\n",
      " [80 62 84 65 45 47  4  8 32 85]\n",
      " [22 53 49 95 77 81 31 58 52  4]\n",
      " [62 72 89 32 89 20 61 27 44 98]\n",
      " [59  5 85 85 15 20 61 86 91 58]\n",
      " [ 8 12 19 28 73 77  7 66 74 71]]\n",
      "-----MAtriz Acumnulada por filas-----\n",
      "[[ 45  74 146 147 184 240 328 355 392 418]\n",
      " [ 25  90 188 286 336 426 492 536 569 625]\n",
      " [ 63 141 224 258 298 350 378 393 453 462]\n",
      " [ 34  98 127 218 236 325 396 407 439 534]\n",
      " [ 77 110 184 211 304 354 423 511 523 610]\n",
      " [ 80 142 226 291 336 383 387 395 427 512]\n",
      " [ 22  75 124 219 296 377 408 466 518 522]\n",
      " [ 62 134 223 255 344 364 425 452 496 594]\n",
      " [ 59  64 149 234 249 269 330 416 507 565]\n",
      " [  8  20  39  67 140 217 224 290 364 435]]\n",
      "-----Total por filas-----\n",
      "[[418]\n",
      " [625]\n",
      " [462]\n",
      " [534]\n",
      " [610]\n",
      " [512]\n",
      " [522]\n",
      " [594]\n",
      " [565]\n",
      " [435]]\n",
      "-----MAtriz Acumnulada por columnas-----\n",
      "[[ 45  29  72   1  37  56  88  27  37  26]\n",
      " [ 70  94 170  99  87 146 154  71  70  82]\n",
      " [133 172 253 133 127 198 182  86 130  91]\n",
      " [167 236 282 224 145 287 253  97 162 186]\n",
      " [244 269 356 251 238 337 322 185 174 273]\n",
      " [324 331 440 316 283 384 326 193 206 358]\n",
      " [346 384 489 411 360 465 357 251 258 362]\n",
      " [408 456 578 443 449 485 418 278 302 460]\n",
      " [467 461 663 528 464 505 479 364 393 518]\n",
      " [475 473 682 556 537 582 486 430 467 589]]\n",
      "-----Total por columnas-----\n",
      "[[475 473 682 556 537 582 486 430 467 589]]\n",
      "---segunda matriz ejemplo\n",
      "-----Matriz original-----\n",
      "[[30  0 99 84  8]\n",
      " [53 95 54 73 21]\n",
      " [30 81 10  6 19]\n",
      " [78 88 11 18 69]\n",
      " [92 16 53 84 74]]\n",
      "-----Total por filas-----\n",
      "[[221]\n",
      " [296]\n",
      " [146]\n",
      " [264]\n",
      " [319]]\n",
      "-----Total por columnas-----\n",
      "[[283 280 227 265 191]]\n"
     ]
    }
   ],
   "source": [
    "def calcular_total_fila_columna (matriu , checkvisualy):\n",
    "\n",
    "    print('-----Matriz original-----')\n",
    "    print(y)\n",
    "    \n",
    "    if checkvisualy :\n",
    "        print('-----MAtriz Acumnulada por filas-----')\n",
    "        print(y.cumsum(axis=1))\n",
    "        \n",
    "    print('-----Total por filas-----')\n",
    "    print(np.transpose(np.sum(y, axis=1)).reshape(n,1))\n",
    "\n",
    "\n",
    "    z = np.transpose(y)\n",
    "    w = z.cumsum(axis=1)\n",
    "    x = np.transpose(w)\n",
    "\n",
    "    if checkvisualy :\n",
    "\n",
    "        print('-----MAtriz Acumnulada por columnas-----')\n",
    "        print(x)\n",
    "\n",
    "    print('-----Total por columnas-----')\n",
    "    print(np.transpose(np.sum(z, axis=1)).reshape(1,n))\n",
    "\n",
    "print ('---primera matriz ejemplo')\n",
    "n=10\n",
    "y=crea_quadrat_n_x_n(n)\n",
    "calcular_total_fila_columna (y, True )\n",
    "\n",
    "print ('---segunda matriz ejemplo')\n",
    "n=5\n",
    "y=crea_quadrat_n_x_n(n)\n",
    "calcular_total_fila_columna (y, False )\n"
   ]
  },
  {
   "cell_type": "markdown",
   "metadata": {},
   "source": [
    "# - Exercici 4\n",
    "\n",
    "## Implementa manualment una funció que calculi el coeficient de correlació. Informa’t-en sobre els seus usos i interpretació."
   ]
  },
  {
   "cell_type": "code",
   "execution_count": 98,
   "metadata": {},
   "outputs": [
    {
     "name": "stdout",
     "output_type": "stream",
     "text": [
      "Matriiu de dades\n",
      "[[ 9 45 95 19 12]\n",
      " [56 79 39 35 45]\n",
      " [36 84 23 65 97]\n",
      " [ 5 49 99 98 63]\n",
      " [82 52 33 57 29]]\n",
      "\n",
      "Matriu de correlació\n",
      "[[ 1.         -0.06907674 -0.51046948  0.53024109 -0.47986819]\n",
      " [-0.06907674  1.          0.31502617 -0.60852327  0.2899194 ]\n",
      " [-0.51046948  0.31502617  1.         -0.02050838 -0.31466992]\n",
      " [ 0.53024109 -0.60852327 -0.02050838  1.         -0.67922975]\n",
      " [-0.47986819  0.2899194  -0.31466992 -0.67922975  1.        ]]\n"
     ]
    }
   ],
   "source": [
    "def coeficiente_correlacion(matriz):\n",
    "    R1 = np.corrcoef(matriz)\n",
    "    return R1\n",
    "    \n",
    "n=5\n",
    "y=crea_quadrat_n_x_n(n)\n",
    "print('Matriiu de dades')\n",
    "print(y)\n",
    "print('')\n",
    "print('Matriu de correlació')\n",
    "print(coeficiente_correlacion(y))"
   ]
  },
  {
   "cell_type": "code",
   "execution_count": null,
   "metadata": {},
   "outputs": [],
   "source": []
  }
 ],
 "metadata": {
  "kernelspec": {
   "display_name": "Python 3",
   "language": "python",
   "name": "python3"
  },
  "language_info": {
   "codemirror_mode": {
    "name": "ipython",
    "version": 3
   },
   "file_extension": ".py",
   "mimetype": "text/x-python",
   "name": "python",
   "nbconvert_exporter": "python",
   "pygments_lexer": "ipython3",
   "version": "3.8.8"
  }
 },
 "nbformat": 4,
 "nbformat_minor": 4
}
