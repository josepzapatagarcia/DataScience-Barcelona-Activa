{
 "cells": [
  {
   "cell_type": "code",
   "execution_count": 537,
   "id": "19cb9b9a",
   "metadata": {},
   "outputs": [],
   "source": [
    "import pandas as pd\n",
    "import numpy as np\n",
    "from numpy import random\n",
    "\n",
    "import warnings\n",
    "warnings.simplefilter(action='ignore', category=FutureWarning)\n",
    "\n",
    "import pandas as pd\n",
    "import seaborn as sns\n",
    "from datetime import datetime\n",
    "import statistics as stat\n",
    "import seaborn as sns\n",
    "import matplotlib.pyplot as plt\n",
    "from matplotlib.pyplot import figure\n",
    "from pyod.models.knn import KNN\n",
    "from sklearn.preprocessing import StandardScaler\n",
    "from sklearn.preprocessing import MinMaxScaler\n",
    "import sklearn\n",
    "from sklearn.decomposition import PCA\n",
    "from sklearn.cluster import DBSCAN\n",
    "import sklearn.neighbors\n",
    "from sklearn.neighbors import kneighbors_graph\n",
    "from sklearn.datasets import make_blobs\n",
    "from sklearn.model_selection import train_test_split \n",
    "from sklearn.linear_model import LinearRegression\n",
    "from sklearn.preprocessing import PolynomialFeatures\n",
    "from sklearn.metrics import mean_absolute_error, mean_squared_error, r2_score \n",
    "from sklearn.ensemble import RandomForestRegressor\n",
    "from scipy import stats\n",
    "import random\n",
    "\n",
    "#pd.options.display.float_format = '{:.0f}'.format\n",
    "\n",
    "import math\n",
    "from sklearn import preprocessing\n",
    "from sklearn import metrics\n",
    "from sklearn.tree import DecisionTreeRegressor\n",
    "import statsmodels.api as sm\n",
    "from pandas_profiling import ProfileReport\n",
    "\n",
    "from sklearn.feature_selection import f_regression\n",
    "import operator\n",
    "\n",
    "pd.set_option('display.max_rows', 500)\n",
    "pd.set_option('display.max_columns', 500)\n",
    "pd.set_option('display.width', 1000)\n",
    "\n",
    "#pip install pyod            # normal install\n",
    "#pip install --upgrade pyod  # or update if needed\n",
    "#pip install pandas-profiling\n",
    "\n",
    "%matplotlib inline"
   ]
  },
  {
   "cell_type": "code",
   "execution_count": 538,
   "id": "a3dabac3",
   "metadata": {},
   "outputs": [
    {
     "data": {
      "text/html": [
       "<div>\n",
       "<style scoped>\n",
       "    .dataframe tbody tr th:only-of-type {\n",
       "        vertical-align: middle;\n",
       "    }\n",
       "\n",
       "    .dataframe tbody tr th {\n",
       "        vertical-align: top;\n",
       "    }\n",
       "\n",
       "    .dataframe thead th {\n",
       "        text-align: right;\n",
       "    }\n",
       "</style>\n",
       "<table border=\"1\" class=\"dataframe\">\n",
       "  <thead>\n",
       "    <tr style=\"text-align: right;\">\n",
       "      <th></th>\n",
       "      <th>Unnamed: 0</th>\n",
       "      <th>Year</th>\n",
       "      <th>Month</th>\n",
       "      <th>DayofMonth</th>\n",
       "      <th>DayOfWeek</th>\n",
       "      <th>DepTime</th>\n",
       "      <th>CRSDepTime</th>\n",
       "      <th>ArrTime</th>\n",
       "      <th>CRSArrTime</th>\n",
       "      <th>UniqueCarrier</th>\n",
       "      <th>FlightNum</th>\n",
       "      <th>TailNum</th>\n",
       "      <th>ActualElapsedTime</th>\n",
       "      <th>CRSElapsedTime</th>\n",
       "      <th>AirTime</th>\n",
       "      <th>ArrDelay</th>\n",
       "      <th>DepDelay</th>\n",
       "      <th>Origin</th>\n",
       "      <th>Dest</th>\n",
       "      <th>Distance</th>\n",
       "      <th>TaxiIn</th>\n",
       "      <th>TaxiOut</th>\n",
       "      <th>Cancelled</th>\n",
       "      <th>CancellationCode</th>\n",
       "      <th>Diverted</th>\n",
       "      <th>CarrierDelay</th>\n",
       "      <th>WeatherDelay</th>\n",
       "      <th>NASDelay</th>\n",
       "      <th>SecurityDelay</th>\n",
       "      <th>LateAircraftDelay</th>\n",
       "    </tr>\n",
       "  </thead>\n",
       "  <tbody>\n",
       "    <tr>\n",
       "      <th>0</th>\n",
       "      <td>0</td>\n",
       "      <td>2008</td>\n",
       "      <td>1</td>\n",
       "      <td>3</td>\n",
       "      <td>4</td>\n",
       "      <td>2003.0</td>\n",
       "      <td>1955</td>\n",
       "      <td>2211.0</td>\n",
       "      <td>2225</td>\n",
       "      <td>WN</td>\n",
       "      <td>335</td>\n",
       "      <td>N712SW</td>\n",
       "      <td>128.0</td>\n",
       "      <td>150.0</td>\n",
       "      <td>116.0</td>\n",
       "      <td>-14.0</td>\n",
       "      <td>8.0</td>\n",
       "      <td>IAD</td>\n",
       "      <td>TPA</td>\n",
       "      <td>810</td>\n",
       "      <td>4.0</td>\n",
       "      <td>8.0</td>\n",
       "      <td>0</td>\n",
       "      <td>N</td>\n",
       "      <td>0</td>\n",
       "      <td>NaN</td>\n",
       "      <td>NaN</td>\n",
       "      <td>NaN</td>\n",
       "      <td>NaN</td>\n",
       "      <td>NaN</td>\n",
       "    </tr>\n",
       "    <tr>\n",
       "      <th>1</th>\n",
       "      <td>1</td>\n",
       "      <td>2008</td>\n",
       "      <td>1</td>\n",
       "      <td>3</td>\n",
       "      <td>4</td>\n",
       "      <td>754.0</td>\n",
       "      <td>735</td>\n",
       "      <td>1002.0</td>\n",
       "      <td>1000</td>\n",
       "      <td>WN</td>\n",
       "      <td>3231</td>\n",
       "      <td>N772SW</td>\n",
       "      <td>128.0</td>\n",
       "      <td>145.0</td>\n",
       "      <td>113.0</td>\n",
       "      <td>2.0</td>\n",
       "      <td>19.0</td>\n",
       "      <td>IAD</td>\n",
       "      <td>TPA</td>\n",
       "      <td>810</td>\n",
       "      <td>5.0</td>\n",
       "      <td>10.0</td>\n",
       "      <td>0</td>\n",
       "      <td>N</td>\n",
       "      <td>0</td>\n",
       "      <td>NaN</td>\n",
       "      <td>NaN</td>\n",
       "      <td>NaN</td>\n",
       "      <td>NaN</td>\n",
       "      <td>NaN</td>\n",
       "    </tr>\n",
       "    <tr>\n",
       "      <th>2</th>\n",
       "      <td>2</td>\n",
       "      <td>2008</td>\n",
       "      <td>1</td>\n",
       "      <td>3</td>\n",
       "      <td>4</td>\n",
       "      <td>628.0</td>\n",
       "      <td>620</td>\n",
       "      <td>804.0</td>\n",
       "      <td>750</td>\n",
       "      <td>WN</td>\n",
       "      <td>448</td>\n",
       "      <td>N428WN</td>\n",
       "      <td>96.0</td>\n",
       "      <td>90.0</td>\n",
       "      <td>76.0</td>\n",
       "      <td>14.0</td>\n",
       "      <td>8.0</td>\n",
       "      <td>IND</td>\n",
       "      <td>BWI</td>\n",
       "      <td>515</td>\n",
       "      <td>3.0</td>\n",
       "      <td>17.0</td>\n",
       "      <td>0</td>\n",
       "      <td>N</td>\n",
       "      <td>0</td>\n",
       "      <td>NaN</td>\n",
       "      <td>NaN</td>\n",
       "      <td>NaN</td>\n",
       "      <td>NaN</td>\n",
       "      <td>NaN</td>\n",
       "    </tr>\n",
       "    <tr>\n",
       "      <th>3</th>\n",
       "      <td>4</td>\n",
       "      <td>2008</td>\n",
       "      <td>1</td>\n",
       "      <td>3</td>\n",
       "      <td>4</td>\n",
       "      <td>1829.0</td>\n",
       "      <td>1755</td>\n",
       "      <td>1959.0</td>\n",
       "      <td>1925</td>\n",
       "      <td>WN</td>\n",
       "      <td>3920</td>\n",
       "      <td>N464WN</td>\n",
       "      <td>90.0</td>\n",
       "      <td>90.0</td>\n",
       "      <td>77.0</td>\n",
       "      <td>34.0</td>\n",
       "      <td>34.0</td>\n",
       "      <td>IND</td>\n",
       "      <td>BWI</td>\n",
       "      <td>515</td>\n",
       "      <td>3.0</td>\n",
       "      <td>10.0</td>\n",
       "      <td>0</td>\n",
       "      <td>N</td>\n",
       "      <td>0</td>\n",
       "      <td>2.0</td>\n",
       "      <td>0.0</td>\n",
       "      <td>0.0</td>\n",
       "      <td>0.0</td>\n",
       "      <td>32.0</td>\n",
       "    </tr>\n",
       "    <tr>\n",
       "      <th>4</th>\n",
       "      <td>5</td>\n",
       "      <td>2008</td>\n",
       "      <td>1</td>\n",
       "      <td>3</td>\n",
       "      <td>4</td>\n",
       "      <td>1940.0</td>\n",
       "      <td>1915</td>\n",
       "      <td>2121.0</td>\n",
       "      <td>2110</td>\n",
       "      <td>WN</td>\n",
       "      <td>378</td>\n",
       "      <td>N726SW</td>\n",
       "      <td>101.0</td>\n",
       "      <td>115.0</td>\n",
       "      <td>87.0</td>\n",
       "      <td>11.0</td>\n",
       "      <td>25.0</td>\n",
       "      <td>IND</td>\n",
       "      <td>JAX</td>\n",
       "      <td>688</td>\n",
       "      <td>4.0</td>\n",
       "      <td>10.0</td>\n",
       "      <td>0</td>\n",
       "      <td>N</td>\n",
       "      <td>0</td>\n",
       "      <td>NaN</td>\n",
       "      <td>NaN</td>\n",
       "      <td>NaN</td>\n",
       "      <td>NaN</td>\n",
       "      <td>NaN</td>\n",
       "    </tr>\n",
       "    <tr>\n",
       "      <th>...</th>\n",
       "      <td>...</td>\n",
       "      <td>...</td>\n",
       "      <td>...</td>\n",
       "      <td>...</td>\n",
       "      <td>...</td>\n",
       "      <td>...</td>\n",
       "      <td>...</td>\n",
       "      <td>...</td>\n",
       "      <td>...</td>\n",
       "      <td>...</td>\n",
       "      <td>...</td>\n",
       "      <td>...</td>\n",
       "      <td>...</td>\n",
       "      <td>...</td>\n",
       "      <td>...</td>\n",
       "      <td>...</td>\n",
       "      <td>...</td>\n",
       "      <td>...</td>\n",
       "      <td>...</td>\n",
       "      <td>...</td>\n",
       "      <td>...</td>\n",
       "      <td>...</td>\n",
       "      <td>...</td>\n",
       "      <td>...</td>\n",
       "      <td>...</td>\n",
       "      <td>...</td>\n",
       "      <td>...</td>\n",
       "      <td>...</td>\n",
       "      <td>...</td>\n",
       "      <td>...</td>\n",
       "    </tr>\n",
       "    <tr>\n",
       "      <th>1936753</th>\n",
       "      <td>7009710</td>\n",
       "      <td>2008</td>\n",
       "      <td>12</td>\n",
       "      <td>13</td>\n",
       "      <td>6</td>\n",
       "      <td>1250.0</td>\n",
       "      <td>1220</td>\n",
       "      <td>1617.0</td>\n",
       "      <td>1552</td>\n",
       "      <td>DL</td>\n",
       "      <td>1621</td>\n",
       "      <td>N938DL</td>\n",
       "      <td>147.0</td>\n",
       "      <td>152.0</td>\n",
       "      <td>120.0</td>\n",
       "      <td>25.0</td>\n",
       "      <td>30.0</td>\n",
       "      <td>MSP</td>\n",
       "      <td>ATL</td>\n",
       "      <td>906</td>\n",
       "      <td>9.0</td>\n",
       "      <td>18.0</td>\n",
       "      <td>0</td>\n",
       "      <td>N</td>\n",
       "      <td>0</td>\n",
       "      <td>3.0</td>\n",
       "      <td>0.0</td>\n",
       "      <td>0.0</td>\n",
       "      <td>0.0</td>\n",
       "      <td>22.0</td>\n",
       "    </tr>\n",
       "    <tr>\n",
       "      <th>1936754</th>\n",
       "      <td>7009717</td>\n",
       "      <td>2008</td>\n",
       "      <td>12</td>\n",
       "      <td>13</td>\n",
       "      <td>6</td>\n",
       "      <td>657.0</td>\n",
       "      <td>600</td>\n",
       "      <td>904.0</td>\n",
       "      <td>749</td>\n",
       "      <td>DL</td>\n",
       "      <td>1631</td>\n",
       "      <td>N3743H</td>\n",
       "      <td>127.0</td>\n",
       "      <td>109.0</td>\n",
       "      <td>78.0</td>\n",
       "      <td>75.0</td>\n",
       "      <td>57.0</td>\n",
       "      <td>RIC</td>\n",
       "      <td>ATL</td>\n",
       "      <td>481</td>\n",
       "      <td>15.0</td>\n",
       "      <td>34.0</td>\n",
       "      <td>0</td>\n",
       "      <td>N</td>\n",
       "      <td>0</td>\n",
       "      <td>0.0</td>\n",
       "      <td>57.0</td>\n",
       "      <td>18.0</td>\n",
       "      <td>0.0</td>\n",
       "      <td>0.0</td>\n",
       "    </tr>\n",
       "    <tr>\n",
       "      <th>1936755</th>\n",
       "      <td>7009718</td>\n",
       "      <td>2008</td>\n",
       "      <td>12</td>\n",
       "      <td>13</td>\n",
       "      <td>6</td>\n",
       "      <td>1007.0</td>\n",
       "      <td>847</td>\n",
       "      <td>1149.0</td>\n",
       "      <td>1010</td>\n",
       "      <td>DL</td>\n",
       "      <td>1631</td>\n",
       "      <td>N909DA</td>\n",
       "      <td>162.0</td>\n",
       "      <td>143.0</td>\n",
       "      <td>122.0</td>\n",
       "      <td>99.0</td>\n",
       "      <td>80.0</td>\n",
       "      <td>ATL</td>\n",
       "      <td>IAH</td>\n",
       "      <td>689</td>\n",
       "      <td>8.0</td>\n",
       "      <td>32.0</td>\n",
       "      <td>0</td>\n",
       "      <td>N</td>\n",
       "      <td>0</td>\n",
       "      <td>1.0</td>\n",
       "      <td>0.0</td>\n",
       "      <td>19.0</td>\n",
       "      <td>0.0</td>\n",
       "      <td>79.0</td>\n",
       "    </tr>\n",
       "    <tr>\n",
       "      <th>1936756</th>\n",
       "      <td>7009726</td>\n",
       "      <td>2008</td>\n",
       "      <td>12</td>\n",
       "      <td>13</td>\n",
       "      <td>6</td>\n",
       "      <td>1251.0</td>\n",
       "      <td>1240</td>\n",
       "      <td>1446.0</td>\n",
       "      <td>1437</td>\n",
       "      <td>DL</td>\n",
       "      <td>1639</td>\n",
       "      <td>N646DL</td>\n",
       "      <td>115.0</td>\n",
       "      <td>117.0</td>\n",
       "      <td>89.0</td>\n",
       "      <td>9.0</td>\n",
       "      <td>11.0</td>\n",
       "      <td>IAD</td>\n",
       "      <td>ATL</td>\n",
       "      <td>533</td>\n",
       "      <td>13.0</td>\n",
       "      <td>13.0</td>\n",
       "      <td>0</td>\n",
       "      <td>N</td>\n",
       "      <td>0</td>\n",
       "      <td>NaN</td>\n",
       "      <td>NaN</td>\n",
       "      <td>NaN</td>\n",
       "      <td>NaN</td>\n",
       "      <td>NaN</td>\n",
       "    </tr>\n",
       "    <tr>\n",
       "      <th>1936757</th>\n",
       "      <td>7009727</td>\n",
       "      <td>2008</td>\n",
       "      <td>12</td>\n",
       "      <td>13</td>\n",
       "      <td>6</td>\n",
       "      <td>1110.0</td>\n",
       "      <td>1103</td>\n",
       "      <td>1413.0</td>\n",
       "      <td>1418</td>\n",
       "      <td>DL</td>\n",
       "      <td>1641</td>\n",
       "      <td>N908DL</td>\n",
       "      <td>123.0</td>\n",
       "      <td>135.0</td>\n",
       "      <td>104.0</td>\n",
       "      <td>-5.0</td>\n",
       "      <td>7.0</td>\n",
       "      <td>SAT</td>\n",
       "      <td>ATL</td>\n",
       "      <td>874</td>\n",
       "      <td>8.0</td>\n",
       "      <td>11.0</td>\n",
       "      <td>0</td>\n",
       "      <td>N</td>\n",
       "      <td>0</td>\n",
       "      <td>NaN</td>\n",
       "      <td>NaN</td>\n",
       "      <td>NaN</td>\n",
       "      <td>NaN</td>\n",
       "      <td>NaN</td>\n",
       "    </tr>\n",
       "  </tbody>\n",
       "</table>\n",
       "<p>1936758 rows × 30 columns</p>\n",
       "</div>"
      ],
      "text/plain": [
       "         Unnamed: 0  Year  Month  DayofMonth  DayOfWeek  DepTime  CRSDepTime  ArrTime  CRSArrTime UniqueCarrier  FlightNum TailNum  ActualElapsedTime  CRSElapsedTime  AirTime  ArrDelay  DepDelay Origin Dest  Distance  TaxiIn  TaxiOut  Cancelled CancellationCode  Diverted  CarrierDelay  WeatherDelay  NASDelay  SecurityDelay  LateAircraftDelay\n",
       "0                 0  2008      1           3          4   2003.0        1955   2211.0        2225            WN        335  N712SW              128.0           150.0    116.0     -14.0       8.0    IAD  TPA       810     4.0      8.0          0                N         0           NaN           NaN       NaN            NaN                NaN\n",
       "1                 1  2008      1           3          4    754.0         735   1002.0        1000            WN       3231  N772SW              128.0           145.0    113.0       2.0      19.0    IAD  TPA       810     5.0     10.0          0                N         0           NaN           NaN       NaN            NaN                NaN\n",
       "2                 2  2008      1           3          4    628.0         620    804.0         750            WN        448  N428WN               96.0            90.0     76.0      14.0       8.0    IND  BWI       515     3.0     17.0          0                N         0           NaN           NaN       NaN            NaN                NaN\n",
       "3                 4  2008      1           3          4   1829.0        1755   1959.0        1925            WN       3920  N464WN               90.0            90.0     77.0      34.0      34.0    IND  BWI       515     3.0     10.0          0                N         0           2.0           0.0       0.0            0.0               32.0\n",
       "4                 5  2008      1           3          4   1940.0        1915   2121.0        2110            WN        378  N726SW              101.0           115.0     87.0      11.0      25.0    IND  JAX       688     4.0     10.0          0                N         0           NaN           NaN       NaN            NaN                NaN\n",
       "...             ...   ...    ...         ...        ...      ...         ...      ...         ...           ...        ...     ...                ...             ...      ...       ...       ...    ...  ...       ...     ...      ...        ...              ...       ...           ...           ...       ...            ...                ...\n",
       "1936753     7009710  2008     12          13          6   1250.0        1220   1617.0        1552            DL       1621  N938DL              147.0           152.0    120.0      25.0      30.0    MSP  ATL       906     9.0     18.0          0                N         0           3.0           0.0       0.0            0.0               22.0\n",
       "1936754     7009717  2008     12          13          6    657.0         600    904.0         749            DL       1631  N3743H              127.0           109.0     78.0      75.0      57.0    RIC  ATL       481    15.0     34.0          0                N         0           0.0          57.0      18.0            0.0                0.0\n",
       "1936755     7009718  2008     12          13          6   1007.0         847   1149.0        1010            DL       1631  N909DA              162.0           143.0    122.0      99.0      80.0    ATL  IAH       689     8.0     32.0          0                N         0           1.0           0.0      19.0            0.0               79.0\n",
       "1936756     7009726  2008     12          13          6   1251.0        1240   1446.0        1437            DL       1639  N646DL              115.0           117.0     89.0       9.0      11.0    IAD  ATL       533    13.0     13.0          0                N         0           NaN           NaN       NaN            NaN                NaN\n",
       "1936757     7009727  2008     12          13          6   1110.0        1103   1413.0        1418            DL       1641  N908DL              123.0           135.0    104.0      -5.0       7.0    SAT  ATL       874     8.0     11.0          0                N         0           NaN           NaN       NaN            NaN                NaN\n",
       "\n",
       "[1936758 rows x 30 columns]"
      ]
     },
     "execution_count": 538,
     "metadata": {},
     "output_type": "execute_result"
    }
   ],
   "source": [
    "df = pd.read_csv('C:\\\\Users\\\\comercial7\\\\Documents\\\\PERSONAL\\\\datascience\\\\DelayedFlights.csv', sep=\",\", encoding='utf8')\n",
    "df_original = df.copy()\n",
    "df"
   ]
  },
  {
   "cell_type": "code",
   "execution_count": 539,
   "id": "2eee3442",
   "metadata": {},
   "outputs": [
    {
     "name": "stdout",
     "output_type": "stream",
     "text": [
      "<class 'pandas.core.frame.DataFrame'>\n",
      "RangeIndex: 1936758 entries, 0 to 1936757\n",
      "Data columns (total 30 columns):\n",
      " #   Column             Dtype  \n",
      "---  ------             -----  \n",
      " 0   Unnamed: 0         int64  \n",
      " 1   Year               int64  \n",
      " 2   Month              int64  \n",
      " 3   DayofMonth         int64  \n",
      " 4   DayOfWeek          int64  \n",
      " 5   DepTime            float64\n",
      " 6   CRSDepTime         int64  \n",
      " 7   ArrTime            float64\n",
      " 8   CRSArrTime         int64  \n",
      " 9   UniqueCarrier      object \n",
      " 10  FlightNum          int64  \n",
      " 11  TailNum            object \n",
      " 12  ActualElapsedTime  float64\n",
      " 13  CRSElapsedTime     float64\n",
      " 14  AirTime            float64\n",
      " 15  ArrDelay           float64\n",
      " 16  DepDelay           float64\n",
      " 17  Origin             object \n",
      " 18  Dest               object \n",
      " 19  Distance           int64  \n",
      " 20  TaxiIn             float64\n",
      " 21  TaxiOut            float64\n",
      " 22  Cancelled          int64  \n",
      " 23  CancellationCode   object \n",
      " 24  Diverted           int64  \n",
      " 25  CarrierDelay       float64\n",
      " 26  WeatherDelay       float64\n",
      " 27  NASDelay           float64\n",
      " 28  SecurityDelay      float64\n",
      " 29  LateAircraftDelay  float64\n",
      "dtypes: float64(14), int64(11), object(5)\n",
      "memory usage: 443.3+ MB\n"
     ]
    }
   ],
   "source": [
    "df.info()\n"
   ]
  },
  {
   "cell_type": "code",
   "execution_count": 540,
   "id": "ece0f27e",
   "metadata": {},
   "outputs": [
    {
     "data": {
      "text/plain": [
       "(1936758, 30)"
      ]
     },
     "execution_count": 540,
     "metadata": {},
     "output_type": "execute_result"
    }
   ],
   "source": [
    "df.shape\n"
   ]
  },
  {
   "cell_type": "code",
   "execution_count": 541,
   "id": "5ddb60dc",
   "metadata": {},
   "outputs": [
    {
     "data": {
      "text/plain": [
       "Index(['Unnamed: 0', 'Year', 'Month', 'DayofMonth', 'DayOfWeek', 'DepTime', 'CRSDepTime', 'ArrTime', 'CRSArrTime', 'UniqueCarrier', 'FlightNum', 'TailNum', 'ActualElapsedTime', 'CRSElapsedTime', 'AirTime', 'ArrDelay', 'DepDelay', 'Origin', 'Dest', 'Distance', 'TaxiIn', 'TaxiOut', 'Cancelled', 'CancellationCode', 'Diverted', 'CarrierDelay', 'WeatherDelay', 'NASDelay', 'SecurityDelay', 'LateAircraftDelay'], dtype='object')"
      ]
     },
     "execution_count": 541,
     "metadata": {},
     "output_type": "execute_result"
    }
   ],
   "source": [
    "df.columns"
   ]
  },
  {
   "cell_type": "code",
   "execution_count": 542,
   "id": "a34a7f33",
   "metadata": {},
   "outputs": [
    {
     "name": "stdout",
     "output_type": "stream",
     "text": [
      "Total Number of NaN values: \n",
      "Unnamed: 0                0\n",
      "Year                      0\n",
      "Month                     0\n",
      "DayofMonth                0\n",
      "DayOfWeek                 0\n",
      "DepTime                   0\n",
      "CRSDepTime                0\n",
      "ArrTime                7110\n",
      "CRSArrTime                0\n",
      "UniqueCarrier             0\n",
      "FlightNum                 0\n",
      "TailNum                   5\n",
      "ActualElapsedTime      8387\n",
      "CRSElapsedTime          198\n",
      "AirTime                8387\n",
      "ArrDelay               8387\n",
      "DepDelay                  0\n",
      "Origin                    0\n",
      "Dest                      0\n",
      "Distance                  0\n",
      "TaxiIn                 7110\n",
      "TaxiOut                 455\n",
      "Cancelled                 0\n",
      "CancellationCode          0\n",
      "Diverted                  0\n",
      "CarrierDelay         689270\n",
      "WeatherDelay         689270\n",
      "NASDelay             689270\n",
      "SecurityDelay        689270\n",
      "LateAircraftDelay    689270\n",
      "dtype: int64\n"
     ]
    }
   ],
   "source": [
    "# Miramos los valores NaN que tienen las columnas\n",
    "# Comprabamos las columnas que tienen valores NaN, ya que los modelos de regresión en python no aceptan estos valores\n",
    "\n",
    "total_nan_values = df.isna().sum()\n",
    "print (\"Total Number of NaN values: \"+'\\n'+str(total_nan_values))\n",
    "\n",
    "#Para acceder a los valores de las columnas por si hay que hacer alguna automatizacion\n",
    "#total_nan_values.values"
   ]
  },
  {
   "cell_type": "code",
   "execution_count": 543,
   "id": "f6b1b92c",
   "metadata": {},
   "outputs": [
    {
     "data": {
      "text/html": [
       "<div>\n",
       "<style scoped>\n",
       "    .dataframe tbody tr th:only-of-type {\n",
       "        vertical-align: middle;\n",
       "    }\n",
       "\n",
       "    .dataframe tbody tr th {\n",
       "        vertical-align: top;\n",
       "    }\n",
       "\n",
       "    .dataframe thead th {\n",
       "        text-align: right;\n",
       "    }\n",
       "</style>\n",
       "<table border=\"1\" class=\"dataframe\">\n",
       "  <thead>\n",
       "    <tr style=\"text-align: right;\">\n",
       "      <th></th>\n",
       "      <th>Unnamed: 0</th>\n",
       "      <th>Year</th>\n",
       "      <th>Month</th>\n",
       "      <th>DayofMonth</th>\n",
       "      <th>DayOfWeek</th>\n",
       "      <th>DepTime</th>\n",
       "      <th>CRSDepTime</th>\n",
       "      <th>ArrTime</th>\n",
       "      <th>CRSArrTime</th>\n",
       "      <th>FlightNum</th>\n",
       "      <th>ActualElapsedTime</th>\n",
       "      <th>CRSElapsedTime</th>\n",
       "      <th>AirTime</th>\n",
       "      <th>ArrDelay</th>\n",
       "      <th>DepDelay</th>\n",
       "      <th>Distance</th>\n",
       "      <th>TaxiIn</th>\n",
       "      <th>TaxiOut</th>\n",
       "      <th>Cancelled</th>\n",
       "      <th>Diverted</th>\n",
       "      <th>CarrierDelay</th>\n",
       "      <th>WeatherDelay</th>\n",
       "      <th>NASDelay</th>\n",
       "      <th>SecurityDelay</th>\n",
       "      <th>LateAircraftDelay</th>\n",
       "    </tr>\n",
       "  </thead>\n",
       "  <tbody>\n",
       "    <tr>\n",
       "      <th>Unnamed: 0</th>\n",
       "      <td>1.000000</td>\n",
       "      <td>NaN</td>\n",
       "      <td>0.996163</td>\n",
       "      <td>0.055479</td>\n",
       "      <td>-0.000094</td>\n",
       "      <td>-0.009365</td>\n",
       "      <td>-0.012203</td>\n",
       "      <td>-0.000092</td>\n",
       "      <td>0.002347</td>\n",
       "      <td>-0.018826</td>\n",
       "      <td>0.025926</td>\n",
       "      <td>0.029418</td>\n",
       "      <td>0.021031</td>\n",
       "      <td>0.002571</td>\n",
       "      <td>0.006899</td>\n",
       "      <td>0.026011</td>\n",
       "      <td>0.033385</td>\n",
       "      <td>0.017770</td>\n",
       "      <td>0.028348</td>\n",
       "      <td>0.006663</td>\n",
       "      <td>0.003528</td>\n",
       "      <td>0.005581</td>\n",
       "      <td>0.017511</td>\n",
       "      <td>-0.003797</td>\n",
       "      <td>0.001457</td>\n",
       "    </tr>\n",
       "    <tr>\n",
       "      <th>Year</th>\n",
       "      <td>NaN</td>\n",
       "      <td>NaN</td>\n",
       "      <td>NaN</td>\n",
       "      <td>NaN</td>\n",
       "      <td>NaN</td>\n",
       "      <td>NaN</td>\n",
       "      <td>NaN</td>\n",
       "      <td>NaN</td>\n",
       "      <td>NaN</td>\n",
       "      <td>NaN</td>\n",
       "      <td>NaN</td>\n",
       "      <td>NaN</td>\n",
       "      <td>NaN</td>\n",
       "      <td>NaN</td>\n",
       "      <td>NaN</td>\n",
       "      <td>NaN</td>\n",
       "      <td>NaN</td>\n",
       "      <td>NaN</td>\n",
       "      <td>NaN</td>\n",
       "      <td>NaN</td>\n",
       "      <td>NaN</td>\n",
       "      <td>NaN</td>\n",
       "      <td>NaN</td>\n",
       "      <td>NaN</td>\n",
       "      <td>NaN</td>\n",
       "    </tr>\n",
       "    <tr>\n",
       "      <th>Month</th>\n",
       "      <td>0.996163</td>\n",
       "      <td>NaN</td>\n",
       "      <td>1.000000</td>\n",
       "      <td>0.059651</td>\n",
       "      <td>0.000088</td>\n",
       "      <td>-0.007809</td>\n",
       "      <td>-0.011367</td>\n",
       "      <td>0.001014</td>\n",
       "      <td>0.001367</td>\n",
       "      <td>-0.000188</td>\n",
       "      <td>0.002684</td>\n",
       "      <td>0.007046</td>\n",
       "      <td>0.000860</td>\n",
       "      <td>-0.000897</td>\n",
       "      <td>0.004769</td>\n",
       "      <td>0.005498</td>\n",
       "      <td>0.019705</td>\n",
       "      <td>0.002574</td>\n",
       "      <td>0.028837</td>\n",
       "      <td>0.006467</td>\n",
       "      <td>0.000420</td>\n",
       "      <td>0.006611</td>\n",
       "      <td>0.011441</td>\n",
       "      <td>-0.003066</td>\n",
       "      <td>0.004953</td>\n",
       "    </tr>\n",
       "    <tr>\n",
       "      <th>DayofMonth</th>\n",
       "      <td>0.055479</td>\n",
       "      <td>NaN</td>\n",
       "      <td>0.059651</td>\n",
       "      <td>1.000000</td>\n",
       "      <td>0.017476</td>\n",
       "      <td>0.001014</td>\n",
       "      <td>0.001019</td>\n",
       "      <td>0.000833</td>\n",
       "      <td>0.000758</td>\n",
       "      <td>-0.005912</td>\n",
       "      <td>-0.000880</td>\n",
       "      <td>-0.000028</td>\n",
       "      <td>-0.000244</td>\n",
       "      <td>0.004129</td>\n",
       "      <td>0.005289</td>\n",
       "      <td>0.000117</td>\n",
       "      <td>-0.002926</td>\n",
       "      <td>-0.002201</td>\n",
       "      <td>0.004671</td>\n",
       "      <td>0.001190</td>\n",
       "      <td>-0.000947</td>\n",
       "      <td>0.000916</td>\n",
       "      <td>0.005644</td>\n",
       "      <td>-0.000308</td>\n",
       "      <td>0.009100</td>\n",
       "    </tr>\n",
       "    <tr>\n",
       "      <th>DayOfWeek</th>\n",
       "      <td>-0.000094</td>\n",
       "      <td>NaN</td>\n",
       "      <td>0.000088</td>\n",
       "      <td>0.017476</td>\n",
       "      <td>1.000000</td>\n",
       "      <td>0.021924</td>\n",
       "      <td>0.027039</td>\n",
       "      <td>0.010913</td>\n",
       "      <td>0.017750</td>\n",
       "      <td>-0.009769</td>\n",
       "      <td>0.003072</td>\n",
       "      <td>0.004954</td>\n",
       "      <td>0.004738</td>\n",
       "      <td>0.006123</td>\n",
       "      <td>0.008538</td>\n",
       "      <td>0.008138</td>\n",
       "      <td>0.008516</td>\n",
       "      <td>-0.010302</td>\n",
       "      <td>0.000023</td>\n",
       "      <td>-0.001361</td>\n",
       "      <td>0.010215</td>\n",
       "      <td>0.005654</td>\n",
       "      <td>-0.006628</td>\n",
       "      <td>0.004665</td>\n",
       "      <td>0.008839</td>\n",
       "    </tr>\n",
       "    <tr>\n",
       "      <th>DepTime</th>\n",
       "      <td>-0.009365</td>\n",
       "      <td>NaN</td>\n",
       "      <td>-0.007809</td>\n",
       "      <td>0.001014</td>\n",
       "      <td>0.021924</td>\n",
       "      <td>1.000000</td>\n",
       "      <td>0.881598</td>\n",
       "      <td>0.458934</td>\n",
       "      <td>0.711513</td>\n",
       "      <td>-0.024786</td>\n",
       "      <td>-0.047040</td>\n",
       "      <td>-0.044619</td>\n",
       "      <td>-0.054831</td>\n",
       "      <td>0.127017</td>\n",
       "      <td>0.139254</td>\n",
       "      <td>-0.056003</td>\n",
       "      <td>-0.012023</td>\n",
       "      <td>0.030481</td>\n",
       "      <td>0.002280</td>\n",
       "      <td>-0.004632</td>\n",
       "      <td>-0.051948</td>\n",
       "      <td>0.005307</td>\n",
       "      <td>0.022530</td>\n",
       "      <td>-0.015273</td>\n",
       "      <td>0.169453</td>\n",
       "    </tr>\n",
       "    <tr>\n",
       "      <th>CRSDepTime</th>\n",
       "      <td>-0.012203</td>\n",
       "      <td>NaN</td>\n",
       "      <td>-0.011367</td>\n",
       "      <td>0.001019</td>\n",
       "      <td>0.027039</td>\n",
       "      <td>0.881598</td>\n",
       "      <td>1.000000</td>\n",
       "      <td>0.396724</td>\n",
       "      <td>0.710303</td>\n",
       "      <td>-0.054808</td>\n",
       "      <td>-0.034925</td>\n",
       "      <td>-0.026388</td>\n",
       "      <td>-0.036582</td>\n",
       "      <td>0.044447</td>\n",
       "      <td>0.058875</td>\n",
       "      <td>-0.029517</td>\n",
       "      <td>-0.032379</td>\n",
       "      <td>0.011408</td>\n",
       "      <td>0.000023</td>\n",
       "      <td>-0.009096</td>\n",
       "      <td>-0.107337</td>\n",
       "      <td>-0.009338</td>\n",
       "      <td>-0.032701</td>\n",
       "      <td>-0.017064</td>\n",
       "      <td>0.167734</td>\n",
       "    </tr>\n",
       "    <tr>\n",
       "      <th>ArrTime</th>\n",
       "      <td>-0.000092</td>\n",
       "      <td>NaN</td>\n",
       "      <td>0.001014</td>\n",
       "      <td>0.000833</td>\n",
       "      <td>0.010913</td>\n",
       "      <td>0.458934</td>\n",
       "      <td>0.396724</td>\n",
       "      <td>1.000000</td>\n",
       "      <td>0.619385</td>\n",
       "      <td>-0.013665</td>\n",
       "      <td>-0.013595</td>\n",
       "      <td>-0.012911</td>\n",
       "      <td>-0.017684</td>\n",
       "      <td>-0.050948</td>\n",
       "      <td>-0.053024</td>\n",
       "      <td>-0.027751</td>\n",
       "      <td>0.039818</td>\n",
       "      <td>0.001430</td>\n",
       "      <td>NaN</td>\n",
       "      <td>-0.007204</td>\n",
       "      <td>-0.083981</td>\n",
       "      <td>-0.029860</td>\n",
       "      <td>0.032395</td>\n",
       "      <td>-0.007417</td>\n",
       "      <td>-0.037949</td>\n",
       "    </tr>\n",
       "    <tr>\n",
       "      <th>CRSArrTime</th>\n",
       "      <td>0.002347</td>\n",
       "      <td>NaN</td>\n",
       "      <td>0.001367</td>\n",
       "      <td>0.000758</td>\n",
       "      <td>0.017750</td>\n",
       "      <td>0.711513</td>\n",
       "      <td>0.710303</td>\n",
       "      <td>0.619385</td>\n",
       "      <td>1.000000</td>\n",
       "      <td>-0.060006</td>\n",
       "      <td>0.033203</td>\n",
       "      <td>0.040117</td>\n",
       "      <td>0.025907</td>\n",
       "      <td>0.043078</td>\n",
       "      <td>0.053706</td>\n",
       "      <td>0.024335</td>\n",
       "      <td>0.013819</td>\n",
       "      <td>0.037942</td>\n",
       "      <td>0.000201</td>\n",
       "      <td>0.000907</td>\n",
       "      <td>-0.096156</td>\n",
       "      <td>-0.005033</td>\n",
       "      <td>0.009227</td>\n",
       "      <td>-0.013349</td>\n",
       "      <td>0.131467</td>\n",
       "    </tr>\n",
       "    <tr>\n",
       "      <th>FlightNum</th>\n",
       "      <td>-0.018826</td>\n",
       "      <td>NaN</td>\n",
       "      <td>-0.000188</td>\n",
       "      <td>-0.005912</td>\n",
       "      <td>-0.009769</td>\n",
       "      <td>-0.024786</td>\n",
       "      <td>-0.054808</td>\n",
       "      <td>-0.013665</td>\n",
       "      <td>-0.060006</td>\n",
       "      <td>1.000000</td>\n",
       "      <td>-0.322283</td>\n",
       "      <td>-0.335956</td>\n",
       "      <td>-0.341250</td>\n",
       "      <td>0.061266</td>\n",
       "      <td>0.051852</td>\n",
       "      <td>-0.356770</td>\n",
       "      <td>-0.003918</td>\n",
       "      <td>0.015524</td>\n",
       "      <td>0.009147</td>\n",
       "      <td>-0.002885</td>\n",
       "      <td>0.055712</td>\n",
       "      <td>0.067488</td>\n",
       "      <td>0.015405</td>\n",
       "      <td>-0.002809</td>\n",
       "      <td>-0.052708</td>\n",
       "    </tr>\n",
       "    <tr>\n",
       "      <th>ActualElapsedTime</th>\n",
       "      <td>0.025926</td>\n",
       "      <td>NaN</td>\n",
       "      <td>0.002684</td>\n",
       "      <td>-0.000880</td>\n",
       "      <td>0.003072</td>\n",
       "      <td>-0.047040</td>\n",
       "      <td>-0.034925</td>\n",
       "      <td>-0.013595</td>\n",
       "      <td>0.033203</td>\n",
       "      <td>-0.322283</td>\n",
       "      <td>1.000000</td>\n",
       "      <td>0.971122</td>\n",
       "      <td>0.976660</td>\n",
       "      <td>0.068130</td>\n",
       "      <td>0.018492</td>\n",
       "      <td>0.952980</td>\n",
       "      <td>0.166348</td>\n",
       "      <td>0.289568</td>\n",
       "      <td>NaN</td>\n",
       "      <td>NaN</td>\n",
       "      <td>0.009962</td>\n",
       "      <td>0.004066</td>\n",
       "      <td>0.177135</td>\n",
       "      <td>0.005720</td>\n",
       "      <td>-0.034204</td>\n",
       "    </tr>\n",
       "    <tr>\n",
       "      <th>CRSElapsedTime</th>\n",
       "      <td>0.029418</td>\n",
       "      <td>NaN</td>\n",
       "      <td>0.007046</td>\n",
       "      <td>-0.000028</td>\n",
       "      <td>0.004954</td>\n",
       "      <td>-0.044619</td>\n",
       "      <td>-0.026388</td>\n",
       "      <td>-0.012911</td>\n",
       "      <td>0.040117</td>\n",
       "      <td>-0.335956</td>\n",
       "      <td>0.971122</td>\n",
       "      <td>1.000000</td>\n",
       "      <td>0.986086</td>\n",
       "      <td>-0.015676</td>\n",
       "      <td>0.007001</td>\n",
       "      <td>0.981759</td>\n",
       "      <td>0.099646</td>\n",
       "      <td>0.123839</td>\n",
       "      <td>-0.003916</td>\n",
       "      <td>0.024660</td>\n",
       "      <td>0.026586</td>\n",
       "      <td>-0.016478</td>\n",
       "      <td>0.046964</td>\n",
       "      <td>0.006104</td>\n",
       "      <td>-0.011584</td>\n",
       "    </tr>\n",
       "    <tr>\n",
       "      <th>AirTime</th>\n",
       "      <td>0.021031</td>\n",
       "      <td>NaN</td>\n",
       "      <td>0.000860</td>\n",
       "      <td>-0.000244</td>\n",
       "      <td>0.004738</td>\n",
       "      <td>-0.054831</td>\n",
       "      <td>-0.036582</td>\n",
       "      <td>-0.017684</td>\n",
       "      <td>0.025907</td>\n",
       "      <td>-0.341250</td>\n",
       "      <td>0.976660</td>\n",
       "      <td>0.986086</td>\n",
       "      <td>1.000000</td>\n",
       "      <td>-0.000189</td>\n",
       "      <td>-0.002753</td>\n",
       "      <td>0.980294</td>\n",
       "      <td>0.083926</td>\n",
       "      <td>0.090398</td>\n",
       "      <td>NaN</td>\n",
       "      <td>NaN</td>\n",
       "      <td>0.019547</td>\n",
       "      <td>-0.018325</td>\n",
       "      <td>0.062793</td>\n",
       "      <td>0.007155</td>\n",
       "      <td>-0.021997</td>\n",
       "    </tr>\n",
       "    <tr>\n",
       "      <th>ArrDelay</th>\n",
       "      <td>0.002571</td>\n",
       "      <td>NaN</td>\n",
       "      <td>-0.000897</td>\n",
       "      <td>0.004129</td>\n",
       "      <td>0.006123</td>\n",
       "      <td>0.127017</td>\n",
       "      <td>0.044447</td>\n",
       "      <td>-0.050948</td>\n",
       "      <td>0.043078</td>\n",
       "      <td>0.061266</td>\n",
       "      <td>0.068130</td>\n",
       "      <td>-0.015676</td>\n",
       "      <td>-0.000189</td>\n",
       "      <td>1.000000</td>\n",
       "      <td>0.952927</td>\n",
       "      <td>-0.029853</td>\n",
       "      <td>0.156277</td>\n",
       "      <td>0.286484</td>\n",
       "      <td>NaN</td>\n",
       "      <td>NaN</td>\n",
       "      <td>0.501773</td>\n",
       "      <td>0.264624</td>\n",
       "      <td>0.387606</td>\n",
       "      <td>-0.002488</td>\n",
       "      <td>0.478123</td>\n",
       "    </tr>\n",
       "    <tr>\n",
       "      <th>DepDelay</th>\n",
       "      <td>0.006899</td>\n",
       "      <td>NaN</td>\n",
       "      <td>0.004769</td>\n",
       "      <td>0.005289</td>\n",
       "      <td>0.008538</td>\n",
       "      <td>0.139254</td>\n",
       "      <td>0.058875</td>\n",
       "      <td>-0.053024</td>\n",
       "      <td>0.053706</td>\n",
       "      <td>0.051852</td>\n",
       "      <td>0.018492</td>\n",
       "      <td>0.007001</td>\n",
       "      <td>-0.002753</td>\n",
       "      <td>0.952927</td>\n",
       "      <td>1.000000</td>\n",
       "      <td>-0.007718</td>\n",
       "      <td>0.074748</td>\n",
       "      <td>0.078676</td>\n",
       "      <td>0.016542</td>\n",
       "      <td>0.022867</td>\n",
       "      <td>0.528038</td>\n",
       "      <td>0.244488</td>\n",
       "      <td>0.233976</td>\n",
       "      <td>-0.002343</td>\n",
       "      <td>0.513041</td>\n",
       "    </tr>\n",
       "    <tr>\n",
       "      <th>Distance</th>\n",
       "      <td>0.026011</td>\n",
       "      <td>NaN</td>\n",
       "      <td>0.005498</td>\n",
       "      <td>0.000117</td>\n",
       "      <td>0.008138</td>\n",
       "      <td>-0.056003</td>\n",
       "      <td>-0.029517</td>\n",
       "      <td>-0.027751</td>\n",
       "      <td>0.024335</td>\n",
       "      <td>-0.356770</td>\n",
       "      <td>0.952980</td>\n",
       "      <td>0.981759</td>\n",
       "      <td>0.980294</td>\n",
       "      <td>-0.029853</td>\n",
       "      <td>-0.007718</td>\n",
       "      <td>1.000000</td>\n",
       "      <td>0.072284</td>\n",
       "      <td>0.070298</td>\n",
       "      <td>-0.005060</td>\n",
       "      <td>0.021692</td>\n",
       "      <td>0.028443</td>\n",
       "      <td>-0.023819</td>\n",
       "      <td>0.018109</td>\n",
       "      <td>0.007029</td>\n",
       "      <td>-0.010578</td>\n",
       "    </tr>\n",
       "    <tr>\n",
       "      <th>TaxiIn</th>\n",
       "      <td>0.033385</td>\n",
       "      <td>NaN</td>\n",
       "      <td>0.019705</td>\n",
       "      <td>-0.002926</td>\n",
       "      <td>0.008516</td>\n",
       "      <td>-0.012023</td>\n",
       "      <td>-0.032379</td>\n",
       "      <td>0.039818</td>\n",
       "      <td>0.013819</td>\n",
       "      <td>-0.003918</td>\n",
       "      <td>0.166348</td>\n",
       "      <td>0.099646</td>\n",
       "      <td>0.083926</td>\n",
       "      <td>0.156277</td>\n",
       "      <td>0.074748</td>\n",
       "      <td>0.072284</td>\n",
       "      <td>1.000000</td>\n",
       "      <td>0.066936</td>\n",
       "      <td>NaN</td>\n",
       "      <td>0.011696</td>\n",
       "      <td>-0.021982</td>\n",
       "      <td>0.025661</td>\n",
       "      <td>0.229828</td>\n",
       "      <td>-0.004905</td>\n",
       "      <td>-0.006983</td>\n",
       "    </tr>\n",
       "    <tr>\n",
       "      <th>TaxiOut</th>\n",
       "      <td>0.017770</td>\n",
       "      <td>NaN</td>\n",
       "      <td>0.002574</td>\n",
       "      <td>-0.002201</td>\n",
       "      <td>-0.010302</td>\n",
       "      <td>0.030481</td>\n",
       "      <td>0.011408</td>\n",
       "      <td>0.001430</td>\n",
       "      <td>0.037942</td>\n",
       "      <td>0.015524</td>\n",
       "      <td>0.289568</td>\n",
       "      <td>0.123839</td>\n",
       "      <td>0.090398</td>\n",
       "      <td>0.286484</td>\n",
       "      <td>0.078676</td>\n",
       "      <td>0.070298</td>\n",
       "      <td>0.066936</td>\n",
       "      <td>1.000000</td>\n",
       "      <td>0.003943</td>\n",
       "      <td>0.015760</td>\n",
       "      <td>-0.028763</td>\n",
       "      <td>0.083243</td>\n",
       "      <td>0.427987</td>\n",
       "      <td>-0.002681</td>\n",
       "      <td>-0.055821</td>\n",
       "    </tr>\n",
       "    <tr>\n",
       "      <th>Cancelled</th>\n",
       "      <td>0.028348</td>\n",
       "      <td>NaN</td>\n",
       "      <td>0.028837</td>\n",
       "      <td>0.004671</td>\n",
       "      <td>0.000023</td>\n",
       "      <td>0.002280</td>\n",
       "      <td>0.000023</td>\n",
       "      <td>NaN</td>\n",
       "      <td>0.000201</td>\n",
       "      <td>0.009147</td>\n",
       "      <td>NaN</td>\n",
       "      <td>-0.003916</td>\n",
       "      <td>NaN</td>\n",
       "      <td>NaN</td>\n",
       "      <td>0.016542</td>\n",
       "      <td>-0.005060</td>\n",
       "      <td>NaN</td>\n",
       "      <td>0.003943</td>\n",
       "      <td>1.000000</td>\n",
       "      <td>-0.001146</td>\n",
       "      <td>NaN</td>\n",
       "      <td>NaN</td>\n",
       "      <td>NaN</td>\n",
       "      <td>NaN</td>\n",
       "      <td>NaN</td>\n",
       "    </tr>\n",
       "    <tr>\n",
       "      <th>Diverted</th>\n",
       "      <td>0.006663</td>\n",
       "      <td>NaN</td>\n",
       "      <td>0.006467</td>\n",
       "      <td>0.001190</td>\n",
       "      <td>-0.001361</td>\n",
       "      <td>-0.004632</td>\n",
       "      <td>-0.009096</td>\n",
       "      <td>-0.007204</td>\n",
       "      <td>0.000907</td>\n",
       "      <td>-0.002885</td>\n",
       "      <td>NaN</td>\n",
       "      <td>0.024660</td>\n",
       "      <td>NaN</td>\n",
       "      <td>NaN</td>\n",
       "      <td>0.022867</td>\n",
       "      <td>0.021692</td>\n",
       "      <td>0.011696</td>\n",
       "      <td>0.015760</td>\n",
       "      <td>-0.001146</td>\n",
       "      <td>1.000000</td>\n",
       "      <td>NaN</td>\n",
       "      <td>NaN</td>\n",
       "      <td>NaN</td>\n",
       "      <td>NaN</td>\n",
       "      <td>NaN</td>\n",
       "    </tr>\n",
       "    <tr>\n",
       "      <th>CarrierDelay</th>\n",
       "      <td>0.003528</td>\n",
       "      <td>NaN</td>\n",
       "      <td>0.000420</td>\n",
       "      <td>-0.000947</td>\n",
       "      <td>0.010215</td>\n",
       "      <td>-0.051948</td>\n",
       "      <td>-0.107337</td>\n",
       "      <td>-0.083981</td>\n",
       "      <td>-0.096156</td>\n",
       "      <td>0.055712</td>\n",
       "      <td>0.009962</td>\n",
       "      <td>0.026586</td>\n",
       "      <td>0.019547</td>\n",
       "      <td>0.501773</td>\n",
       "      <td>0.528038</td>\n",
       "      <td>0.028443</td>\n",
       "      <td>-0.021982</td>\n",
       "      <td>-0.028763</td>\n",
       "      <td>NaN</td>\n",
       "      <td>NaN</td>\n",
       "      <td>1.000000</td>\n",
       "      <td>-0.068951</td>\n",
       "      <td>-0.119534</td>\n",
       "      <td>-0.018537</td>\n",
       "      <td>-0.178286</td>\n",
       "    </tr>\n",
       "    <tr>\n",
       "      <th>WeatherDelay</th>\n",
       "      <td>0.005581</td>\n",
       "      <td>NaN</td>\n",
       "      <td>0.006611</td>\n",
       "      <td>0.000916</td>\n",
       "      <td>0.005654</td>\n",
       "      <td>0.005307</td>\n",
       "      <td>-0.009338</td>\n",
       "      <td>-0.029860</td>\n",
       "      <td>-0.005033</td>\n",
       "      <td>0.067488</td>\n",
       "      <td>0.004066</td>\n",
       "      <td>-0.016478</td>\n",
       "      <td>-0.018325</td>\n",
       "      <td>0.264624</td>\n",
       "      <td>0.244488</td>\n",
       "      <td>-0.023819</td>\n",
       "      <td>0.025661</td>\n",
       "      <td>0.083243</td>\n",
       "      <td>NaN</td>\n",
       "      <td>NaN</td>\n",
       "      <td>-0.068951</td>\n",
       "      <td>1.000000</td>\n",
       "      <td>-0.002553</td>\n",
       "      <td>-0.007511</td>\n",
       "      <td>-0.054971</td>\n",
       "    </tr>\n",
       "    <tr>\n",
       "      <th>NASDelay</th>\n",
       "      <td>0.017511</td>\n",
       "      <td>NaN</td>\n",
       "      <td>0.011441</td>\n",
       "      <td>0.005644</td>\n",
       "      <td>-0.006628</td>\n",
       "      <td>0.022530</td>\n",
       "      <td>-0.032701</td>\n",
       "      <td>0.032395</td>\n",
       "      <td>0.009227</td>\n",
       "      <td>0.015405</td>\n",
       "      <td>0.177135</td>\n",
       "      <td>0.046964</td>\n",
       "      <td>0.062793</td>\n",
       "      <td>0.387606</td>\n",
       "      <td>0.233976</td>\n",
       "      <td>0.018109</td>\n",
       "      <td>0.229828</td>\n",
       "      <td>0.427987</td>\n",
       "      <td>NaN</td>\n",
       "      <td>NaN</td>\n",
       "      <td>-0.119534</td>\n",
       "      <td>-0.002553</td>\n",
       "      <td>1.000000</td>\n",
       "      <td>-0.011723</td>\n",
       "      <td>-0.118905</td>\n",
       "    </tr>\n",
       "    <tr>\n",
       "      <th>SecurityDelay</th>\n",
       "      <td>-0.003797</td>\n",
       "      <td>NaN</td>\n",
       "      <td>-0.003066</td>\n",
       "      <td>-0.000308</td>\n",
       "      <td>0.004665</td>\n",
       "      <td>-0.015273</td>\n",
       "      <td>-0.017064</td>\n",
       "      <td>-0.007417</td>\n",
       "      <td>-0.013349</td>\n",
       "      <td>-0.002809</td>\n",
       "      <td>0.005720</td>\n",
       "      <td>0.006104</td>\n",
       "      <td>0.007155</td>\n",
       "      <td>-0.002488</td>\n",
       "      <td>-0.002343</td>\n",
       "      <td>0.007029</td>\n",
       "      <td>-0.004905</td>\n",
       "      <td>-0.002681</td>\n",
       "      <td>NaN</td>\n",
       "      <td>NaN</td>\n",
       "      <td>-0.018537</td>\n",
       "      <td>-0.007511</td>\n",
       "      <td>-0.011723</td>\n",
       "      <td>1.000000</td>\n",
       "      <td>-0.019227</td>\n",
       "    </tr>\n",
       "    <tr>\n",
       "      <th>LateAircraftDelay</th>\n",
       "      <td>0.001457</td>\n",
       "      <td>NaN</td>\n",
       "      <td>0.004953</td>\n",
       "      <td>0.009100</td>\n",
       "      <td>0.008839</td>\n",
       "      <td>0.169453</td>\n",
       "      <td>0.167734</td>\n",
       "      <td>-0.037949</td>\n",
       "      <td>0.131467</td>\n",
       "      <td>-0.052708</td>\n",
       "      <td>-0.034204</td>\n",
       "      <td>-0.011584</td>\n",
       "      <td>-0.021997</td>\n",
       "      <td>0.478123</td>\n",
       "      <td>0.513041</td>\n",
       "      <td>-0.010578</td>\n",
       "      <td>-0.006983</td>\n",
       "      <td>-0.055821</td>\n",
       "      <td>NaN</td>\n",
       "      <td>NaN</td>\n",
       "      <td>-0.178286</td>\n",
       "      <td>-0.054971</td>\n",
       "      <td>-0.118905</td>\n",
       "      <td>-0.019227</td>\n",
       "      <td>1.000000</td>\n",
       "    </tr>\n",
       "  </tbody>\n",
       "</table>\n",
       "</div>"
      ],
      "text/plain": [
       "                   Unnamed: 0  Year     Month  DayofMonth  DayOfWeek   DepTime  CRSDepTime   ArrTime  CRSArrTime  FlightNum  ActualElapsedTime  CRSElapsedTime   AirTime  ArrDelay  DepDelay  Distance    TaxiIn   TaxiOut  Cancelled  Diverted  CarrierDelay  WeatherDelay  NASDelay  SecurityDelay  LateAircraftDelay\n",
       "Unnamed: 0           1.000000   NaN  0.996163    0.055479  -0.000094 -0.009365   -0.012203 -0.000092    0.002347  -0.018826           0.025926        0.029418  0.021031  0.002571  0.006899  0.026011  0.033385  0.017770   0.028348  0.006663      0.003528      0.005581  0.017511      -0.003797           0.001457\n",
       "Year                      NaN   NaN       NaN         NaN        NaN       NaN         NaN       NaN         NaN        NaN                NaN             NaN       NaN       NaN       NaN       NaN       NaN       NaN        NaN       NaN           NaN           NaN       NaN            NaN                NaN\n",
       "Month                0.996163   NaN  1.000000    0.059651   0.000088 -0.007809   -0.011367  0.001014    0.001367  -0.000188           0.002684        0.007046  0.000860 -0.000897  0.004769  0.005498  0.019705  0.002574   0.028837  0.006467      0.000420      0.006611  0.011441      -0.003066           0.004953\n",
       "DayofMonth           0.055479   NaN  0.059651    1.000000   0.017476  0.001014    0.001019  0.000833    0.000758  -0.005912          -0.000880       -0.000028 -0.000244  0.004129  0.005289  0.000117 -0.002926 -0.002201   0.004671  0.001190     -0.000947      0.000916  0.005644      -0.000308           0.009100\n",
       "DayOfWeek           -0.000094   NaN  0.000088    0.017476   1.000000  0.021924    0.027039  0.010913    0.017750  -0.009769           0.003072        0.004954  0.004738  0.006123  0.008538  0.008138  0.008516 -0.010302   0.000023 -0.001361      0.010215      0.005654 -0.006628       0.004665           0.008839\n",
       "DepTime             -0.009365   NaN -0.007809    0.001014   0.021924  1.000000    0.881598  0.458934    0.711513  -0.024786          -0.047040       -0.044619 -0.054831  0.127017  0.139254 -0.056003 -0.012023  0.030481   0.002280 -0.004632     -0.051948      0.005307  0.022530      -0.015273           0.169453\n",
       "CRSDepTime          -0.012203   NaN -0.011367    0.001019   0.027039  0.881598    1.000000  0.396724    0.710303  -0.054808          -0.034925       -0.026388 -0.036582  0.044447  0.058875 -0.029517 -0.032379  0.011408   0.000023 -0.009096     -0.107337     -0.009338 -0.032701      -0.017064           0.167734\n",
       "ArrTime             -0.000092   NaN  0.001014    0.000833   0.010913  0.458934    0.396724  1.000000    0.619385  -0.013665          -0.013595       -0.012911 -0.017684 -0.050948 -0.053024 -0.027751  0.039818  0.001430        NaN -0.007204     -0.083981     -0.029860  0.032395      -0.007417          -0.037949\n",
       "CRSArrTime           0.002347   NaN  0.001367    0.000758   0.017750  0.711513    0.710303  0.619385    1.000000  -0.060006           0.033203        0.040117  0.025907  0.043078  0.053706  0.024335  0.013819  0.037942   0.000201  0.000907     -0.096156     -0.005033  0.009227      -0.013349           0.131467\n",
       "FlightNum           -0.018826   NaN -0.000188   -0.005912  -0.009769 -0.024786   -0.054808 -0.013665   -0.060006   1.000000          -0.322283       -0.335956 -0.341250  0.061266  0.051852 -0.356770 -0.003918  0.015524   0.009147 -0.002885      0.055712      0.067488  0.015405      -0.002809          -0.052708\n",
       "ActualElapsedTime    0.025926   NaN  0.002684   -0.000880   0.003072 -0.047040   -0.034925 -0.013595    0.033203  -0.322283           1.000000        0.971122  0.976660  0.068130  0.018492  0.952980  0.166348  0.289568        NaN       NaN      0.009962      0.004066  0.177135       0.005720          -0.034204\n",
       "CRSElapsedTime       0.029418   NaN  0.007046   -0.000028   0.004954 -0.044619   -0.026388 -0.012911    0.040117  -0.335956           0.971122        1.000000  0.986086 -0.015676  0.007001  0.981759  0.099646  0.123839  -0.003916  0.024660      0.026586     -0.016478  0.046964       0.006104          -0.011584\n",
       "AirTime              0.021031   NaN  0.000860   -0.000244   0.004738 -0.054831   -0.036582 -0.017684    0.025907  -0.341250           0.976660        0.986086  1.000000 -0.000189 -0.002753  0.980294  0.083926  0.090398        NaN       NaN      0.019547     -0.018325  0.062793       0.007155          -0.021997\n",
       "ArrDelay             0.002571   NaN -0.000897    0.004129   0.006123  0.127017    0.044447 -0.050948    0.043078   0.061266           0.068130       -0.015676 -0.000189  1.000000  0.952927 -0.029853  0.156277  0.286484        NaN       NaN      0.501773      0.264624  0.387606      -0.002488           0.478123\n",
       "DepDelay             0.006899   NaN  0.004769    0.005289   0.008538  0.139254    0.058875 -0.053024    0.053706   0.051852           0.018492        0.007001 -0.002753  0.952927  1.000000 -0.007718  0.074748  0.078676   0.016542  0.022867      0.528038      0.244488  0.233976      -0.002343           0.513041\n",
       "Distance             0.026011   NaN  0.005498    0.000117   0.008138 -0.056003   -0.029517 -0.027751    0.024335  -0.356770           0.952980        0.981759  0.980294 -0.029853 -0.007718  1.000000  0.072284  0.070298  -0.005060  0.021692      0.028443     -0.023819  0.018109       0.007029          -0.010578\n",
       "TaxiIn               0.033385   NaN  0.019705   -0.002926   0.008516 -0.012023   -0.032379  0.039818    0.013819  -0.003918           0.166348        0.099646  0.083926  0.156277  0.074748  0.072284  1.000000  0.066936        NaN  0.011696     -0.021982      0.025661  0.229828      -0.004905          -0.006983\n",
       "TaxiOut              0.017770   NaN  0.002574   -0.002201  -0.010302  0.030481    0.011408  0.001430    0.037942   0.015524           0.289568        0.123839  0.090398  0.286484  0.078676  0.070298  0.066936  1.000000   0.003943  0.015760     -0.028763      0.083243  0.427987      -0.002681          -0.055821\n",
       "Cancelled            0.028348   NaN  0.028837    0.004671   0.000023  0.002280    0.000023       NaN    0.000201   0.009147                NaN       -0.003916       NaN       NaN  0.016542 -0.005060       NaN  0.003943   1.000000 -0.001146           NaN           NaN       NaN            NaN                NaN\n",
       "Diverted             0.006663   NaN  0.006467    0.001190  -0.001361 -0.004632   -0.009096 -0.007204    0.000907  -0.002885                NaN        0.024660       NaN       NaN  0.022867  0.021692  0.011696  0.015760  -0.001146  1.000000           NaN           NaN       NaN            NaN                NaN\n",
       "CarrierDelay         0.003528   NaN  0.000420   -0.000947   0.010215 -0.051948   -0.107337 -0.083981   -0.096156   0.055712           0.009962        0.026586  0.019547  0.501773  0.528038  0.028443 -0.021982 -0.028763        NaN       NaN      1.000000     -0.068951 -0.119534      -0.018537          -0.178286\n",
       "WeatherDelay         0.005581   NaN  0.006611    0.000916   0.005654  0.005307   -0.009338 -0.029860   -0.005033   0.067488           0.004066       -0.016478 -0.018325  0.264624  0.244488 -0.023819  0.025661  0.083243        NaN       NaN     -0.068951      1.000000 -0.002553      -0.007511          -0.054971\n",
       "NASDelay             0.017511   NaN  0.011441    0.005644  -0.006628  0.022530   -0.032701  0.032395    0.009227   0.015405           0.177135        0.046964  0.062793  0.387606  0.233976  0.018109  0.229828  0.427987        NaN       NaN     -0.119534     -0.002553  1.000000      -0.011723          -0.118905\n",
       "SecurityDelay       -0.003797   NaN -0.003066   -0.000308   0.004665 -0.015273   -0.017064 -0.007417   -0.013349  -0.002809           0.005720        0.006104  0.007155 -0.002488 -0.002343  0.007029 -0.004905 -0.002681        NaN       NaN     -0.018537     -0.007511 -0.011723       1.000000          -0.019227\n",
       "LateAircraftDelay    0.001457   NaN  0.004953    0.009100   0.008839  0.169453    0.167734 -0.037949    0.131467  -0.052708          -0.034204       -0.011584 -0.021997  0.478123  0.513041 -0.010578 -0.006983 -0.055821        NaN       NaN     -0.178286     -0.054971 -0.118905      -0.019227           1.000000"
      ]
     },
     "execution_count": 543,
     "metadata": {},
     "output_type": "execute_result"
    }
   ],
   "source": [
    "# Matriz de correlación  #\n",
    "\n",
    "corrmat = df.corr()\n",
    "corrmat"
   ]
  },
  {
   "cell_type": "code",
   "execution_count": 544,
   "id": "d237fc84",
   "metadata": {},
   "outputs": [],
   "source": [
    "#idnetificamos las columnas que tiene NAN\n",
    "ColumnsWithNaN = total_nan_values[(total_nan_values.values != 0) ]"
   ]
  },
  {
   "cell_type": "code",
   "execution_count": 545,
   "id": "327467f5",
   "metadata": {},
   "outputs": [
    {
     "data": {
      "text/plain": [
       "Index(['ArrTime', 'TailNum', 'ActualElapsedTime', 'CRSElapsedTime', 'AirTime', 'ArrDelay', 'TaxiIn', 'TaxiOut', 'CarrierDelay', 'WeatherDelay', 'NASDelay', 'SecurityDelay', 'LateAircraftDelay'], dtype='object')"
      ]
     },
     "execution_count": 545,
     "metadata": {},
     "output_type": "execute_result"
    }
   ],
   "source": [
    "#Mostramos las columnas, como se puede acceder a ellas por si queremos hacer un bucle que haga algo con ellas de forma más automática sin tener que ir una a una\n",
    "ColumnsWithNaN.index"
   ]
  },
  {
   "cell_type": "code",
   "execution_count": null,
   "id": "267c6d04",
   "metadata": {},
   "outputs": [],
   "source": [
    "\n"
   ]
  },
  {
   "cell_type": "markdown",
   "id": "24aa0394",
   "metadata": {},
   "source": [
    "### reemplazamos los valores faltantes por la media aritmética de la respectiva variable para evitar pérdida de datos"
   ]
  },
  {
   "cell_type": "code",
   "execution_count": 546,
   "id": "47a94711",
   "metadata": {},
   "outputs": [
    {
     "name": "stdout",
     "output_type": "stream",
     "text": [
      "float64\n",
      "object\n",
      "float64\n",
      "float64\n",
      "float64\n",
      "float64\n",
      "float64\n",
      "float64\n",
      "float64\n",
      "float64\n",
      "float64\n",
      "float64\n",
      "float64\n"
     ]
    }
   ],
   "source": [
    "# Mostra que tipo de valor tiene que columna de las seleccionadas, para hacer un proceso diferente\n",
    "columns = ColumnsWithNaN.index\n",
    "for i in columns:\n",
    "    # Matriz de correlación  #\n",
    "    print(df[i].dtypes)"
   ]
  },
  {
   "cell_type": "code",
   "execution_count": 547,
   "id": "cd507d7d",
   "metadata": {},
   "outputs": [
    {
     "name": "stdout",
     "output_type": "stream",
     "text": [
      "Columna que acabamo de substituir NaN por Mediana   :  ArrTime\n",
      "Columna que acabamos de elimiar por ser categrorica :  TailNum\n",
      "Columna que acabamo de substituir NaN por Mediana   :  ActualElapsedTime\n",
      "Columna que acabamo de substituir NaN por Mediana   :  CRSElapsedTime\n",
      "Columna que acabamo de substituir NaN por Mediana   :  AirTime\n",
      "Columna que acabamo de substituir NaN por Mediana   :  ArrDelay\n",
      "Columna que acabamo de substituir NaN por Mediana   :  TaxiIn\n",
      "Columna que acabamo de substituir NaN por Mediana   :  TaxiOut\n",
      "Columna que acabamo de substituir NaN por Mediana   :  CarrierDelay\n",
      "Columna que acabamo de substituir NaN por Mediana   :  WeatherDelay\n",
      "Columna que acabamo de substituir NaN por Mediana   :  NASDelay\n",
      "Columna que acabamo de substituir NaN por Mediana   :  SecurityDelay\n",
      "Columna que acabamo de substituir NaN por Mediana   :  LateAircraftDelay\n"
     ]
    }
   ],
   "source": [
    "#sabiendo como diferenciar el tipo de dato de las columnas, las columnas numero en los valores nan pongo la mediana, y si es una columna categorica, la elimino del dataset que vamos analizar\n",
    "columns = ColumnsWithNaN.index\n",
    "for i in columns:\n",
    "    # Matriz de correlación  #\n",
    "    if df[i].dtypes != object :\n",
    "        df[i]=df[i].fillna(df[i].mean())\n",
    "        print(\"Columna que acabamo de substituir NaN por Mediana   : \", i)\n",
    "    else:    \n",
    "        print(\"Columna que acabamos de elimiar por ser categrorica : \", i)\n",
    "        df.drop(i, axis=1, inplace=True)\n",
    "\n"
   ]
  },
  {
   "cell_type": "code",
   "execution_count": 548,
   "id": "7337685a",
   "metadata": {},
   "outputs": [
    {
     "name": "stdout",
     "output_type": "stream",
     "text": [
      "Total Number of NaN values: \n",
      "Unnamed: 0           0\n",
      "Year                 0\n",
      "Month                0\n",
      "DayofMonth           0\n",
      "DayOfWeek            0\n",
      "DepTime              0\n",
      "CRSDepTime           0\n",
      "ArrTime              0\n",
      "CRSArrTime           0\n",
      "UniqueCarrier        0\n",
      "FlightNum            0\n",
      "ActualElapsedTime    0\n",
      "CRSElapsedTime       0\n",
      "AirTime              0\n",
      "ArrDelay             0\n",
      "DepDelay             0\n",
      "Origin               0\n",
      "Dest                 0\n",
      "Distance             0\n",
      "TaxiIn               0\n",
      "TaxiOut              0\n",
      "Cancelled            0\n",
      "CancellationCode     0\n",
      "Diverted             0\n",
      "CarrierDelay         0\n",
      "WeatherDelay         0\n",
      "NASDelay             0\n",
      "SecurityDelay        0\n",
      "LateAircraftDelay    0\n",
      "dtype: int64\n"
     ]
    }
   ],
   "source": [
    "#comprobamos que despues de los cambios ya no hayan columnas con NAN\n",
    "total_nan_values = df.isna().sum()\n",
    "print (\"Total Number of NaN values: \"+'\\n'+str(total_nan_values))"
   ]
  },
  {
   "cell_type": "code",
   "execution_count": 549,
   "id": "96a2414c",
   "metadata": {},
   "outputs": [
    {
     "name": "stdout",
     "output_type": "stream",
     "text": [
      "Columna que será borrada:  UniqueCarrier\n",
      "Columna que será borrada:  Origin\n",
      "Columna que será borrada:  Dest\n",
      "Columna que será borrada:  CancellationCode\n"
     ]
    }
   ],
   "source": [
    "#aunque un poco tarde, vemos que hay dentro de las variable que son categoricas del data set inicial\n",
    "#aqui lo importante es que esta dentro de un bucle, y se puede hacer este analisi sin tener que ir columna a columna\n",
    "#y luego las borra para no tenerlas en cuenta en el ejercicio\n",
    "columns = df.columns\n",
    "for i in columns:\n",
    "    # Matriz de correlación  #\n",
    "    if df[i].dtypes == object :\n",
    "        print('Columna que será borrada: ',i)\n",
    "        #print(\" y tiene {} elmentos.\",len(df[i].unique()))\n",
    "        df.drop(i, axis=1, inplace=True)"
   ]
  },
  {
   "cell_type": "code",
   "execution_count": 550,
   "id": "937fb926",
   "metadata": {},
   "outputs": [],
   "source": [
    "#variable dependiente (retraso en la llegada) que queremos estimar\n",
    "\n",
    "forecast_col ='ArrDelay'"
   ]
  },
  {
   "cell_type": "code",
   "execution_count": 551,
   "id": "4e83b8a6",
   "metadata": {},
   "outputs": [
    {
     "name": "stdout",
     "output_type": "stream",
     "text": [
      "Columnas de la muestra original : 1936758\n",
      "Columnas de la muestra sample : 100000\n",
      "Tamaño muestra x y y : 100000 100000\n"
     ]
    }
   ],
   "source": [
    "#Muestra y división en train i test tomando 100.000 registro para evitar largos periodos de proceso\n",
    "\n",
    "print(\"Columnas de la muestra original :\", len(df))\n",
    "df_sample = df.sample(100000, random_state = 0)\n",
    "print(\"Columnas de la muestra sample :\", len(df_sample))\n",
    "# Features = X\n",
    "# Labels = y\n",
    "\n",
    "# Asignamos las variables con las que vamos a trabajar en el algoritmo\n",
    "#variable independiente (hora de salida, ....)\n",
    "X = np.array(df_sample.drop([forecast_col], 1))\n",
    "#x= np.array(df_sample['DepDelay']).reshape((-1, 1))\n",
    "\n",
    "#variable dependiente (retraso en la llegada)\n",
    "y = np.array(df_sample[forecast_col])\n",
    "#y= df_sample['ArrDelay'] \n",
    "\n",
    "# Comprovem que tinguin la mateixa len\n",
    "print(\"Tamaño muestra x y y :\", len(X), len(y))\n",
    "\n",
    "# Creem el train and test\n",
    "X_train, X_test, y_train, y_test = train_test_split(X, y, test_size = 0.2, random_state=0)\n",
    "#X_train, X_test, y_train, y_test = train_test_split(X, y, test_size=0.2, random_state=1234)\n"
   ]
  },
  {
   "cell_type": "code",
   "execution_count": 552,
   "id": "b296bfaf",
   "metadata": {},
   "outputs": [
    {
     "name": "stdout",
     "output_type": "stream",
     "text": [
      "Shape X_train  (80000, 24)\n",
      "Shape X_test   (20000, 24)\n",
      "Shape y_train  (80000,)\n",
      "Shape y_test   (20000,)\n"
     ]
    }
   ],
   "source": [
    "print(\"Shape X_train \", X_train.shape)\n",
    "print(\"Shape X_test  \", X_test.shape)\n",
    "print(\"Shape y_train \", y_train.shape)\n",
    "print(\"Shape y_test  \", y_test.shape)"
   ]
  },
  {
   "cell_type": "code",
   "execution_count": 553,
   "id": "72867c43",
   "metadata": {},
   "outputs": [],
   "source": [
    "# Definición de funciones ------------------------------------------------------------------------------------------"
   ]
  },
  {
   "cell_type": "code",
   "execution_count": 554,
   "id": "e84435e0",
   "metadata": {},
   "outputs": [],
   "source": [
    "# Definición de funciones ------------------------------------------------------------------------------------------"
   ]
  },
  {
   "cell_type": "code",
   "execution_count": 555,
   "id": "66f2efd9",
   "metadata": {},
   "outputs": [],
   "source": [
    "# Definición de funciones ------------------------------------------------------------------------------------------"
   ]
  },
  {
   "cell_type": "code",
   "execution_count": 556,
   "id": "58c3bec4",
   "metadata": {},
   "outputs": [],
   "source": [
    "# Definición de funciones ------------------------------------------------------------------------------------------"
   ]
  },
  {
   "cell_type": "code",
   "execution_count": 557,
   "id": "e54888a6",
   "metadata": {},
   "outputs": [],
   "source": [
    "# Definición de funciones ------------------------------------------------------------------------------------------"
   ]
  },
  {
   "cell_type": "code",
   "execution_count": 558,
   "id": "bfc528e8",
   "metadata": {},
   "outputs": [],
   "source": [
    "# Definición de funciones ------------------------------------------------------------------------------------------"
   ]
  },
  {
   "cell_type": "code",
   "execution_count": 559,
   "id": "d3eb9e05",
   "metadata": {},
   "outputs": [],
   "source": [
    "from sklearn.preprocessing import LabelEncoder\n",
    "\n",
    "def Encoder(df_1, columna):\n",
    "    # Fem label encoder de les variables categòriques origin i destination, que \n",
    "    df_1[columna].value_counts(ascending=False)\n",
    "    encoder = LabelEncoder()\n",
    "    df_1[columna]= encoder.fit_transform(df_1[columna])\n",
    "    df_1.head()\n",
    "    df_1[columna].value_counts(ascending=False)\n",
    "    return df_1\n",
    "    # Passem la funció de top features amb f_regression. N'agafem els 10 més importants:\n",
    "\n"
   ]
  },
  {
   "cell_type": "code",
   "execution_count": 560,
   "id": "669600f5",
   "metadata": {},
   "outputs": [],
   "source": [
    "def getTopFeatures(train_x, train_y, n_features=10):\n",
    "    f_val, p_val = f_regression(train_x,train_y)\n",
    "    f_val_dict = {}\n",
    "    p_val_dict = {}\n",
    "    for i in range(len(f_val)):\n",
    "        if math.isnan(f_val[i]):\n",
    "            f_val[i] = 0.0\n",
    "        f_val_dict[i] = f_val[i]\n",
    "        if math.isnan(p_val[i]):\n",
    "            p_val[i] = 0.0\n",
    "        p_val_dict[i] = p_val[i]\n",
    "    \n",
    "    sorted_f = sorted(f_val_dict.items(), key=operator.itemgetter(1),reverse=True)\n",
    "    sorted_p = sorted(p_val_dict.items(), key=operator.itemgetter(1),reverse=True)\n",
    "    \n",
    "    feature_indexs = []\n",
    "    for i in range(0,n_features):\n",
    "        feature_indexs.append(sorted_f[i][0])\n",
    "    \n",
    "    return feature_indexs\n"
   ]
  },
  {
   "cell_type": "code",
   "execution_count": 561,
   "id": "e92190bf",
   "metadata": {},
   "outputs": [],
   "source": [
    "def PrintRegressionValues(df_model, X_train,y_train, X_test,y_test, y_pred):\n",
    "    \n",
    "    print('Mean Absolute Error               :', metrics.mean_absolute_error(y_test, y_pred))\n",
    "    print('Mean Squared Error                :', metrics.mean_squared_error(y_test, y_pred))\n",
    "    print('Root Mean Squared Error           :', np.sqrt(metrics.mean_squared_error(y_test, y_pred)))\n",
    "    \n",
    "    return\n",
    "\n",
    "def PrintRegression(df_model, X_train,y_train, X_test,y_test, y_pred):\n",
    "\n",
    "    #print(\"Shape X_train b         :\", X_train.shape)\n",
    "    #print(\"Shape X_test  b         :\", X_test.shape)\n",
    "    #print(\"Shape y_train b         :\", y_train.shape)\n",
    "    #print(\"Shape y_test  b         :\", y_test.shape)\n",
    "    #print(\"Shape y_pred  b         :\", y_pred.shape)\n",
    "    \n",
    "    # pasamos el df a numpy para graficar\n",
    "    #OJO y_test = y_test.values.reshape(len(y_test), 1) \n",
    "    \n",
    "    #print(\"before :\", y_test)\n",
    "    y_test = y_test.reshape(len(y_test), 1) \n",
    "    #print(\"after :\", y_test)\n",
    "    \n",
    "    # pasamos el df a numpy para graficar\n",
    "    dfw = pd.DataFrame({'Actual': y_test.flatten(), 'Predicted': y_pred.flatten()}) \n",
    "    # el método flatten() devuelve una copia del array a una única dimensión\n",
    "    #print(dfw.head())\n",
    "    #Por el resultado del gráfico parece que sí hemos podido mejorar nuestro algoritmo.\n",
    "    dfw1 = dfw.head(30) \n",
    "    # Vamos a graficar las 30 primeras entradas \n",
    "    dfw1.plot(kind='bar',figsize=(14,9))\n",
    "    plt.show()\n",
    "\n",
    "    # Vamos a trazar nuestra línea recta con los datos de la prueba para ver la predicción. La línea recta del gráfico muestra que nuestro algoritmo es bastante correcto.\n",
    "    # En este caso, vamos a a visualizar la correlación entre los datos reales y los datos predecidos, ya que X_test es multidimensional. \n",
    "    # En este caso vemos que el gráfico muestra una línea bastante recta, lo que nos dice que nuestro algoritmo es bastante correcto.\n",
    "\n",
    "    fig, ax = plt.subplots(figsize = (14, 5))\n",
    "\n",
    "    #print(\"Shape X_train a         :\", X_train.shape)\n",
    "    #print(\"Shape X_test  a         :\", X_test.shape)\n",
    "    #print(\"Shape y_train a         :\", y_train.shape)\n",
    "    #print(\"Shape y_test  a         :\", y_test.shape)\n",
    "    #print(\"Shape y_pred  a         :\", y_pred.shape)\n",
    "    \n",
    "    #OJO plt.scatter(X_test, y_test,  color='gray')\n",
    "    plt.scatter(dfw['Predicted'], dfw['Actual'], color='green')\n",
    "    #plt.plot(X_test, y_pred, color='red', linewidth=1)\n",
    "    plt.show()\n",
    "    \n",
    "    return\n",
    "\n",
    "def PrintRelevantFeatures(title, df, df_model, X_train,y_train, X_test,y_test, y_pred):\n",
    "\n",
    "    i_col = (df.drop([forecast_col], 1))\n",
    "    plt.figure(figsize=(10,7))\n",
    "    feat_importances = pd.Series(df_model.feature_importances_, index = i_col.columns)\n",
    "    plt.title(title)\n",
    "    feat_importances.nlargest(5).plot(kind='barh');\n",
    "    \n",
    "    return"
   ]
  },
  {
   "cell_type": "code",
   "execution_count": 562,
   "id": "e4dae8b3",
   "metadata": {},
   "outputs": [],
   "source": [
    "def LinearRegressionCustom(df_set, normalize, fit_intercept, X_train,y_train, X_test,y_test, printRegression , printRelevantAttributes):\n",
    "\n",
    "    # Determinem 'n-jobs' = -1 perquè faci servir tots els processadors disponibles. \n",
    "    \n",
    "    clf_model = LinearRegression(normalize=normalize, fit_intercept=fit_intercept, n_jobs=-1)\n",
    "\n",
    "    # Creamos el modelo y lo ajustamos\n",
    "    clf_model.fit(X_train, y_train)\n",
    "\n",
    "    # Fem la predicció\n",
    "    y_pred = clf_model.predict(X_test)\n",
    "    # print('predicted response:', y_pred, sep='\\n')\n",
    "\n",
    "    # Calculamos el R2 para comprovar el ajuste en cada modelo.\n",
    "    score_test = clf_model.score(X_test, y_test)\n",
    "\n",
    "    # Df comparatiu de l'X_test i la seva corresponent predicció:\n",
    "\n",
    "    df_lr = pd.DataFrame({'Actual':y_test, 'Predicted':y_pred})\n",
    "    df_lr\n",
    "    print('El coeficiente de determinación es:', score_test)\n",
    "\n",
    "    print('intercept                         :', clf_model.intercept_) \n",
    "    #print('coefficients                      :', clf_model.coef_ , sep='\\n') \n",
    "\n",
    "    \n",
    "    PrintRegressionValues(df_lr, X_train,y_train, X_test,y_test, y_pred)\n",
    "    \n",
    "    if printRegression:\n",
    "        PrintRegression(df_lr, X_train,y_train, X_test,y_test, y_pred)\n",
    "    \n",
    "    if printRelevantAttributes:\n",
    "        PrintRelevantFeatures('LinearRegression ', df_set, clf_model, X_train,y_train, X_test,y_test, y_pred)\n",
    "    \n",
    "    return\n"
   ]
  },
  {
   "cell_type": "code",
   "execution_count": 563,
   "id": "fd1194ff",
   "metadata": {},
   "outputs": [],
   "source": [
    "def DecisionTreeRegressorCustom(df_set, n_estimator,  X_train, y_train, X_test, y_test, printRegression, printRelevantAttributes):\n",
    "\n",
    "    regressor_model = DecisionTreeRegressor(max_depth=n_estimator, random_state=0)\n",
    "    regressor_model.fit(X_train,y_train)\n",
    "\n",
    "    # Fem la predicció\n",
    "    y_pred = regressor_model.predict(X_test)\n",
    "    # print('predicted response:', y_pred, sep='\\n')\n",
    "\n",
    "    # Calculamos el R2 para comprovar el ajuste en cada modelo.\n",
    "    score_test = regressor_model.score(X_train, y_train) \n",
    "\n",
    "    # Comparem les prediccions de l'X_test amb el retard d'arribada de veritat(y_test):\n",
    "    df_rt=pd.DataFrame({'Actual':y_test, 'Predicted':y_pred})\n",
    "    df_rt\n",
    "    # print('Absolute Error:', abs(y_test - y_pred).sum())\n",
    "    print('El coeficiente de determinación es:', score_test)\n",
    "\n",
    "\n",
    "    PrintRegressionValues(df_rt, X_train,y_train, X_test,y_test, y_pred)\n",
    "    \n",
    "    if printRegression:\n",
    "        PrintRegression(df_rt, X_train,y_train, X_test,y_test, y_pred)\n",
    "\n",
    "    if printRelevantAttributes:\n",
    "        PrintRelevantFeatures('DecisionTreeRegressor', df_set, regressor_model, X_train,y_train, X_test,y_test, y_pred)\n",
    "    \n",
    "    return"
   ]
  },
  {
   "cell_type": "code",
   "execution_count": 564,
   "id": "b871ae89",
   "metadata": {},
   "outputs": [],
   "source": [
    "def RandomForestRegressorCustom(df_set, n_estimators , max_depth, X_train, y_train, X_test, y_test, printRegression, printRelevantAttributes):\n",
    "  \n",
    "    #https://scikit-learn.org/stable/modules/generated/sklearn.ensemble.RandomForestRegressor.html\n",
    "\n",
    "    #n_estimatorsint, default=100\n",
    "    #max_depthint, default=None\n",
    "    #min_samples_splitint or float, default=2\n",
    "    #min_samples_leafint or float, default=1\n",
    "    #min_weight_fraction_leaffloat, default=0.0\n",
    "    #max_features{“auto”, “sqrt”, “log2”}, int or float, default=”auto”\n",
    "    #max_leaf_nodesint, default=None\n",
    "    #min_impurity_decreasefloat, default=0.0\n",
    "    #bootstrapbool, default=True\n",
    "\n",
    "    rf_model = RandomForestRegressor(n_estimators , random_state = 42)\n",
    "    #rf_model = RandomForestRegressor(n_estimators , random_state = 42,bootstrap = True, verbose=2)\n",
    "\n",
    "    rf_model.fit(X_train, y_train)\n",
    "\n",
    "    # Fem la predicció\n",
    "    # Ahora hagamos una predicción sobre los datos de la prueba.\n",
    "    y_pred=rf_model.predict(X_test)\n",
    "    # print('predicted response:', y_pred, sep='\\n')\n",
    "\n",
    "    # Calculamos el R2 para comprovar el ajuste en cada modelo.\n",
    "    score_test = rf_model.score(X_train, y_train) \n",
    "\n",
    "    # Comparem les prediccions de l'X_test amb el retard d'arribada de veritat(y_test):\n",
    "    #Revisemos la diferencia entre el valor real y el valor predecido.\n",
    "    df_rf=pd.DataFrame({'Actual':y_test, 'Predicted':y_pred})\n",
    "    df_rf\n",
    "    print('El coeficiente de determinación es:', score_test)\n",
    "\n",
    "    PrintRegressionValues(df_rf, X_train,y_train, X_test,y_test, y_pred)\n",
    "    \n",
    "    if printRegression:\n",
    "        PrintRegression(df_rf, X_train,y_train, X_test,y_test, y_pred)\n",
    "\n",
    "    if printRelevantAttributes:\n",
    "        PrintRelevantFeatures('RandomForestRegressor', df_set, rf_model, X_train,y_train, X_test,y_test, y_pred)\n",
    "    \n",
    "    return"
   ]
  },
  {
   "cell_type": "code",
   "execution_count": 565,
   "id": "bc91523e",
   "metadata": {},
   "outputs": [],
   "source": [
    "def RegressionChart(n_estimator, typemodel, typeofchange, X_train, y_train, X_test, y_test):\n",
    "    \n",
    "    train_results = []\n",
    "    test_results = []\n",
    "    \n",
    "        #'RandomForestRegressor', 'min_samples_leafs\n",
    "        \n",
    "    for estimator in n_estimator:\n",
    "        if (  typemodel == 'RandomForestRegressor' and typeofchange == 'n_estimator'):\n",
    "            #print(\"typemodel == 'RamdomForestRegressor' and typeofchange == 'n_estimator'\")\n",
    "            dt = RandomForestRegressor(n_estimators=estimator, n_jobs=-1)\n",
    "        elif (typemodel == 'RandomForestRegressor' and typeofchange == 'max_depths') :\n",
    "            #print(\"typemodel == 'RamdomForestRegressor' and typeofchange == 'max_depths'\")\n",
    "            dt = RandomForestRegressor(max_depth=estimator)\n",
    "        elif (typemodel == 'RandomForestRegressor' and typeofchange == 'min_samples_splits'):\n",
    "            #print(\"typemodel == 'RamdomForestRegressor' and typeofchange == 'min_samples_split'\")\n",
    "            dt = RandomForestRegressor(min_samples_split= estimator)\n",
    "        elif (typemodel == 'RandomForestRegressor' and typeofchange == 'min_samples_leafs') :\n",
    "            #print(\"typemodel == 'RamdomForestRegressor' and typeofchange == 'min_samples_leaf'\")\n",
    "            dt = RandomForestRegressor(min_samples_leaf= estimator)\n",
    "        elif (typemodel == 'RandomForestRegressor' and typeofchange == 'max_features') :\n",
    "            #print(\"typemodel == 'RamdomForestRegressor' and typeofchange == 'max_features'\")\n",
    "            dt = RandomForestRegressor(max_features= estimator)\n",
    "        elif (typemodel == 'DecisionTreeRegressor' and typeofchange == 'max_depth') :\n",
    "            #print(\"typemodel == 'DecisionTreeRegressor' and typeofchange == 'max_depth'\")\n",
    "            dt = DecisionTreeRegressor(max_depth= estimator)\n",
    "        elif (typemodel == 'DecisionTreeRegressor' and typeofchange == 'min_samples_splits') :\n",
    "            #print(\"typemodel == 'DecisionTreeRegressor' and typeofchange == 'min_samples_splits'\")\n",
    "            dt = DecisionTreeRegressor(min_samples_split= estimator)\n",
    "        elif (typemodel == 'DecisionTreeRegressor' and typeofchange == 'min_samples_leafs') :\n",
    "            #print(\"(typemodel == 'DecisionTreeRegressor' and typeofchange == 'min_samples_leafs')\")\n",
    "            dt = DecisionTreeRegressor(min_samples_leaf= estimator)\n",
    "        elif (typemodel == 'DecisionTreeRegressor' and typeofchange == 'max_features')  :\n",
    "            #print(\"typemodel == 'DecisionTreeRegressor' and typeofchange == 'max_features'\")\n",
    "            dt = DecisionTreeRegressor(max_features= estimator)\n",
    "        else:\n",
    "            print(\"no pasa por ninguno\")\n",
    "            \n",
    "        dt.fit(X_train, y_train)  \n",
    "        train_pred = dt.predict(X_train)\n",
    "\n",
    "        train_results.append(metrics.mean_absolute_error(y_train, train_pred))\n",
    "        y_pred = dt.predict(X_test)\n",
    "        test_results.append(metrics.mean_absolute_error(y_test, y_pred))\n",
    "    \n",
    "    from matplotlib.legend_handler import HandlerLine2D\n",
    "\n",
    "    line1, = plt.plot(n_estimator, train_results, 'b', label='Train MAE')\n",
    "    line2, = plt.plot(n_estimator, test_results , 'r', label='Test MAE')\n",
    "    plt.title(type)\n",
    "    plt.legend(handler_map={line1: HandlerLine2D(numpoints=2)})\n",
    "    plt.ylabel('MAE score')\n",
    "    plt.xlabel('typeofchange : ' + typeofchange)\n",
    "    plt.show()\n",
    "\n",
    "    return\n",
    "                                       "
   ]
  },
  {
   "cell_type": "code",
   "execution_count": 566,
   "id": "af0e863a",
   "metadata": {},
   "outputs": [],
   "source": [
    "def UseCaseModelizacion (df_set, X_train, y_train, X_test, y_test ):\n",
    "    \n",
    "    print(\"LinearRegression sense train/test (validació interna):\")\n",
    "    \n",
    "    Normalize = False\n",
    "    fit_intercept=True\n",
    "    LinearRegressionCustom(df_set, Normalize, fit_intercept, X_train, y_train, X_test, y_test, False, False )\n",
    "    \n",
    "    print(\"-------------------------------------------------------\")\n",
    "\n",
    "    print(\"DecisionTreeRegressor sense train/test (validació interna):\")\n",
    "    \n",
    "    max_depth=15\n",
    "\n",
    "    DecisionTreeRegressorCustom(df_set, max_depth, X_train, y_train, X_test, y_test, False, True)\n",
    "    \n",
    "    print(\"-------------------------------------------------------\")\n",
    "    \n",
    "    print(\"RandomForestRegressor sense train/test (validació interna):\")\n",
    "    \n",
    "    n_estimators = 30\n",
    "    max_depth=30\n",
    "\n",
    "    RandomForestRegressorCustom(df_set, n_estimators , max_depth, X_train, y_train, X_test, y_test, False, True)\n",
    "    \n",
    "    print(\"-------------------------------------------------------\")\n",
    "    \n"
   ]
  },
  {
   "cell_type": "code",
   "execution_count": 567,
   "id": "048c4cf0",
   "metadata": {},
   "outputs": [],
   "source": [
    "# Fin de la definición de variables ------------------------------------------------------------"
   ]
  },
  {
   "cell_type": "code",
   "execution_count": 568,
   "id": "2dc4f2f5",
   "metadata": {},
   "outputs": [],
   "source": [
    "# Fin de la definición de variables ------------------------------------------------------------"
   ]
  },
  {
   "cell_type": "code",
   "execution_count": 569,
   "id": "b0442584",
   "metadata": {},
   "outputs": [],
   "source": [
    "# Fin de la definición de variables ------------------------------------------------------------"
   ]
  },
  {
   "cell_type": "code",
   "execution_count": 570,
   "id": "28a4a821",
   "metadata": {},
   "outputs": [],
   "source": [
    "# Fin de la definición de variables ------------------------------------------------------------"
   ]
  },
  {
   "cell_type": "code",
   "execution_count": 571,
   "id": "f9d3a8c1",
   "metadata": {},
   "outputs": [],
   "source": [
    "# Fin de la definición de variables ------------------------------------------------------------"
   ]
  },
  {
   "cell_type": "code",
   "execution_count": 572,
   "id": "467d0b16",
   "metadata": {},
   "outputs": [],
   "source": [
    "# Fin de la definición de variables ------------------------------------------------------------"
   ]
  },
  {
   "cell_type": "markdown",
   "id": "ff5db7b2",
   "metadata": {},
   "source": [
    "# Exercici 1\n",
    "## Entrenamos el modelo utilizando los parámetros por defecto. \n",
    "### Sense partir el conjunt de dadesDelayedFlights.csv en train i test. \n",
    "### Estudia tota la mostra a nivell descriptiu\n"
   ]
  },
  {
   "cell_type": "markdown",
   "id": "b44c6046",
   "metadata": {},
   "source": [
    "## MODELO DE REGRESIÓN LINEAL SIMPLE #"
   ]
  },
  {
   "cell_type": "code",
   "execution_count": 573,
   "id": "ca3a2591",
   "metadata": {},
   "outputs": [
    {
     "name": "stdout",
     "output_type": "stream",
     "text": [
      "El coeficiente de determinación es: 0.9843336959822446\n",
      "intercept                         : -3.2681559530898525\n",
      "Mean Absolute Error               : 2.2643469370648126\n",
      "Mean Squared Error                : 51.59406978905413\n",
      "Root Mean Squared Error           : 7.182901209751818\n"
     ]
    }
   ],
   "source": [
    "# Entrenamos el modelo variando los parámetros: n_jobs y normalize \n",
    "\n",
    "Normalize     = True\n",
    "fit_intercept = True\n",
    "\n",
    "LinearRegressionCustom(df_sample, Normalize, fit_intercept, X, y, X, y, False, False)"
   ]
  },
  {
   "cell_type": "code",
   "execution_count": 574,
   "id": "ec2e25ab",
   "metadata": {},
   "outputs": [
    {
     "name": "stdout",
     "output_type": "stream",
     "text": [
      "El coeficiente de determinación es: 0.9843336959822446\n",
      "intercept                         : 0.0\n",
      "Mean Absolute Error               : 2.2643469370646017\n",
      "Mean Squared Error                : 51.59406978905413\n",
      "Root Mean Squared Error           : 7.182901209751818\n"
     ]
    }
   ],
   "source": [
    "# Entrenamos el modelo variando los parámetros: fit_intercept\n",
    "\n",
    "Normalize     = False\n",
    "fit_intercept = False\n",
    "\n",
    "LinearRegressionCustom(df_sample,Normalize, fit_intercept, X, y, X, y, False, False)"
   ]
  },
  {
   "cell_type": "code",
   "execution_count": 575,
   "id": "35f773d3",
   "metadata": {},
   "outputs": [
    {
     "name": "stdout",
     "output_type": "stream",
     "text": [
      "El coeficiente de determinación es: 0.9843336959822446\n",
      "intercept                         : 0.0\n",
      "Mean Absolute Error               : 2.2643469370646017\n",
      "Mean Squared Error                : 51.59406978905413\n",
      "Root Mean Squared Error           : 7.182901209751818\n"
     ]
    }
   ],
   "source": [
    "# Entrenamos el modelo variando los parámetros: fit_intercept\n",
    "# Canviem el paràmetre de 'fit_intercept' a False perquè no calculi l'intercept per aquest model. \n",
    "# Posem 'normalize = True' perquè ens normalitzi els features, però ignora aquest paràmetre si posem 'fit_intercept' = False.\n",
    "\n",
    "Normalize     = True\n",
    "fit_intercept = False\n",
    "\n",
    "LinearRegressionCustom(df_sample, Normalize, fit_intercept, X, y, X, y, False, False)"
   ]
  },
  {
   "cell_type": "code",
   "execution_count": 576,
   "id": "26b48d8e",
   "metadata": {},
   "outputs": [
    {
     "name": "stdout",
     "output_type": "stream",
     "text": [
      "El coeficiente de determinación es: 0.9843336959822446\n",
      "intercept                         : -3.26815586974525\n",
      "Mean Absolute Error               : 2.2643469370648623\n",
      "Mean Squared Error                : 51.59406978905413\n",
      "Root Mean Squared Error           : 7.182901209751818\n"
     ]
    }
   ],
   "source": [
    "#LinearRegression sense train/test (validació interna):\n",
    "\n",
    "Normalize     = False\n",
    "fit_intercept = True\n",
    "\n",
    "LinearRegressionCustom(df_sample, Normalize, fit_intercept, X, y, X, y, False, False)"
   ]
  },
  {
   "cell_type": "code",
   "execution_count": 596,
   "id": "01e7efe6",
   "metadata": {},
   "outputs": [],
   "source": [
    "# Conclusiones: A pesar de cambiar los parámetros los resultados son los mismos. No obstante El coeficiente de correlación es suficientemente alto.\n",
    "    \n",
    "# Veremos que resultados salen comparativamente con otros modelos de regresión.    "
   ]
  },
  {
   "cell_type": "markdown",
   "id": "c11314df",
   "metadata": {},
   "source": [
    "## MODELO DE REGRESIÓN RANDOM FOREST #"
   ]
  },
  {
   "cell_type": "code",
   "execution_count": 577,
   "id": "9b077413",
   "metadata": {},
   "outputs": [
    {
     "name": "stdout",
     "output_type": "stream",
     "text": [
      "El coeficiente de determinación es: 0.9989711926121598\n",
      "Mean Absolute Error               : 0.5819310712373293\n",
      "Mean Squared Error                : 3.388186524885782\n",
      "Root Mean Squared Error           : 1.840702725832116\n"
     ]
    },
    {
     "data": {
      "image/png": "[encoded data removed]",
      "text/plain": [
       "<Figure size 720x504 with 1 Axes>"
      ]
     },
     "metadata": {
      "needs_background": "light"
     },
     "output_type": "display_data"
    }
   ],
   "source": [
    "#RandomForestRegressor sense train/test (validació interna):\n",
    "\n",
    "n_estimators  = 30\n",
    "max_depth     = 30\n",
    "\n",
    "RandomForestRegressorCustom(df_sample, n_estimators , max_depth, X, y, X, y, False, True)"
   ]
  },
  {
   "cell_type": "code",
   "execution_count": null,
   "id": "c7d00932",
   "metadata": {},
   "outputs": [],
   "source": [
    "# Feature importance refers to techniques that assign a score to input features based on how useful they are at predicting a target variable\n",
    "# Por lo tanto estas \"features\" son las más relevantes para predecir la variable que estamos prediciendo."
   ]
  },
  {
   "cell_type": "code",
   "execution_count": 578,
   "id": "e6f5f98f",
   "metadata": {},
   "outputs": [
    {
     "name": "stdout",
     "output_type": "stream",
     "text": [
      "El coeficiente de determinación es: 0.9989305928503354\n",
      "Mean Absolute Error               : 0.5173313641135966\n",
      "Mean Squared Error                : 3.521894318543814\n",
      "Root Mean Squared Error           : 1.876671073615143\n"
     ]
    }
   ],
   "source": [
    "# Entrenamos el modelo y observamos que si limitamos la profundidad del árbol, el modelo empeora de 0.9020 a 0.7714\n",
    "\n",
    "n_estimators = 200\n",
    "max_depth    = 2\n",
    "\n",
    "RandomForestRegressorCustom(df_sample, n_estimators , max_depth, X, y, X, y, False, False)"
   ]
  },
  {
   "cell_type": "code",
   "execution_count": 598,
   "id": "93f69028",
   "metadata": {},
   "outputs": [],
   "source": [
    "# Conclusiones: Utilizando el modelo de regresion Random Forest (en cualquiera de las dos versiones que hemo hecho) mejora con respecto al modelo de regresión lineal.\n",
    "\n",
    "# Hay que revisar en cuanto a las dos versiones de random forest modificando los parámetros. La mejora de uno respecto al otro es muy sutil, pero hay mejora.\n",
    "\n",
    "\n",
    "# COMPARACIÓN EN BASE A R2 \n",
    "# El ajuste del modelo (coefficient of determination) en todos los modelos es superior a 0.90, es bastante bueno.\n",
    "\n",
    "# COMPARACIÓN EN BASE A MSE (mean squared error) #\n",
    "# El error cuadrático medio es el criterio de evaluación más usado para problemas de aprendizaje supervisado de regresión y nos proporciona información sobre cuán cerca están los puntos de datos observados de los valores predichos del modelo. Cuanto mayor sea este valor, peor es el modelo\n",
    "\n",
    "# Para comprobar si el MSE se debe a valores atípicos. Para ello se calcula el MAE(mean_absolute_error), donde el error se calcula como un promedio de diferencias absolutas entre los valores objetivo y las predicciones. \n",
    "# En este caso todas las diferencias individuales se ponderan por igual en el promedio, por lo que MAE (mean_absolute_error) es MENOS sensible a los valores atípicos que el error cuadrático medio. \n"
   ]
  },
  {
   "cell_type": "markdown",
   "id": "6a440ea9",
   "metadata": {},
   "source": [
    "## MODELO DE ARBOL DE REGRESIÓN"
   ]
  },
  {
   "cell_type": "code",
   "execution_count": 599,
   "id": "96d584c9",
   "metadata": {},
   "outputs": [
    {
     "name": "stdout",
     "output_type": "stream",
     "text": [
      "El coeficiente de determinación es: 0.9953693446764531\n",
      "Mean Absolute Error               : 2.235475599281426\n",
      "Mean Squared Error                : 15.2502053873945\n",
      "Root Mean Squared Error           : 3.9051511350259545\n"
     ]
    },
    {
     "data": {
      "image/png": "[encoded data removed]",
      "text/plain": [
       "<Figure size 720x504 with 1 Axes>"
      ]
     },
     "metadata": {
      "needs_background": "light"
     },
     "output_type": "display_data"
    }
   ],
   "source": [
    "#DecisionTreeRegressor sense train/test (validació interna):\n",
    "\n",
    "max_depth     = 15\n",
    "\n",
    "DecisionTreeRegressorCustom(df_sample, max_depth, X, y, X, y, False, True)"
   ]
  },
  {
   "cell_type": "markdown",
   "id": "812200a3",
   "metadata": {},
   "source": []
  },
  {
   "cell_type": "code",
   "execution_count": 600,
   "id": "52e7b05e",
   "metadata": {},
   "outputs": [],
   "source": [
    "# Conclusiones: Los resultados del modelo de arbol de regresion son peores que el modelo de random forest.\n",
    "# Las variables o caracteristicas más importantes (las 5 primeras) son las mismas excepto la 5, que en random forest es \"Carrier Delay\" y en árbol de decisión es \"LateAircraftDelay\""
   ]
  },
  {
   "cell_type": "code",
   "execution_count": null,
   "id": "0ca385ed",
   "metadata": {},
   "outputs": [],
   "source": []
  },
  {
   "cell_type": "markdown",
   "id": "4a03530f",
   "metadata": {},
   "source": [
    "## Exercici 1\n",
    "### Parteix el conjunt de dadesDelayedFlights.csv en train i test. Estudia els dos conjunts per separat, a nivell descriptiu.\n"
   ]
  },
  {
   "cell_type": "markdown",
   "id": "54ddd3f7",
   "metadata": {},
   "source": [
    "### Compara el seu rendiment utilitzant l’aproximació traint/test o utilitzant totes les dades (validació interna):\n",
    "\n",
    "### Vamos a comparar el rendimiento de los modelos (utilizando train/test), contrastando los datos que han sido predecidos por cada modelo con los datos reales. Así podremos comprobar qué modelo se ajusta más. \n"
   ]
  },
  {
   "cell_type": "markdown",
   "id": "ae766a01",
   "metadata": {},
   "source": [
    "## MODELO DE REGRESIÓN LINEAL SIMPLE #"
   ]
  },
  {
   "cell_type": "code",
   "execution_count": 580,
   "id": "3c8882e0",
   "metadata": {},
   "outputs": [
    {
     "name": "stdout",
     "output_type": "stream",
     "text": [
      "El coeficiente de determinación es: 0.9891633930223983\n",
      "intercept                         : 0.0\n",
      "Mean Absolute Error               : 2.4148667803596946\n",
      "Mean Squared Error                : 35.514719119963736\n",
      "Root Mean Squared Error           : 5.959422717005712\n"
     ]
    }
   ],
   "source": [
    "Normalize     = False\n",
    "fit_intercept = False\n",
    "\n",
    "LinearRegressionCustom(df_sample, Normalize, fit_intercept, X_train, y_train, X_test, y_test, False, False)"
   ]
  },
  {
   "cell_type": "markdown",
   "id": "61a6e589",
   "metadata": {},
   "source": [
    "## MODELO DE REGRESIÓN RANDOM FOREST #"
   ]
  },
  {
   "cell_type": "code",
   "execution_count": 581,
   "id": "af67b0e7",
   "metadata": {},
   "outputs": [
    {
     "name": "stdout",
     "output_type": "stream",
     "text": [
      "El coeficiente de determinación es: 0.9985986481748365\n",
      "Mean Absolute Error               : 1.5514250894889263\n",
      "Mean Squared Error                : 17.831242963455217\n",
      "Root Mean Squared Error           : 4.222705644898211\n"
     ]
    }
   ],
   "source": [
    "n_estimators = 1000\n",
    "max_depth    = None\n",
    "\n",
    "RandomForestRegressorCustom(df_sample, n_estimators , max_depth, X_train, y_train, X_test, y_test, False, False)"
   ]
  },
  {
   "cell_type": "code",
   "execution_count": 582,
   "id": "0bcec092",
   "metadata": {},
   "outputs": [
    {
     "name": "stdout",
     "output_type": "stream",
     "text": [
      "El coeficiente de determinación es: 0.9985783633187784\n",
      "Mean Absolute Error               : 1.5738560100823444\n",
      "Mean Squared Error                : 18.09350571332731\n",
      "Root Mean Squared Error           : 4.253646166916956\n"
     ]
    }
   ],
   "source": [
    "# Entrenamos el modelo variando los parámetros, y vemos que el modelo mejora de 0.9020 a 0.9011\n",
    "\n",
    "n_estimators = 100\n",
    "max_depth    = None\n",
    "\n",
    "RandomForestRegressorCustom(df_sample, n_estimators, max_depth, X_train, y_train, X_test, y_test, False, False)"
   ]
  },
  {
   "cell_type": "code",
   "execution_count": 583,
   "id": "21ea6871",
   "metadata": {},
   "outputs": [
    {
     "name": "stdout",
     "output_type": "stream",
     "text": [
      "El coeficiente de determinación es: 0.9985485553930986\n",
      "Mean Absolute Error               : 1.5643983598806976\n",
      "Mean Squared Error                : 18.06019704717135\n",
      "Root Mean Squared Error           : 4.249729055736536\n"
     ]
    }
   ],
   "source": [
    "# Entrenamos el modelo y observamos que si limitamos la profundidad del árbol, el modelo empeora de 0.9020 a 0.7714\n",
    "\n",
    "n_estimators = 200\n",
    "max_depth    = 2\n",
    "\n",
    "RandomForestRegressorCustom(df_sample, n_estimators , max_depth, X_train, y_train, X_test, y_test, False, False)"
   ]
  },
  {
   "cell_type": "markdown",
   "id": "1f884457",
   "metadata": {},
   "source": [
    "## MODELO DE REGRESIÓN POLINÓMICA #"
   ]
  },
  {
   "cell_type": "code",
   "execution_count": 584,
   "id": "8c5c39a9",
   "metadata": {},
   "outputs": [
    {
     "name": "stdout",
     "output_type": "stream",
     "text": [
      "El coeficiente de determinación es: 0.9981043844520004\n",
      "intercept                         : 0.0\n",
      "Mean Absolute Error               : 0.8272698762583279\n",
      "Mean Squared Error                : 6.212484579886534\n",
      "Root Mean Squared Error           : 2.492485622804379\n"
     ]
    }
   ],
   "source": [
    "X1 = PolynomialFeatures(degree=3, include_bias=False).fit_transform(X)# MODELO DE REGRESIÓN POLINÓMICA \n",
    "X1_train, X1_test, y1_train, y1_test = train_test_split(X1, y, test_size=0.2, random_state=0)\n",
    "#X_train, X_test, y_train, y_test = train_test_split(X, y, test_size=0.2, random_state=1234)\n",
    "\n",
    "Normalize     = False\n",
    "fit_intercept = False\n",
    "\n",
    "LinearRegressionCustom(df_sample, Normalize, fit_intercept, X1_train, y1_train, X1_test, y1_test, False, False)\n"
   ]
  },
  {
   "cell_type": "code",
   "execution_count": 602,
   "id": "d7204530",
   "metadata": {},
   "outputs": [],
   "source": [
    "# Conclusiones: haciendo una aproximación traint/test y utilitzant totes les dades, el modelo que mejor resultado da es el modelo de regresión polinomica en cuanto a los parámetros de error, sin embargo el El coeficiente de determinación más alto lo da el modelo de regresión random forest."
   ]
  },
  {
   "cell_type": "markdown",
   "id": "e26ebe8f",
   "metadata": {},
   "source": [
    "## MODELO DE ARBOL DE REGRESIÓN"
   ]
  },
  {
   "cell_type": "markdown",
   "id": "e9a7790d",
   "metadata": {},
   "source": [
    "## Visualització de l'efecte del paràmete max_depth en el MAE de train i test. max depth = rang (1-50):"
   ]
  },
  {
   "cell_type": "code",
   "execution_count": 585,
   "id": "b824464b",
   "metadata": {},
   "outputs": [
    {
     "name": "stdout",
     "output_type": "stream",
     "text": [
      "[ 1.  2.  3.  4.  5.  6.  7.  8.  9. 10. 11. 12. 13. 14. 15. 16. 17. 18.\n",
      " 19. 20. 21. 22. 23. 24. 25. 26. 27. 28. 29. 30. 31. 32. 33. 34. 35. 36.\n",
      " 37. 38. 39. 40. 41. 42. 43. 44. 45. 46. 47. 48. 49. 50.]\n"
     ]
    },
    {
     "data": {
      "image/png": "[encoded data removed]",
      "text/plain": [
       "<Figure size 432x288 with 1 Axes>"
      ]
     },
     "metadata": {
      "needs_background": "light"
     },
     "output_type": "display_data"
    }
   ],
   "source": [
    "max_depths = np.linspace(1, 50, 50, endpoint=True)\n",
    "print(max_depths)\n",
    "RegressionChart(max_depths, 'DecisionTreeRegressor', 'max_depth',  X_train, y_train, X_test, y_test)\n"
   ]
  },
  {
   "cell_type": "code",
   "execution_count": 603,
   "id": "7e0a3d3c",
   "metadata": {},
   "outputs": [],
   "source": [
    "# Cuanto mayor es el \"max_depth\" el MAE es menor, pero aumenta la diferencia del MAE entre el dataset de train i test"
   ]
  },
  {
   "cell_type": "markdown",
   "id": "fa9235b2",
   "metadata": {},
   "source": [
    "## Visualització de l'efecte del paràmete min_samples_split en el MAE de train i test. min_samples_split = rang(0.1 -1):"
   ]
  },
  {
   "cell_type": "code",
   "execution_count": 586,
   "id": "b826a596",
   "metadata": {},
   "outputs": [
    {
     "name": "stdout",
     "output_type": "stream",
     "text": [
      "[0.1 0.2 0.3 0.4 0.5 0.6 0.7 0.8 0.9 1. ]\n"
     ]
    },
    {
     "data": {
      "image/png": "[encoded data removed]",
      "text/plain": [
       "<Figure size 432x288 with 1 Axes>"
      ]
     },
     "metadata": {
      "needs_background": "light"
     },
     "output_type": "display_data"
    }
   ],
   "source": [
    "min_samples_splits = np.linspace(0.1, 1.0, 10, endpoint=True)\n",
    "print(min_samples_splits)\n",
    "\n",
    "RegressionChart(min_samples_splits, 'DecisionTreeRegressor', 'min_samples_splits',  X_train, y_train, X_test, y_test)\n"
   ]
  },
  {
   "cell_type": "code",
   "execution_count": 604,
   "id": "5cadc836",
   "metadata": {},
   "outputs": [],
   "source": [
    "# Cuanto mayor es el \"min_samples_split\" el MAE es mayor, y no hay diferencia de MAE entre el dataset de train i test"
   ]
  },
  {
   "cell_type": "markdown",
   "id": "57332bba",
   "metadata": {},
   "source": [
    "## Visualització de l'efecte del paràmete min_samples_leaf en el MAE de train i test. min_samples_leaf = rang(0.01 -0.5):"
   ]
  },
  {
   "cell_type": "code",
   "execution_count": 587,
   "id": "dd558c54",
   "metadata": {},
   "outputs": [
    {
     "name": "stdout",
     "output_type": "stream",
     "text": [
      "[0.001      0.02726316 0.05352632 0.07978947 0.10605263 0.13231579\n",
      " 0.15857895 0.18484211 0.21110526 0.23736842 0.26363158 0.28989474\n",
      " 0.31615789 0.34242105 0.36868421 0.39494737 0.42121053 0.44747368\n",
      " 0.47373684 0.5       ]\n"
     ]
    },
    {
     "data": {
      "image/png": "[encoded data removed]",
      "text/plain": [
       "<Figure size 432x288 with 1 Axes>"
      ]
     },
     "metadata": {
      "needs_background": "light"
     },
     "output_type": "display_data"
    }
   ],
   "source": [
    "min_samples_leafs = np.linspace(0.001, 0.5, 20, endpoint=True)\n",
    "print(min_samples_leafs)\n",
    "\n",
    "RegressionChart(min_samples_leafs, 'DecisionTreeRegressor', 'min_samples_leafs', X_train, y_train, X_test, y_test)\n"
   ]
  },
  {
   "cell_type": "code",
   "execution_count": 605,
   "id": "ab3ee7d6",
   "metadata": {},
   "outputs": [],
   "source": [
    "# Cuanto mayor es el \"min_samples_leafs\" el MAE es mayor, y no hay diferencia de MAE entre el dataset de train i test"
   ]
  },
  {
   "cell_type": "markdown",
   "id": "19a03065",
   "metadata": {},
   "source": [
    "## Visualització de l'efecte del paràmete max_features en el MAE de train i test. max_features = rang(1-16):"
   ]
  },
  {
   "cell_type": "code",
   "execution_count": 588,
   "id": "692154fa",
   "metadata": {},
   "outputs": [
    {
     "name": "stdout",
     "output_type": "stream",
     "text": [
      "[1, 2, 3, 4, 5, 6, 7, 8, 9, 10, 11, 12, 13, 14, 15, 16, 17, 18, 19, 20, 21, 22, 23, 24]\n"
     ]
    },
    {
     "data": {
      "image/png": "[encoded data removed]",
      "text/plain": [
       "<Figure size 432x288 with 1 Axes>"
      ]
     },
     "metadata": {
      "needs_background": "light"
     },
     "output_type": "display_data"
    }
   ],
   "source": [
    "max_features = list(range(1,df_sample.shape[1]))\n",
    "\n",
    "print(max_features)\n",
    "\n",
    "RegressionChart(max_features, 'DecisionTreeRegressor', 'max_features', X_train, y_train, X_test, y_test)\n"
   ]
  },
  {
   "cell_type": "code",
   "execution_count": 606,
   "id": "92ec782f",
   "metadata": {},
   "outputs": [],
   "source": [
    "# Conclusió: canviem el paràmetre max_depth a 15. Deixem min_samples_leaf i min_samples_split per defecte al mínim. D'aquesta manera aconseguim reduïr els marges d'errors en les 3 mesures de correció emprades (MAE, MSE, RMSE) en comparació a l'estimació inicial.\n",
    "# Quantes més variable \"max_features\" el MAE se reduce."
   ]
  },
  {
   "cell_type": "markdown",
   "id": "04496395",
   "metadata": {},
   "source": [
    "## MODELO DE REGRESIÓN RANDOM FOREST #"
   ]
  },
  {
   "cell_type": "markdown",
   "id": "d5564c8d",
   "metadata": {},
   "source": [
    "# Visualització de l'efecte del paràmetre N_estimators en el MAE de train i test."
   ]
  },
  {
   "cell_type": "code",
   "execution_count": 590,
   "id": "3933906e",
   "metadata": {},
   "outputs": [
    {
     "name": "stdout",
     "output_type": "stream",
     "text": [
      "[1, 2, 4, 8, 16, 32, 64, 100, 200]\n"
     ]
    },
    {
     "data": {
      "image/png": "[encoded data removed]",
      "text/plain": [
       "<Figure size 432x288 with 1 Axes>"
      ]
     },
     "metadata": {
      "needs_background": "light"
     },
     "output_type": "display_data"
    }
   ],
   "source": [
    "n_estimators = [1, 2, 4, 8, 16, 32, 64, 100, 200]\n",
    "\n",
    "print(n_estimators)\n",
    "\n",
    "RegressionChart(n_estimators,'RandomForestRegressor', 'n_estimator', X_train, y_train, X_test, y_test)\n"
   ]
  },
  {
   "cell_type": "markdown",
   "id": "eef10632",
   "metadata": {},
   "source": [
    "## Visualització de l'efecte del paràmete max_depth en el MAE de train i test. max depth = rang (1-50):"
   ]
  },
  {
   "cell_type": "code",
   "execution_count": 591,
   "id": "66d67460",
   "metadata": {},
   "outputs": [
    {
     "name": "stdout",
     "output_type": "stream",
     "text": [
      "[ 1.   13.25 25.5  37.75 50.  ]\n"
     ]
    },
    {
     "data": {
      "image/png": "[encoded data removed]",
      "text/plain": [
       "<Figure size 432x288 with 1 Axes>"
      ]
     },
     "metadata": {
      "needs_background": "light"
     },
     "output_type": "display_data"
    }
   ],
   "source": [
    "max_depths = np.linspace(1, 50, 5, endpoint=True)\n",
    "\n",
    "print(max_depths)\n",
    "\n",
    "RegressionChart(max_depths,'RandomForestRegressor', 'max_depths',X_train, y_train, X_test, y_test)\n"
   ]
  },
  {
   "cell_type": "markdown",
   "id": "60c25724",
   "metadata": {},
   "source": [
    "## Visualització de l'efecte del paràmete min_samples_split en el MAE de train i test. min_samples_split = rang(0.1 -1):"
   ]
  },
  {
   "cell_type": "code",
   "execution_count": 592,
   "id": "35517b2d",
   "metadata": {},
   "outputs": [
    {
     "name": "stdout",
     "output_type": "stream",
     "text": [
      "[0.1 0.2 0.3 0.4 0.5 0.6 0.7 0.8 0.9 1. ]\n"
     ]
    },
    {
     "data": {
      "image/png": "[encoded data removed]",
      "text/plain": [
       "<Figure size 432x288 with 1 Axes>"
      ]
     },
     "metadata": {
      "needs_background": "light"
     },
     "output_type": "display_data"
    }
   ],
   "source": [
    "\n",
    "min_samples_splits = np.linspace(0.1, 1.0, 10, endpoint=True)\n",
    "print(min_samples_splits)\n",
    "train_results = []\n",
    "test_results = []\n",
    "\n",
    "RegressionChart(min_samples_splits,'RandomForestRegressor', 'min_samples_splits',X_train, y_train, X_test, y_test)\n"
   ]
  },
  {
   "cell_type": "markdown",
   "id": "c833e818",
   "metadata": {},
   "source": [
    "## Visualització de l'efecte del paràmete min_samples_leaf en el MAE de train i test. min_samples_leaf = rang(0.01 -0.5):"
   ]
  },
  {
   "cell_type": "code",
   "execution_count": 593,
   "id": "052e78aa",
   "metadata": {},
   "outputs": [
    {
     "name": "stdout",
     "output_type": "stream",
     "text": [
      "[0.1 0.2 0.3 0.4 0.5]\n"
     ]
    },
    {
     "data": {
      "image/png": "[encoded data removed]",
      "text/plain": [
       "<Figure size 432x288 with 1 Axes>"
      ]
     },
     "metadata": {
      "needs_background": "light"
     },
     "output_type": "display_data"
    }
   ],
   "source": [
    "min_samples_leafs = np.linspace(0.1, 0.5, 5, endpoint=True)\n",
    "\n",
    "print(min_samples_leafs)\n",
    "\n",
    "RegressionChart(min_samples_leafs,'RandomForestRegressor', 'min_samples_leafs',X_train, y_train, X_test, y_test)\n"
   ]
  },
  {
   "cell_type": "markdown",
   "id": "5602783c",
   "metadata": {},
   "source": [
    "## Visualització de l'efecte del paràmete max_features en el MAE de train i test. max_features = rang(1-16):"
   ]
  },
  {
   "cell_type": "code",
   "execution_count": 594,
   "id": "3fa66ea6",
   "metadata": {},
   "outputs": [
    {
     "name": "stdout",
     "output_type": "stream",
     "text": [
      "[1, 2, 3, 4, 5, 6, 7, 8, 9, 10, 11, 12, 13, 14, 15, 16, 17, 18, 19, 20, 21, 22, 23, 24]\n"
     ]
    },
    {
     "data": {
      "image/png": "[encoded data removed]",
      "text/plain": [
       "<Figure size 432x288 with 1 Axes>"
      ]
     },
     "metadata": {
      "needs_background": "light"
     },
     "output_type": "display_data"
    }
   ],
   "source": [
    "max_features = list(range(1,df_sample.shape[1]))\n",
    "\n",
    "print(max_features)\n",
    "\n",
    "RegressionChart(max_features,'RandomForestRegressor', 'max_features',X_train, y_train, X_test, y_test)\n"
   ]
  },
  {
   "cell_type": "code",
   "execution_count": 639,
   "id": "ff28249f",
   "metadata": {},
   "outputs": [],
   "source": [
    "#Conclusió: en el cas del # Random Forest Regressor podem canviar principalment el paràmetre del número d'arbres que volem generar. En el cas del nostre dataset, el cost computacional és molt gran així que hem canviat el parametre per defecte(100) a 500. Tambe hem fet servir el 'random_state', per tenir resultats reproduibles, i canviat el 'max_features' a 'sqrt'.\n",
    "\n",
    "# Comportament de les variables és practicament el mateix: quant més gran el paràmetre max_depth, i deixant min_samples_leaf i min_samples_split per defecte al mínim, s'aconseguim reduïr els marges d'errors en les 3 mesures de correció emprades (MAE, MSE, RMSE) en comparació a l'estimació inicial.\n"
   ]
  },
  {
   "cell_type": "markdown",
   "id": "df60e727",
   "metadata": {},
   "source": [
    "# Exercici 2\n",
    "## Aplica algun procés de transformació (estandarditzar les dades numèriques, crear columnes dummies, polinomis...).\n"
   ]
  },
  {
   "cell_type": "code",
   "execution_count": 640,
   "id": "b522887f",
   "metadata": {},
   "outputs": [],
   "source": [
    "# Es realitza procés d’enginyeria de variables per millorar-ne la predicció\n",
    "\n",
    "# En los ejercicios anteriores hemos visto que el modelo de regresión lineal simple era el menos preciso, por muy poco, de los 3\n",
    "# modelos, pero quizá podría mejorarse el el algoritmo si eliminamos los outliers y standarizamos los valores y, por tanto, \n",
    "# realizar predicciones mucho más ajustadas. Vamos a verlo.  \n",
    "\n",
    "# Fins ara el que hem fet en relació a la enginyeria de variables ha estat: eliminar columnes categòriques, imputar els null values i visualitzar els features importance dels algoritmes de Decision Tree i Random Forest.\n",
    "# Ara intentarem millorar els models inicials o si més no veure quin efecte tenen diferents maneres de fer enginyeria de variables.\n"
   ]
  },
  {
   "cell_type": "code",
   "execution_count": 641,
   "id": "fda7e907",
   "metadata": {},
   "outputs": [
    {
     "data": {
      "text/html": [
       "<div>\n",
       "<style scoped>\n",
       "    .dataframe tbody tr th:only-of-type {\n",
       "        vertical-align: middle;\n",
       "    }\n",
       "\n",
       "    .dataframe tbody tr th {\n",
       "        vertical-align: top;\n",
       "    }\n",
       "\n",
       "    .dataframe thead th {\n",
       "        text-align: right;\n",
       "    }\n",
       "</style>\n",
       "<table border=\"1\" class=\"dataframe\">\n",
       "  <thead>\n",
       "    <tr style=\"text-align: right;\">\n",
       "      <th></th>\n",
       "      <th>Unnamed: 0</th>\n",
       "      <th>Year</th>\n",
       "      <th>Month</th>\n",
       "      <th>DayofMonth</th>\n",
       "      <th>DayOfWeek</th>\n",
       "      <th>DepTime</th>\n",
       "      <th>CRSDepTime</th>\n",
       "      <th>ArrTime</th>\n",
       "      <th>CRSArrTime</th>\n",
       "      <th>UniqueCarrier</th>\n",
       "      <th>FlightNum</th>\n",
       "      <th>TailNum</th>\n",
       "      <th>ActualElapsedTime</th>\n",
       "      <th>CRSElapsedTime</th>\n",
       "      <th>AirTime</th>\n",
       "      <th>ArrDelay</th>\n",
       "      <th>DepDelay</th>\n",
       "      <th>Origin</th>\n",
       "      <th>Dest</th>\n",
       "      <th>Distance</th>\n",
       "      <th>TaxiIn</th>\n",
       "      <th>TaxiOut</th>\n",
       "      <th>Cancelled</th>\n",
       "      <th>CancellationCode</th>\n",
       "      <th>Diverted</th>\n",
       "      <th>CarrierDelay</th>\n",
       "      <th>WeatherDelay</th>\n",
       "      <th>NASDelay</th>\n",
       "      <th>SecurityDelay</th>\n",
       "      <th>LateAircraftDelay</th>\n",
       "    </tr>\n",
       "  </thead>\n",
       "  <tbody>\n",
       "    <tr>\n",
       "      <th>0</th>\n",
       "      <td>0</td>\n",
       "      <td>2008</td>\n",
       "      <td>1</td>\n",
       "      <td>3</td>\n",
       "      <td>4</td>\n",
       "      <td>2003.0</td>\n",
       "      <td>1955</td>\n",
       "      <td>2211.0</td>\n",
       "      <td>2225</td>\n",
       "      <td>WN</td>\n",
       "      <td>335</td>\n",
       "      <td>N712SW</td>\n",
       "      <td>128.0</td>\n",
       "      <td>150.0</td>\n",
       "      <td>116.0</td>\n",
       "      <td>-14.0</td>\n",
       "      <td>8.0</td>\n",
       "      <td>IAD</td>\n",
       "      <td>TPA</td>\n",
       "      <td>810</td>\n",
       "      <td>4.0</td>\n",
       "      <td>8.0</td>\n",
       "      <td>0</td>\n",
       "      <td>N</td>\n",
       "      <td>0</td>\n",
       "      <td>NaN</td>\n",
       "      <td>NaN</td>\n",
       "      <td>NaN</td>\n",
       "      <td>NaN</td>\n",
       "      <td>NaN</td>\n",
       "    </tr>\n",
       "    <tr>\n",
       "      <th>1</th>\n",
       "      <td>1</td>\n",
       "      <td>2008</td>\n",
       "      <td>1</td>\n",
       "      <td>3</td>\n",
       "      <td>4</td>\n",
       "      <td>754.0</td>\n",
       "      <td>735</td>\n",
       "      <td>1002.0</td>\n",
       "      <td>1000</td>\n",
       "      <td>WN</td>\n",
       "      <td>3231</td>\n",
       "      <td>N772SW</td>\n",
       "      <td>128.0</td>\n",
       "      <td>145.0</td>\n",
       "      <td>113.0</td>\n",
       "      <td>2.0</td>\n",
       "      <td>19.0</td>\n",
       "      <td>IAD</td>\n",
       "      <td>TPA</td>\n",
       "      <td>810</td>\n",
       "      <td>5.0</td>\n",
       "      <td>10.0</td>\n",
       "      <td>0</td>\n",
       "      <td>N</td>\n",
       "      <td>0</td>\n",
       "      <td>NaN</td>\n",
       "      <td>NaN</td>\n",
       "      <td>NaN</td>\n",
       "      <td>NaN</td>\n",
       "      <td>NaN</td>\n",
       "    </tr>\n",
       "    <tr>\n",
       "      <th>2</th>\n",
       "      <td>2</td>\n",
       "      <td>2008</td>\n",
       "      <td>1</td>\n",
       "      <td>3</td>\n",
       "      <td>4</td>\n",
       "      <td>628.0</td>\n",
       "      <td>620</td>\n",
       "      <td>804.0</td>\n",
       "      <td>750</td>\n",
       "      <td>WN</td>\n",
       "      <td>448</td>\n",
       "      <td>N428WN</td>\n",
       "      <td>96.0</td>\n",
       "      <td>90.0</td>\n",
       "      <td>76.0</td>\n",
       "      <td>14.0</td>\n",
       "      <td>8.0</td>\n",
       "      <td>IND</td>\n",
       "      <td>BWI</td>\n",
       "      <td>515</td>\n",
       "      <td>3.0</td>\n",
       "      <td>17.0</td>\n",
       "      <td>0</td>\n",
       "      <td>N</td>\n",
       "      <td>0</td>\n",
       "      <td>NaN</td>\n",
       "      <td>NaN</td>\n",
       "      <td>NaN</td>\n",
       "      <td>NaN</td>\n",
       "      <td>NaN</td>\n",
       "    </tr>\n",
       "    <tr>\n",
       "      <th>3</th>\n",
       "      <td>4</td>\n",
       "      <td>2008</td>\n",
       "      <td>1</td>\n",
       "      <td>3</td>\n",
       "      <td>4</td>\n",
       "      <td>1829.0</td>\n",
       "      <td>1755</td>\n",
       "      <td>1959.0</td>\n",
       "      <td>1925</td>\n",
       "      <td>WN</td>\n",
       "      <td>3920</td>\n",
       "      <td>N464WN</td>\n",
       "      <td>90.0</td>\n",
       "      <td>90.0</td>\n",
       "      <td>77.0</td>\n",
       "      <td>34.0</td>\n",
       "      <td>34.0</td>\n",
       "      <td>IND</td>\n",
       "      <td>BWI</td>\n",
       "      <td>515</td>\n",
       "      <td>3.0</td>\n",
       "      <td>10.0</td>\n",
       "      <td>0</td>\n",
       "      <td>N</td>\n",
       "      <td>0</td>\n",
       "      <td>2.0</td>\n",
       "      <td>0.0</td>\n",
       "      <td>0.0</td>\n",
       "      <td>0.0</td>\n",
       "      <td>32.0</td>\n",
       "    </tr>\n",
       "    <tr>\n",
       "      <th>4</th>\n",
       "      <td>5</td>\n",
       "      <td>2008</td>\n",
       "      <td>1</td>\n",
       "      <td>3</td>\n",
       "      <td>4</td>\n",
       "      <td>1940.0</td>\n",
       "      <td>1915</td>\n",
       "      <td>2121.0</td>\n",
       "      <td>2110</td>\n",
       "      <td>WN</td>\n",
       "      <td>378</td>\n",
       "      <td>N726SW</td>\n",
       "      <td>101.0</td>\n",
       "      <td>115.0</td>\n",
       "      <td>87.0</td>\n",
       "      <td>11.0</td>\n",
       "      <td>25.0</td>\n",
       "      <td>IND</td>\n",
       "      <td>JAX</td>\n",
       "      <td>688</td>\n",
       "      <td>4.0</td>\n",
       "      <td>10.0</td>\n",
       "      <td>0</td>\n",
       "      <td>N</td>\n",
       "      <td>0</td>\n",
       "      <td>NaN</td>\n",
       "      <td>NaN</td>\n",
       "      <td>NaN</td>\n",
       "      <td>NaN</td>\n",
       "      <td>NaN</td>\n",
       "    </tr>\n",
       "    <tr>\n",
       "      <th>...</th>\n",
       "      <td>...</td>\n",
       "      <td>...</td>\n",
       "      <td>...</td>\n",
       "      <td>...</td>\n",
       "      <td>...</td>\n",
       "      <td>...</td>\n",
       "      <td>...</td>\n",
       "      <td>...</td>\n",
       "      <td>...</td>\n",
       "      <td>...</td>\n",
       "      <td>...</td>\n",
       "      <td>...</td>\n",
       "      <td>...</td>\n",
       "      <td>...</td>\n",
       "      <td>...</td>\n",
       "      <td>...</td>\n",
       "      <td>...</td>\n",
       "      <td>...</td>\n",
       "      <td>...</td>\n",
       "      <td>...</td>\n",
       "      <td>...</td>\n",
       "      <td>...</td>\n",
       "      <td>...</td>\n",
       "      <td>...</td>\n",
       "      <td>...</td>\n",
       "      <td>...</td>\n",
       "      <td>...</td>\n",
       "      <td>...</td>\n",
       "      <td>...</td>\n",
       "      <td>...</td>\n",
       "    </tr>\n",
       "    <tr>\n",
       "      <th>1936753</th>\n",
       "      <td>7009710</td>\n",
       "      <td>2008</td>\n",
       "      <td>12</td>\n",
       "      <td>13</td>\n",
       "      <td>6</td>\n",
       "      <td>1250.0</td>\n",
       "      <td>1220</td>\n",
       "      <td>1617.0</td>\n",
       "      <td>1552</td>\n",
       "      <td>DL</td>\n",
       "      <td>1621</td>\n",
       "      <td>N938DL</td>\n",
       "      <td>147.0</td>\n",
       "      <td>152.0</td>\n",
       "      <td>120.0</td>\n",
       "      <td>25.0</td>\n",
       "      <td>30.0</td>\n",
       "      <td>MSP</td>\n",
       "      <td>ATL</td>\n",
       "      <td>906</td>\n",
       "      <td>9.0</td>\n",
       "      <td>18.0</td>\n",
       "      <td>0</td>\n",
       "      <td>N</td>\n",
       "      <td>0</td>\n",
       "      <td>3.0</td>\n",
       "      <td>0.0</td>\n",
       "      <td>0.0</td>\n",
       "      <td>0.0</td>\n",
       "      <td>22.0</td>\n",
       "    </tr>\n",
       "    <tr>\n",
       "      <th>1936754</th>\n",
       "      <td>7009717</td>\n",
       "      <td>2008</td>\n",
       "      <td>12</td>\n",
       "      <td>13</td>\n",
       "      <td>6</td>\n",
       "      <td>657.0</td>\n",
       "      <td>600</td>\n",
       "      <td>904.0</td>\n",
       "      <td>749</td>\n",
       "      <td>DL</td>\n",
       "      <td>1631</td>\n",
       "      <td>N3743H</td>\n",
       "      <td>127.0</td>\n",
       "      <td>109.0</td>\n",
       "      <td>78.0</td>\n",
       "      <td>75.0</td>\n",
       "      <td>57.0</td>\n",
       "      <td>RIC</td>\n",
       "      <td>ATL</td>\n",
       "      <td>481</td>\n",
       "      <td>15.0</td>\n",
       "      <td>34.0</td>\n",
       "      <td>0</td>\n",
       "      <td>N</td>\n",
       "      <td>0</td>\n",
       "      <td>0.0</td>\n",
       "      <td>57.0</td>\n",
       "      <td>18.0</td>\n",
       "      <td>0.0</td>\n",
       "      <td>0.0</td>\n",
       "    </tr>\n",
       "    <tr>\n",
       "      <th>1936755</th>\n",
       "      <td>7009718</td>\n",
       "      <td>2008</td>\n",
       "      <td>12</td>\n",
       "      <td>13</td>\n",
       "      <td>6</td>\n",
       "      <td>1007.0</td>\n",
       "      <td>847</td>\n",
       "      <td>1149.0</td>\n",
       "      <td>1010</td>\n",
       "      <td>DL</td>\n",
       "      <td>1631</td>\n",
       "      <td>N909DA</td>\n",
       "      <td>162.0</td>\n",
       "      <td>143.0</td>\n",
       "      <td>122.0</td>\n",
       "      <td>99.0</td>\n",
       "      <td>80.0</td>\n",
       "      <td>ATL</td>\n",
       "      <td>IAH</td>\n",
       "      <td>689</td>\n",
       "      <td>8.0</td>\n",
       "      <td>32.0</td>\n",
       "      <td>0</td>\n",
       "      <td>N</td>\n",
       "      <td>0</td>\n",
       "      <td>1.0</td>\n",
       "      <td>0.0</td>\n",
       "      <td>19.0</td>\n",
       "      <td>0.0</td>\n",
       "      <td>79.0</td>\n",
       "    </tr>\n",
       "    <tr>\n",
       "      <th>1936756</th>\n",
       "      <td>7009726</td>\n",
       "      <td>2008</td>\n",
       "      <td>12</td>\n",
       "      <td>13</td>\n",
       "      <td>6</td>\n",
       "      <td>1251.0</td>\n",
       "      <td>1240</td>\n",
       "      <td>1446.0</td>\n",
       "      <td>1437</td>\n",
       "      <td>DL</td>\n",
       "      <td>1639</td>\n",
       "      <td>N646DL</td>\n",
       "      <td>115.0</td>\n",
       "      <td>117.0</td>\n",
       "      <td>89.0</td>\n",
       "      <td>9.0</td>\n",
       "      <td>11.0</td>\n",
       "      <td>IAD</td>\n",
       "      <td>ATL</td>\n",
       "      <td>533</td>\n",
       "      <td>13.0</td>\n",
       "      <td>13.0</td>\n",
       "      <td>0</td>\n",
       "      <td>N</td>\n",
       "      <td>0</td>\n",
       "      <td>NaN</td>\n",
       "      <td>NaN</td>\n",
       "      <td>NaN</td>\n",
       "      <td>NaN</td>\n",
       "      <td>NaN</td>\n",
       "    </tr>\n",
       "    <tr>\n",
       "      <th>1936757</th>\n",
       "      <td>7009727</td>\n",
       "      <td>2008</td>\n",
       "      <td>12</td>\n",
       "      <td>13</td>\n",
       "      <td>6</td>\n",
       "      <td>1110.0</td>\n",
       "      <td>1103</td>\n",
       "      <td>1413.0</td>\n",
       "      <td>1418</td>\n",
       "      <td>DL</td>\n",
       "      <td>1641</td>\n",
       "      <td>N908DL</td>\n",
       "      <td>123.0</td>\n",
       "      <td>135.0</td>\n",
       "      <td>104.0</td>\n",
       "      <td>-5.0</td>\n",
       "      <td>7.0</td>\n",
       "      <td>SAT</td>\n",
       "      <td>ATL</td>\n",
       "      <td>874</td>\n",
       "      <td>8.0</td>\n",
       "      <td>11.0</td>\n",
       "      <td>0</td>\n",
       "      <td>N</td>\n",
       "      <td>0</td>\n",
       "      <td>NaN</td>\n",
       "      <td>NaN</td>\n",
       "      <td>NaN</td>\n",
       "      <td>NaN</td>\n",
       "      <td>NaN</td>\n",
       "    </tr>\n",
       "  </tbody>\n",
       "</table>\n",
       "<p>1936758 rows × 30 columns</p>\n",
       "</div>"
      ],
      "text/plain": [
       "         Unnamed: 0  Year  Month  DayofMonth  DayOfWeek  DepTime  CRSDepTime  ArrTime  CRSArrTime UniqueCarrier  FlightNum TailNum  ActualElapsedTime  CRSElapsedTime  AirTime  ArrDelay  DepDelay Origin Dest  Distance  TaxiIn  TaxiOut  Cancelled CancellationCode  Diverted  CarrierDelay  WeatherDelay  NASDelay  SecurityDelay  LateAircraftDelay\n",
       "0                 0  2008      1           3          4   2003.0        1955   2211.0        2225            WN        335  N712SW              128.0           150.0    116.0     -14.0       8.0    IAD  TPA       810     4.0      8.0          0                N         0           NaN           NaN       NaN            NaN                NaN\n",
       "1                 1  2008      1           3          4    754.0         735   1002.0        1000            WN       3231  N772SW              128.0           145.0    113.0       2.0      19.0    IAD  TPA       810     5.0     10.0          0                N         0           NaN           NaN       NaN            NaN                NaN\n",
       "2                 2  2008      1           3          4    628.0         620    804.0         750            WN        448  N428WN               96.0            90.0     76.0      14.0       8.0    IND  BWI       515     3.0     17.0          0                N         0           NaN           NaN       NaN            NaN                NaN\n",
       "3                 4  2008      1           3          4   1829.0        1755   1959.0        1925            WN       3920  N464WN               90.0            90.0     77.0      34.0      34.0    IND  BWI       515     3.0     10.0          0                N         0           2.0           0.0       0.0            0.0               32.0\n",
       "4                 5  2008      1           3          4   1940.0        1915   2121.0        2110            WN        378  N726SW              101.0           115.0     87.0      11.0      25.0    IND  JAX       688     4.0     10.0          0                N         0           NaN           NaN       NaN            NaN                NaN\n",
       "...             ...   ...    ...         ...        ...      ...         ...      ...         ...           ...        ...     ...                ...             ...      ...       ...       ...    ...  ...       ...     ...      ...        ...              ...       ...           ...           ...       ...            ...                ...\n",
       "1936753     7009710  2008     12          13          6   1250.0        1220   1617.0        1552            DL       1621  N938DL              147.0           152.0    120.0      25.0      30.0    MSP  ATL       906     9.0     18.0          0                N         0           3.0           0.0       0.0            0.0               22.0\n",
       "1936754     7009717  2008     12          13          6    657.0         600    904.0         749            DL       1631  N3743H              127.0           109.0     78.0      75.0      57.0    RIC  ATL       481    15.0     34.0          0                N         0           0.0          57.0      18.0            0.0                0.0\n",
       "1936755     7009718  2008     12          13          6   1007.0         847   1149.0        1010            DL       1631  N909DA              162.0           143.0    122.0      99.0      80.0    ATL  IAH       689     8.0     32.0          0                N         0           1.0           0.0      19.0            0.0               79.0\n",
       "1936756     7009726  2008     12          13          6   1251.0        1240   1446.0        1437            DL       1639  N646DL              115.0           117.0     89.0       9.0      11.0    IAD  ATL       533    13.0     13.0          0                N         0           NaN           NaN       NaN            NaN                NaN\n",
       "1936757     7009727  2008     12          13          6   1110.0        1103   1413.0        1418            DL       1641  N908DL              123.0           135.0    104.0      -5.0       7.0    SAT  ATL       874     8.0     11.0          0                N         0           NaN           NaN       NaN            NaN                NaN\n",
       "\n",
       "[1936758 rows x 30 columns]"
      ]
     },
     "execution_count": 641,
     "metadata": {},
     "output_type": "execute_result"
    }
   ],
   "source": [
    "#Recuperació de les variables categòriques\n",
    "df = df_original.copy()\n",
    "df\n"
   ]
  },
  {
   "cell_type": "code",
   "execution_count": 642,
   "id": "7a55fc82",
   "metadata": {},
   "outputs": [
    {
     "data": {
      "text/html": [
       "<div>\n",
       "<style scoped>\n",
       "    .dataframe tbody tr th:only-of-type {\n",
       "        vertical-align: middle;\n",
       "    }\n",
       "\n",
       "    .dataframe tbody tr th {\n",
       "        vertical-align: top;\n",
       "    }\n",
       "\n",
       "    .dataframe thead th {\n",
       "        text-align: right;\n",
       "    }\n",
       "</style>\n",
       "<table border=\"1\" class=\"dataframe\">\n",
       "  <thead>\n",
       "    <tr style=\"text-align: right;\">\n",
       "      <th></th>\n",
       "      <th>Year</th>\n",
       "      <th>Month</th>\n",
       "      <th>DayofMonth</th>\n",
       "      <th>DayOfWeek</th>\n",
       "      <th>DepTime</th>\n",
       "      <th>CRSDepTime</th>\n",
       "      <th>ArrTime</th>\n",
       "      <th>CRSArrTime</th>\n",
       "      <th>UniqueCarrier</th>\n",
       "      <th>FlightNum</th>\n",
       "      <th>TailNum</th>\n",
       "      <th>ActualElapsedTime</th>\n",
       "      <th>CRSElapsedTime</th>\n",
       "      <th>AirTime</th>\n",
       "      <th>ArrDelay</th>\n",
       "      <th>DepDelay</th>\n",
       "      <th>Origin</th>\n",
       "      <th>Dest</th>\n",
       "      <th>Distance</th>\n",
       "      <th>TaxiIn</th>\n",
       "      <th>TaxiOut</th>\n",
       "      <th>Cancelled</th>\n",
       "      <th>CancellationCode</th>\n",
       "      <th>Diverted</th>\n",
       "      <th>CarrierDelay</th>\n",
       "      <th>WeatherDelay</th>\n",
       "      <th>NASDelay</th>\n",
       "      <th>SecurityDelay</th>\n",
       "      <th>LateAircraftDelay</th>\n",
       "    </tr>\n",
       "  </thead>\n",
       "  <tbody>\n",
       "    <tr>\n",
       "      <th>0</th>\n",
       "      <td>2008</td>\n",
       "      <td>1</td>\n",
       "      <td>3</td>\n",
       "      <td>4</td>\n",
       "      <td>2003.0</td>\n",
       "      <td>1955</td>\n",
       "      <td>2211.0</td>\n",
       "      <td>2225</td>\n",
       "      <td>WN</td>\n",
       "      <td>335</td>\n",
       "      <td>N712SW</td>\n",
       "      <td>128.0</td>\n",
       "      <td>150.0</td>\n",
       "      <td>116.0</td>\n",
       "      <td>-14.0</td>\n",
       "      <td>8.0</td>\n",
       "      <td>IAD</td>\n",
       "      <td>TPA</td>\n",
       "      <td>810</td>\n",
       "      <td>4.0</td>\n",
       "      <td>8.0</td>\n",
       "      <td>0</td>\n",
       "      <td>N</td>\n",
       "      <td>0</td>\n",
       "      <td>NaN</td>\n",
       "      <td>NaN</td>\n",
       "      <td>NaN</td>\n",
       "      <td>NaN</td>\n",
       "      <td>NaN</td>\n",
       "    </tr>\n",
       "    <tr>\n",
       "      <th>1</th>\n",
       "      <td>2008</td>\n",
       "      <td>1</td>\n",
       "      <td>3</td>\n",
       "      <td>4</td>\n",
       "      <td>754.0</td>\n",
       "      <td>735</td>\n",
       "      <td>1002.0</td>\n",
       "      <td>1000</td>\n",
       "      <td>WN</td>\n",
       "      <td>3231</td>\n",
       "      <td>N772SW</td>\n",
       "      <td>128.0</td>\n",
       "      <td>145.0</td>\n",
       "      <td>113.0</td>\n",
       "      <td>2.0</td>\n",
       "      <td>19.0</td>\n",
       "      <td>IAD</td>\n",
       "      <td>TPA</td>\n",
       "      <td>810</td>\n",
       "      <td>5.0</td>\n",
       "      <td>10.0</td>\n",
       "      <td>0</td>\n",
       "      <td>N</td>\n",
       "      <td>0</td>\n",
       "      <td>NaN</td>\n",
       "      <td>NaN</td>\n",
       "      <td>NaN</td>\n",
       "      <td>NaN</td>\n",
       "      <td>NaN</td>\n",
       "    </tr>\n",
       "    <tr>\n",
       "      <th>2</th>\n",
       "      <td>2008</td>\n",
       "      <td>1</td>\n",
       "      <td>3</td>\n",
       "      <td>4</td>\n",
       "      <td>628.0</td>\n",
       "      <td>620</td>\n",
       "      <td>804.0</td>\n",
       "      <td>750</td>\n",
       "      <td>WN</td>\n",
       "      <td>448</td>\n",
       "      <td>N428WN</td>\n",
       "      <td>96.0</td>\n",
       "      <td>90.0</td>\n",
       "      <td>76.0</td>\n",
       "      <td>14.0</td>\n",
       "      <td>8.0</td>\n",
       "      <td>IND</td>\n",
       "      <td>BWI</td>\n",
       "      <td>515</td>\n",
       "      <td>3.0</td>\n",
       "      <td>17.0</td>\n",
       "      <td>0</td>\n",
       "      <td>N</td>\n",
       "      <td>0</td>\n",
       "      <td>NaN</td>\n",
       "      <td>NaN</td>\n",
       "      <td>NaN</td>\n",
       "      <td>NaN</td>\n",
       "      <td>NaN</td>\n",
       "    </tr>\n",
       "    <tr>\n",
       "      <th>3</th>\n",
       "      <td>2008</td>\n",
       "      <td>1</td>\n",
       "      <td>3</td>\n",
       "      <td>4</td>\n",
       "      <td>1829.0</td>\n",
       "      <td>1755</td>\n",
       "      <td>1959.0</td>\n",
       "      <td>1925</td>\n",
       "      <td>WN</td>\n",
       "      <td>3920</td>\n",
       "      <td>N464WN</td>\n",
       "      <td>90.0</td>\n",
       "      <td>90.0</td>\n",
       "      <td>77.0</td>\n",
       "      <td>34.0</td>\n",
       "      <td>34.0</td>\n",
       "      <td>IND</td>\n",
       "      <td>BWI</td>\n",
       "      <td>515</td>\n",
       "      <td>3.0</td>\n",
       "      <td>10.0</td>\n",
       "      <td>0</td>\n",
       "      <td>N</td>\n",
       "      <td>0</td>\n",
       "      <td>2.0</td>\n",
       "      <td>0.0</td>\n",
       "      <td>0.0</td>\n",
       "      <td>0.0</td>\n",
       "      <td>32.0</td>\n",
       "    </tr>\n",
       "    <tr>\n",
       "      <th>4</th>\n",
       "      <td>2008</td>\n",
       "      <td>1</td>\n",
       "      <td>3</td>\n",
       "      <td>4</td>\n",
       "      <td>1940.0</td>\n",
       "      <td>1915</td>\n",
       "      <td>2121.0</td>\n",
       "      <td>2110</td>\n",
       "      <td>WN</td>\n",
       "      <td>378</td>\n",
       "      <td>N726SW</td>\n",
       "      <td>101.0</td>\n",
       "      <td>115.0</td>\n",
       "      <td>87.0</td>\n",
       "      <td>11.0</td>\n",
       "      <td>25.0</td>\n",
       "      <td>IND</td>\n",
       "      <td>JAX</td>\n",
       "      <td>688</td>\n",
       "      <td>4.0</td>\n",
       "      <td>10.0</td>\n",
       "      <td>0</td>\n",
       "      <td>N</td>\n",
       "      <td>0</td>\n",
       "      <td>NaN</td>\n",
       "      <td>NaN</td>\n",
       "      <td>NaN</td>\n",
       "      <td>NaN</td>\n",
       "      <td>NaN</td>\n",
       "    </tr>\n",
       "    <tr>\n",
       "      <th>...</th>\n",
       "      <td>...</td>\n",
       "      <td>...</td>\n",
       "      <td>...</td>\n",
       "      <td>...</td>\n",
       "      <td>...</td>\n",
       "      <td>...</td>\n",
       "      <td>...</td>\n",
       "      <td>...</td>\n",
       "      <td>...</td>\n",
       "      <td>...</td>\n",
       "      <td>...</td>\n",
       "      <td>...</td>\n",
       "      <td>...</td>\n",
       "      <td>...</td>\n",
       "      <td>...</td>\n",
       "      <td>...</td>\n",
       "      <td>...</td>\n",
       "      <td>...</td>\n",
       "      <td>...</td>\n",
       "      <td>...</td>\n",
       "      <td>...</td>\n",
       "      <td>...</td>\n",
       "      <td>...</td>\n",
       "      <td>...</td>\n",
       "      <td>...</td>\n",
       "      <td>...</td>\n",
       "      <td>...</td>\n",
       "      <td>...</td>\n",
       "      <td>...</td>\n",
       "    </tr>\n",
       "    <tr>\n",
       "      <th>1936753</th>\n",
       "      <td>2008</td>\n",
       "      <td>12</td>\n",
       "      <td>13</td>\n",
       "      <td>6</td>\n",
       "      <td>1250.0</td>\n",
       "      <td>1220</td>\n",
       "      <td>1617.0</td>\n",
       "      <td>1552</td>\n",
       "      <td>DL</td>\n",
       "      <td>1621</td>\n",
       "      <td>N938DL</td>\n",
       "      <td>147.0</td>\n",
       "      <td>152.0</td>\n",
       "      <td>120.0</td>\n",
       "      <td>25.0</td>\n",
       "      <td>30.0</td>\n",
       "      <td>MSP</td>\n",
       "      <td>ATL</td>\n",
       "      <td>906</td>\n",
       "      <td>9.0</td>\n",
       "      <td>18.0</td>\n",
       "      <td>0</td>\n",
       "      <td>N</td>\n",
       "      <td>0</td>\n",
       "      <td>3.0</td>\n",
       "      <td>0.0</td>\n",
       "      <td>0.0</td>\n",
       "      <td>0.0</td>\n",
       "      <td>22.0</td>\n",
       "    </tr>\n",
       "    <tr>\n",
       "      <th>1936754</th>\n",
       "      <td>2008</td>\n",
       "      <td>12</td>\n",
       "      <td>13</td>\n",
       "      <td>6</td>\n",
       "      <td>657.0</td>\n",
       "      <td>600</td>\n",
       "      <td>904.0</td>\n",
       "      <td>749</td>\n",
       "      <td>DL</td>\n",
       "      <td>1631</td>\n",
       "      <td>N3743H</td>\n",
       "      <td>127.0</td>\n",
       "      <td>109.0</td>\n",
       "      <td>78.0</td>\n",
       "      <td>75.0</td>\n",
       "      <td>57.0</td>\n",
       "      <td>RIC</td>\n",
       "      <td>ATL</td>\n",
       "      <td>481</td>\n",
       "      <td>15.0</td>\n",
       "      <td>34.0</td>\n",
       "      <td>0</td>\n",
       "      <td>N</td>\n",
       "      <td>0</td>\n",
       "      <td>0.0</td>\n",
       "      <td>57.0</td>\n",
       "      <td>18.0</td>\n",
       "      <td>0.0</td>\n",
       "      <td>0.0</td>\n",
       "    </tr>\n",
       "    <tr>\n",
       "      <th>1936755</th>\n",
       "      <td>2008</td>\n",
       "      <td>12</td>\n",
       "      <td>13</td>\n",
       "      <td>6</td>\n",
       "      <td>1007.0</td>\n",
       "      <td>847</td>\n",
       "      <td>1149.0</td>\n",
       "      <td>1010</td>\n",
       "      <td>DL</td>\n",
       "      <td>1631</td>\n",
       "      <td>N909DA</td>\n",
       "      <td>162.0</td>\n",
       "      <td>143.0</td>\n",
       "      <td>122.0</td>\n",
       "      <td>99.0</td>\n",
       "      <td>80.0</td>\n",
       "      <td>ATL</td>\n",
       "      <td>IAH</td>\n",
       "      <td>689</td>\n",
       "      <td>8.0</td>\n",
       "      <td>32.0</td>\n",
       "      <td>0</td>\n",
       "      <td>N</td>\n",
       "      <td>0</td>\n",
       "      <td>1.0</td>\n",
       "      <td>0.0</td>\n",
       "      <td>19.0</td>\n",
       "      <td>0.0</td>\n",
       "      <td>79.0</td>\n",
       "    </tr>\n",
       "    <tr>\n",
       "      <th>1936756</th>\n",
       "      <td>2008</td>\n",
       "      <td>12</td>\n",
       "      <td>13</td>\n",
       "      <td>6</td>\n",
       "      <td>1251.0</td>\n",
       "      <td>1240</td>\n",
       "      <td>1446.0</td>\n",
       "      <td>1437</td>\n",
       "      <td>DL</td>\n",
       "      <td>1639</td>\n",
       "      <td>N646DL</td>\n",
       "      <td>115.0</td>\n",
       "      <td>117.0</td>\n",
       "      <td>89.0</td>\n",
       "      <td>9.0</td>\n",
       "      <td>11.0</td>\n",
       "      <td>IAD</td>\n",
       "      <td>ATL</td>\n",
       "      <td>533</td>\n",
       "      <td>13.0</td>\n",
       "      <td>13.0</td>\n",
       "      <td>0</td>\n",
       "      <td>N</td>\n",
       "      <td>0</td>\n",
       "      <td>NaN</td>\n",
       "      <td>NaN</td>\n",
       "      <td>NaN</td>\n",
       "      <td>NaN</td>\n",
       "      <td>NaN</td>\n",
       "    </tr>\n",
       "    <tr>\n",
       "      <th>1936757</th>\n",
       "      <td>2008</td>\n",
       "      <td>12</td>\n",
       "      <td>13</td>\n",
       "      <td>6</td>\n",
       "      <td>1110.0</td>\n",
       "      <td>1103</td>\n",
       "      <td>1413.0</td>\n",
       "      <td>1418</td>\n",
       "      <td>DL</td>\n",
       "      <td>1641</td>\n",
       "      <td>N908DL</td>\n",
       "      <td>123.0</td>\n",
       "      <td>135.0</td>\n",
       "      <td>104.0</td>\n",
       "      <td>-5.0</td>\n",
       "      <td>7.0</td>\n",
       "      <td>SAT</td>\n",
       "      <td>ATL</td>\n",
       "      <td>874</td>\n",
       "      <td>8.0</td>\n",
       "      <td>11.0</td>\n",
       "      <td>0</td>\n",
       "      <td>N</td>\n",
       "      <td>0</td>\n",
       "      <td>NaN</td>\n",
       "      <td>NaN</td>\n",
       "      <td>NaN</td>\n",
       "      <td>NaN</td>\n",
       "      <td>NaN</td>\n",
       "    </tr>\n",
       "  </tbody>\n",
       "</table>\n",
       "<p>1936758 rows × 29 columns</p>\n",
       "</div>"
      ],
      "text/plain": [
       "         Year  Month  DayofMonth  DayOfWeek  DepTime  CRSDepTime  ArrTime  CRSArrTime UniqueCarrier  FlightNum TailNum  ActualElapsedTime  CRSElapsedTime  AirTime  ArrDelay  DepDelay Origin Dest  Distance  TaxiIn  TaxiOut  Cancelled CancellationCode  Diverted  CarrierDelay  WeatherDelay  NASDelay  SecurityDelay  LateAircraftDelay\n",
       "0        2008      1           3          4   2003.0        1955   2211.0        2225            WN        335  N712SW              128.0           150.0    116.0     -14.0       8.0    IAD  TPA       810     4.0      8.0          0                N         0           NaN           NaN       NaN            NaN                NaN\n",
       "1        2008      1           3          4    754.0         735   1002.0        1000            WN       3231  N772SW              128.0           145.0    113.0       2.0      19.0    IAD  TPA       810     5.0     10.0          0                N         0           NaN           NaN       NaN            NaN                NaN\n",
       "2        2008      1           3          4    628.0         620    804.0         750            WN        448  N428WN               96.0            90.0     76.0      14.0       8.0    IND  BWI       515     3.0     17.0          0                N         0           NaN           NaN       NaN            NaN                NaN\n",
       "3        2008      1           3          4   1829.0        1755   1959.0        1925            WN       3920  N464WN               90.0            90.0     77.0      34.0      34.0    IND  BWI       515     3.0     10.0          0                N         0           2.0           0.0       0.0            0.0               32.0\n",
       "4        2008      1           3          4   1940.0        1915   2121.0        2110            WN        378  N726SW              101.0           115.0     87.0      11.0      25.0    IND  JAX       688     4.0     10.0          0                N         0           NaN           NaN       NaN            NaN                NaN\n",
       "...       ...    ...         ...        ...      ...         ...      ...         ...           ...        ...     ...                ...             ...      ...       ...       ...    ...  ...       ...     ...      ...        ...              ...       ...           ...           ...       ...            ...                ...\n",
       "1936753  2008     12          13          6   1250.0        1220   1617.0        1552            DL       1621  N938DL              147.0           152.0    120.0      25.0      30.0    MSP  ATL       906     9.0     18.0          0                N         0           3.0           0.0       0.0            0.0               22.0\n",
       "1936754  2008     12          13          6    657.0         600    904.0         749            DL       1631  N3743H              127.0           109.0     78.0      75.0      57.0    RIC  ATL       481    15.0     34.0          0                N         0           0.0          57.0      18.0            0.0                0.0\n",
       "1936755  2008     12          13          6   1007.0         847   1149.0        1010            DL       1631  N909DA              162.0           143.0    122.0      99.0      80.0    ATL  IAH       689     8.0     32.0          0                N         0           1.0           0.0      19.0            0.0               79.0\n",
       "1936756  2008     12          13          6   1251.0        1240   1446.0        1437            DL       1639  N646DL              115.0           117.0     89.0       9.0      11.0    IAD  ATL       533    13.0     13.0          0                N         0           NaN           NaN       NaN            NaN                NaN\n",
       "1936757  2008     12          13          6   1110.0        1103   1413.0        1418            DL       1641  N908DL              123.0           135.0    104.0      -5.0       7.0    SAT  ATL       874     8.0     11.0          0                N         0           NaN           NaN       NaN            NaN                NaN\n",
       "\n",
       "[1936758 rows x 29 columns]"
      ]
     },
     "execution_count": 642,
     "metadata": {},
     "output_type": "execute_result"
    }
   ],
   "source": [
    "df.head(5)\n",
    "\n",
    "# Eliminem les features que no aporten\n",
    "\n",
    "df_1 = df\n",
    "df_1.drop('Unnamed: 0', axis=1, inplace = True)\n",
    "df_1\n"
   ]
  },
  {
   "cell_type": "code",
   "execution_count": 643,
   "id": "64fe3fd4",
   "metadata": {},
   "outputs": [
    {
     "name": "stdout",
     "output_type": "stream",
     "text": [
      "Columna categorica :  UniqueCarrier\n",
      "Columna categorica :  TailNum\n",
      "Columna categorica :  Origin\n",
      "Columna categorica :  Dest\n",
      "Columna categorica :  CancellationCode\n"
     ]
    }
   ],
   "source": [
    "# Que variables categoricas hay para hacer un codificacion y poder utilizar en los modelos de regresión\n",
    "\n",
    "for i in df_1.columns:\n",
    "    # Matriz de correlación  #\n",
    "    if df_1[i].dtypes == object :   \n",
    "        print(\"Columna categorica : \", i)"
   ]
  },
  {
   "cell_type": "code",
   "execution_count": 644,
   "id": "812265a5",
   "metadata": {},
   "outputs": [],
   "source": [
    "df_1 = Encoder(df_1, 'Origin') \n",
    "df_1 = Encoder(df_1, 'Dest') \n",
    "df_1 = Encoder(df_1, 'UniqueCarrier') \n",
    "df_1 = Encoder(df_1, 'CancellationCode') \n",
    "\n",
    "df_1.drop('TailNum', axis=1, inplace = True)\n",
    "\n"
   ]
  },
  {
   "cell_type": "code",
   "execution_count": 645,
   "id": "0a84e345",
   "metadata": {},
   "outputs": [
    {
     "name": "stdout",
     "output_type": "stream",
     "text": [
      "Total Number of NaN values: \n",
      "Year                      0\n",
      "Month                     0\n",
      "DayofMonth                0\n",
      "DayOfWeek                 0\n",
      "DepTime                   0\n",
      "CRSDepTime                0\n",
      "ArrTime                7110\n",
      "CRSArrTime                0\n",
      "UniqueCarrier             0\n",
      "FlightNum                 0\n",
      "ActualElapsedTime      8387\n",
      "CRSElapsedTime          198\n",
      "AirTime                8387\n",
      "ArrDelay               8387\n",
      "DepDelay                  0\n",
      "Origin                    0\n",
      "Dest                      0\n",
      "Distance                  0\n",
      "TaxiIn                 7110\n",
      "TaxiOut                 455\n",
      "Cancelled                 0\n",
      "CancellationCode          0\n",
      "Diverted                  0\n",
      "CarrierDelay         689270\n",
      "WeatherDelay         689270\n",
      "NASDelay             689270\n",
      "SecurityDelay        689270\n",
      "LateAircraftDelay    689270\n",
      "dtype: int64\n"
     ]
    }
   ],
   "source": [
    "#comprobamos que despues de los cambios ya no hayan columnas con NAN\n",
    "total_nan_values = df_1.isna().sum()\n",
    "print (\"Total Number of NaN values: \"+'\\n'+str(total_nan_values))"
   ]
  },
  {
   "cell_type": "code",
   "execution_count": 646,
   "id": "ab689e48",
   "metadata": {},
   "outputs": [],
   "source": [
    "for i in df_1.columns:\n",
    "    df_1[i].fillna(df_1[i].median(), inplace = True)"
   ]
  },
  {
   "cell_type": "code",
   "execution_count": 647,
   "id": "c44cee12",
   "metadata": {},
   "outputs": [
    {
     "name": "stdout",
     "output_type": "stream",
     "text": [
      "Total Number of NaN values: \n",
      "Year                 0\n",
      "Month                0\n",
      "DayofMonth           0\n",
      "DayOfWeek            0\n",
      "DepTime              0\n",
      "CRSDepTime           0\n",
      "ArrTime              0\n",
      "CRSArrTime           0\n",
      "UniqueCarrier        0\n",
      "FlightNum            0\n",
      "ActualElapsedTime    0\n",
      "CRSElapsedTime       0\n",
      "AirTime              0\n",
      "ArrDelay             0\n",
      "DepDelay             0\n",
      "Origin               0\n",
      "Dest                 0\n",
      "Distance             0\n",
      "TaxiIn               0\n",
      "TaxiOut              0\n",
      "Cancelled            0\n",
      "CancellationCode     0\n",
      "Diverted             0\n",
      "CarrierDelay         0\n",
      "WeatherDelay         0\n",
      "NASDelay             0\n",
      "SecurityDelay        0\n",
      "LateAircraftDelay    0\n",
      "dtype: int64\n"
     ]
    }
   ],
   "source": [
    "#comprobamos que despues de los cambios ya no hayan columnas con NAN\n",
    "total_nan_values = df_1.isna().sum()\n",
    "print (\"Total Number of NaN values: \"+'\\n'+str(total_nan_values))"
   ]
  },
  {
   "cell_type": "code",
   "execution_count": 648,
   "id": "acf707be",
   "metadata": {},
   "outputs": [
    {
     "data": {
      "image/png": "[encoded data removed]",
      "text/plain": [
       "<Figure size 648x648 with 2 Axes>"
      ]
     },
     "metadata": {
      "needs_background": "light"
     },
     "output_type": "display_data"
    }
   ],
   "source": [
    "from seaborn import heatmap\n",
    "corr = df_1.corr() # train is a pandas dataframe \n",
    "\n",
    "plt.figure(figsize = (9, 9))\n",
    "heatmap(corr, cmap = 'coolwarm')\n",
    "plt.show()"
   ]
  },
  {
   "cell_type": "code",
   "execution_count": null,
   "id": "777cf820",
   "metadata": {},
   "outputs": [],
   "source": []
  },
  {
   "cell_type": "code",
   "execution_count": 649,
   "id": "74d67269",
   "metadata": {},
   "outputs": [
    {
     "name": "stdout",
     "output_type": "stream",
     "text": [
      "100000 100000\n"
     ]
    }
   ],
   "source": [
    "#para no trabajar con casi 2millones de registros y no penalizar el coste de proceso en este ejercicio, tomamos 100.000 registros para trabajar\n",
    "df_sample = df_1.sample(100000, random_state = 0)\n",
    "X = np.array(df_sample.drop([forecast_col], 1))\n",
    "y = np.array(df_sample[forecast_col])\n",
    "print(len(X), len(y))\n",
    "\n",
    "X_train, X_test, y_train, y_test = train_test_split(X, y, test_size = 0.2, random_state=0)\n",
    "#X_train, X_test, y_train, y_test = train_test_split(X, y, test_size=0.2, random_state=1234)"
   ]
  },
  {
   "cell_type": "code",
   "execution_count": 650,
   "id": "a9fcd6cf",
   "metadata": {},
   "outputs": [],
   "source": [
    "#Modelización del caso de uso"
   ]
  },
  {
   "cell_type": "code",
   "execution_count": 651,
   "id": "1d37eba4",
   "metadata": {},
   "outputs": [
    {
     "name": "stdout",
     "output_type": "stream",
     "text": [
      "LinearRegression sense train/test (validació interna):\n",
      "El coeficiente de determinación es: 0.9943719474480055\n",
      "intercept                         : -15.575421955373805\n",
      "Mean Absolute Error               : 2.7820604803960594\n",
      "Mean Squared Error                : 18.45255372630452\n",
      "Root Mean Squared Error           : 4.295643575333563\n",
      "-------------------------------------------------------\n",
      "DecisionTreeRegressor sense train/test (validació interna):\n",
      "El coeficiente de determinación es: 0.9955980470617869\n",
      "Mean Absolute Error               : 3.2363558401259533\n",
      "Mean Squared Error                : 48.777098164589205\n",
      "Root Mean Squared Error           : 6.984060292164523\n",
      "-------------------------------------------------------\n",
      "RandomForestRegressor sense train/test (validació interna):\n",
      "El coeficiente de determinación es: 0.9984369698012924\n",
      "Mean Absolute Error               : 1.63552\n",
      "Mean Squared Error                : 19.891009333333336\n",
      "Root Mean Squared Error           : 4.459933781272244\n",
      "-------------------------------------------------------\n"
     ]
    },
    {
     "data": {
      "image/png": "[encoded data removed]",
      "text/plain": [
       "<Figure size 720x504 with 1 Axes>"
      ]
     },
     "metadata": {
      "needs_background": "light"
     },
     "output_type": "display_data"
    },
    {
     "data": {
      "image/png": "[encoded data removed]",
      "text/plain": [
       "<Figure size 720x504 with 1 Axes>"
      ]
     },
     "metadata": {
      "needs_background": "light"
     },
     "output_type": "display_data"
    }
   ],
   "source": [
    "UseCaseModelizacion (df_sample,  X_train, y_train, X_test, y_test )"
   ]
  },
  {
   "cell_type": "code",
   "execution_count": 652,
   "id": "96d368be",
   "metadata": {},
   "outputs": [],
   "source": [
    "#Conclusion: Random forest es el mejor coeficiente y MAE da, aunque Regresión linea da mejor MSE y RMSE. "
   ]
  },
  {
   "cell_type": "code",
   "execution_count": null,
   "id": "8fe8e0fc",
   "metadata": {},
   "outputs": [],
   "source": []
  },
  {
   "cell_type": "code",
   "execution_count": 653,
   "id": "39e7e809",
   "metadata": {},
   "outputs": [],
   "source": [
    "#Estandarització:"
   ]
  },
  {
   "cell_type": "code",
   "execution_count": 654,
   "id": "48a4b833",
   "metadata": {},
   "outputs": [],
   "source": [
    "# Només cal que escalem els features, així el resultat ens surt sense escalar, com el volem:\n",
    "\n",
    "X1 = StandardScaler().fit_transform(X)\n",
    "X1_train, X1_test, y1_train, y1_test = train_test_split(X, y, test_size = 0.2, random_state=0)\n",
    "#X_train, X_test, y_train, y_test = train_test_split(X, y, test_size=0.2, random_state=1234)"
   ]
  },
  {
   "cell_type": "code",
   "execution_count": 655,
   "id": "aceb1334",
   "metadata": {
    "scrolled": true
   },
   "outputs": [
    {
     "name": "stdout",
     "output_type": "stream",
     "text": [
      "LinearRegression sense train/test (validació interna):\n",
      "El coeficiente de determinación es: 0.9943719474480055\n",
      "intercept                         : -15.575421955373805\n",
      "Mean Absolute Error               : 2.7820604803960594\n",
      "Mean Squared Error                : 18.45255372630452\n",
      "Root Mean Squared Error           : 4.295643575333563\n",
      "-------------------------------------------------------\n",
      "DecisionTreeRegressor sense train/test (validació interna):\n",
      "El coeficiente de determinación es: 0.9955980470617869\n",
      "Mean Absolute Error               : 3.2363558401259533\n",
      "Mean Squared Error                : 48.777098164589205\n",
      "Root Mean Squared Error           : 6.984060292164523\n",
      "-------------------------------------------------------\n",
      "RandomForestRegressor sense train/test (validació interna):\n",
      "El coeficiente de determinación es: 0.9984369698012924\n",
      "Mean Absolute Error               : 1.63552\n",
      "Mean Squared Error                : 19.891009333333336\n",
      "Root Mean Squared Error           : 4.459933781272244\n",
      "-------------------------------------------------------\n"
     ]
    },
    {
     "data": {
      "image/png": "[encoded data removed]",
      "text/plain": [
       "<Figure size 720x504 with 1 Axes>"
      ]
     },
     "metadata": {
      "needs_background": "light"
     },
     "output_type": "display_data"
    },
    {
     "data": {
      "image/png": "[encoded data removed]",
      "text/plain": [
       "<Figure size 720x504 with 1 Axes>"
      ]
     },
     "metadata": {
      "needs_background": "light"
     },
     "output_type": "display_data"
    }
   ],
   "source": [
    "UseCaseModelizacion (df_sample, X1_train, y1_train, X1_test, y1_test )"
   ]
  },
  {
   "cell_type": "code",
   "execution_count": 656,
   "id": "1a71ba9e",
   "metadata": {},
   "outputs": [],
   "source": [
    "#Conclusiones: Identicas conclusiones que en el caso anterior."
   ]
  },
  {
   "cell_type": "code",
   "execution_count": 657,
   "id": "5213b55a",
   "metadata": {},
   "outputs": [],
   "source": [
    "#Normalització"
   ]
  },
  {
   "cell_type": "code",
   "execution_count": 658,
   "id": "1b6462d4",
   "metadata": {},
   "outputs": [],
   "source": [
    "X1 =preprocessing.normalize(X)\n",
    "\n",
    "X1_train, X1_test, y1_train, y1_test = train_test_split(X1, y, test_size = 0.2, random_state=0)\n",
    "#X_train, X_test, y_train, y_test = train_test_split(X, y, test_size=0.2, random_state=1234)"
   ]
  },
  {
   "cell_type": "code",
   "execution_count": 659,
   "id": "b9e7be7e",
   "metadata": {
    "scrolled": true
   },
   "outputs": [
    {
     "name": "stdout",
     "output_type": "stream",
     "text": [
      "LinearRegression sense train/test (validació interna):\n",
      "El coeficiente de determinación es: 0.9486890985708964\n",
      "intercept                         : 49.63402425897202\n",
      "Mean Absolute Error               : 7.422321336702419\n",
      "Mean Squared Error                : 168.23175629909682\n",
      "Root Mean Squared Error           : 12.970418509018774\n",
      "-------------------------------------------------------\n",
      "DecisionTreeRegressor sense train/test (validació interna):\n",
      "El coeficiente de determinación es: 0.9925101981966736\n",
      "Mean Absolute Error               : 5.560145183464519\n",
      "Mean Squared Error                : 125.9891241776134\n",
      "Root Mean Squared Error           : 11.224487702234494\n",
      "-------------------------------------------------------\n",
      "RandomForestRegressor sense train/test (validació interna):\n",
      "El coeficiente de determinación es: 0.9972672637065919\n",
      "Mean Absolute Error               : 2.9288083333333335\n",
      "Mean Squared Error                : 45.852355277777775\n",
      "Root Mean Squared Error           : 6.771436721832212\n",
      "-------------------------------------------------------\n"
     ]
    },
    {
     "data": {
      "image/png": "[encoded data removed]",
      "text/plain": [
       "<Figure size 720x504 with 1 Axes>"
      ]
     },
     "metadata": {
      "needs_background": "light"
     },
     "output_type": "display_data"
    },
    {
     "data": {
      "image/png": "[encoded data removed]",
      "text/plain": [
       "<Figure size 720x504 with 1 Axes>"
      ]
     },
     "metadata": {
      "needs_background": "light"
     },
     "output_type": "display_data"
    }
   ],
   "source": [
    "UseCaseModelizacion (df_sample, X1_train, y1_train, X1_test, y1_test )"
   ]
  },
  {
   "cell_type": "code",
   "execution_count": 660,
   "id": "98b6745a",
   "metadata": {},
   "outputs": [],
   "source": [
    "# Conclusiones: En este caso RandomForest es el que mejor resultados da."
   ]
  },
  {
   "cell_type": "code",
   "execution_count": 661,
   "id": "8c0957c1",
   "metadata": {},
   "outputs": [],
   "source": [
    "#Transformació logarítmica dels features"
   ]
  },
  {
   "cell_type": "code",
   "execution_count": 662,
   "id": "b760ea9b",
   "metadata": {},
   "outputs": [],
   "source": [
    "# Transformació dels features a log.\n",
    "from sklearn.datasets import fetch_openml\n",
    "from sklearn.preprocessing import QuantileTransformer, quantile_transform\n",
    "\n",
    "X1 = quantile_transform(X, n_quantiles=900, output_distribution='normal', copy=True, random_state = 0).squeeze()\n",
    "\n",
    "X1_train, X1_test, y1_train, y1_test = train_test_split(X, y, test_size = 0.2, random_state=0)\n",
    "#X_train, X_test, y_train, y_test = train_test_split(X, y, test_size=0.2, random_state=1234)"
   ]
  },
  {
   "cell_type": "code",
   "execution_count": 663,
   "id": "0f78718b",
   "metadata": {},
   "outputs": [
    {
     "name": "stdout",
     "output_type": "stream",
     "text": [
      "LinearRegression sense train/test (validació interna):\n",
      "El coeficiente de determinación es: 0.9943719474480055\n",
      "intercept                         : -15.575421955373805\n",
      "Mean Absolute Error               : 2.7820604803960594\n",
      "Mean Squared Error                : 18.45255372630452\n",
      "Root Mean Squared Error           : 4.295643575333563\n",
      "-------------------------------------------------------\n",
      "DecisionTreeRegressor sense train/test (validació interna):\n",
      "El coeficiente de determinación es: 0.9955980470617869\n",
      "Mean Absolute Error               : 3.2363558401259533\n",
      "Mean Squared Error                : 48.777098164589205\n",
      "Root Mean Squared Error           : 6.984060292164523\n",
      "-------------------------------------------------------\n",
      "RandomForestRegressor sense train/test (validació interna):\n",
      "El coeficiente de determinación es: 0.9984369698012924\n",
      "Mean Absolute Error               : 1.63552\n",
      "Mean Squared Error                : 19.891009333333336\n",
      "Root Mean Squared Error           : 4.459933781272244\n",
      "-------------------------------------------------------\n"
     ]
    },
    {
     "data": {
      "image/png": "[encoded data removed]",
      "text/plain": [
       "<Figure size 720x504 with 1 Axes>"
      ]
     },
     "metadata": {
      "needs_background": "light"
     },
     "output_type": "display_data"
    },
    {
     "data": {
      "image/png": "[encoded data removed]",
      "text/plain": [
       "<Figure size 720x504 with 1 Axes>"
      ]
     },
     "metadata": {
      "needs_background": "light"
     },
     "output_type": "display_data"
    }
   ],
   "source": [
    "UseCaseModelizacion (df_sample, X1_train, y1_train, X1_test, y1_test )"
   ]
  },
  {
   "cell_type": "code",
   "execution_count": 664,
   "id": "d439f756",
   "metadata": {},
   "outputs": [],
   "source": [
    "# Conclusiones: En este caso RandomForest es el que mejor resultados da."
   ]
  },
  {
   "cell_type": "code",
   "execution_count": 665,
   "id": "6ec47dd6",
   "metadata": {},
   "outputs": [],
   "source": [
    "# PCA"
   ]
  },
  {
   "cell_type": "code",
   "execution_count": 666,
   "id": "f3b52dc0",
   "metadata": {},
   "outputs": [
    {
     "name": "stdout",
     "output_type": "stream",
     "text": [
      "La variància de cada un dels components seleccionats és: [0.16153152 0.11388473 0.07571555 0.07353252 0.05797435 0.04492533\n",
      " 0.04312939 0.0409883  0.04038816 0.03903002 0.03860123 0.03847313\n",
      " 0.03802615 0.03586501 0.03289627 0.03195477]\n",
      "La suma de la variància de tots els components seleccionats: 0.9069164353803166\n"
     ]
    }
   ],
   "source": [
    "# Abans d'aplicar el PCA hem d'estanderitzar les dades:\n",
    "X1 = StandardScaler().fit_transform(X)\n",
    "# Principal Component Analysys\n",
    "\n",
    "pca = PCA(n_components=0.9)\n",
    "X1 = pca.fit_transform(X1)\n",
    "\n",
    "print('La variància de cada un dels components seleccionats és:',pca.explained_variance_ratio_) # Treiem els variance ratio del número de components seleccionats\n",
    "print('La suma de la variància de tots els components seleccionats:',pca.explained_variance_ratio_.sum()) # Sumem el variance ratio per veure quanta informació treiem amb el número de PCA\n",
    "\n",
    "#Per retenir un 90% de la informació total fent servir PCA, ens hem de quedar amb 15 dels 20 atributs totals. No és un PCA molt eficaç.\n",
    "\n",
    "X1_train, X1_test, y1_train, y1_test = train_test_split(X1, y, test_size = 0.2, random_state=0)\n",
    "#X_train, X_test, y_train, y_test = train_test_split(X, y, test_size=0.2, random_state=1234)"
   ]
  },
  {
   "cell_type": "code",
   "execution_count": 667,
   "id": "cde4409f",
   "metadata": {},
   "outputs": [
    {
     "name": "stdout",
     "output_type": "stream",
     "text": [
      "LinearRegression sense train/test (validació interna):\n",
      "El coeficiente de determinación es: 0.9705228941135133\n",
      "intercept                         : 42.43060508508331\n",
      "Mean Absolute Error               : 7.184516810642541\n",
      "Mean Squared Error                : 96.64584241908031\n",
      "Root Mean Squared Error           : 9.830861733290744\n",
      "-------------------------------------------------------\n",
      "DecisionTreeRegressor sense train/test (validació interna):\n",
      "El coeficiente de determinación es: 0.9876126063297427\n",
      "Mean Absolute Error               : 8.755841609742744\n",
      "Mean Squared Error                : 144.8924588827027\n",
      "Root Mean Squared Error           : 12.037128348684444\n"
     ]
    },
    {
     "ename": "ValueError",
     "evalue": "Length of values (16) does not match length of index (27)",
     "output_type": "error",
     "traceback": [
      "\u001b[1;31m---------------------------------------------------------------------------\u001b[0m",
      "\u001b[1;31mValueError\u001b[0m                                Traceback (most recent call last)",
      "\u001b[1;32mC:\\Users\\COMERC~1\\AppData\\Local\\Temp/ipykernel_21488/4177834300.py\u001b[0m in \u001b[0;36m<module>\u001b[1;34m\u001b[0m\n\u001b[1;32m----> 1\u001b[1;33m \u001b[0mUseCaseModelizacion\u001b[0m \u001b[1;33m(\u001b[0m\u001b[0mdf_sample\u001b[0m\u001b[1;33m,\u001b[0m \u001b[0mX1_train\u001b[0m\u001b[1;33m,\u001b[0m \u001b[0my1_train\u001b[0m\u001b[1;33m,\u001b[0m \u001b[0mX1_test\u001b[0m\u001b[1;33m,\u001b[0m \u001b[0my1_test\u001b[0m \u001b[1;33m)\u001b[0m\u001b[1;33m\u001b[0m\u001b[1;33m\u001b[0m\u001b[0m\n\u001b[0m",
      "\u001b[1;32mC:\\Users\\COMERC~1\\AppData\\Local\\Temp/ipykernel_21488/2578651419.py\u001b[0m in \u001b[0;36mUseCaseModelizacion\u001b[1;34m(df_set, X_train, y_train, X_test, y_test)\u001b[0m\n\u001b[0;32m     13\u001b[0m     \u001b[0mmax_depth\u001b[0m\u001b[1;33m=\u001b[0m\u001b[1;36m15\u001b[0m\u001b[1;33m\u001b[0m\u001b[1;33m\u001b[0m\u001b[0m\n\u001b[0;32m     14\u001b[0m \u001b[1;33m\u001b[0m\u001b[0m\n\u001b[1;32m---> 15\u001b[1;33m     \u001b[0mDecisionTreeRegressorCustom\u001b[0m\u001b[1;33m(\u001b[0m\u001b[0mdf_set\u001b[0m\u001b[1;33m,\u001b[0m \u001b[0mmax_depth\u001b[0m\u001b[1;33m,\u001b[0m \u001b[0mX_train\u001b[0m\u001b[1;33m,\u001b[0m \u001b[0my_train\u001b[0m\u001b[1;33m,\u001b[0m \u001b[0mX_test\u001b[0m\u001b[1;33m,\u001b[0m \u001b[0my_test\u001b[0m\u001b[1;33m,\u001b[0m \u001b[1;32mFalse\u001b[0m\u001b[1;33m,\u001b[0m \u001b[1;32mTrue\u001b[0m\u001b[1;33m)\u001b[0m\u001b[1;33m\u001b[0m\u001b[1;33m\u001b[0m\u001b[0m\n\u001b[0m\u001b[0;32m     16\u001b[0m \u001b[1;33m\u001b[0m\u001b[0m\n\u001b[0;32m     17\u001b[0m     \u001b[0mprint\u001b[0m\u001b[1;33m(\u001b[0m\u001b[1;34m\"-------------------------------------------------------\"\u001b[0m\u001b[1;33m)\u001b[0m\u001b[1;33m\u001b[0m\u001b[1;33m\u001b[0m\u001b[0m\n",
      "\u001b[1;32mC:\\Users\\COMERC~1\\AppData\\Local\\Temp/ipykernel_21488/1655632922.py\u001b[0m in \u001b[0;36mDecisionTreeRegressorCustom\u001b[1;34m(df_set, n_estimator, X_train, y_train, X_test, y_test, printRegression, printRelevantAttributes)\u001b[0m\n\u001b[0;32m     24\u001b[0m \u001b[1;33m\u001b[0m\u001b[0m\n\u001b[0;32m     25\u001b[0m     \u001b[1;32mif\u001b[0m \u001b[0mprintRelevantAttributes\u001b[0m\u001b[1;33m:\u001b[0m\u001b[1;33m\u001b[0m\u001b[1;33m\u001b[0m\u001b[0m\n\u001b[1;32m---> 26\u001b[1;33m         \u001b[0mPrintRelevantFeatures\u001b[0m\u001b[1;33m(\u001b[0m\u001b[1;34m'DecisionTreeRegressor'\u001b[0m\u001b[1;33m,\u001b[0m \u001b[0mdf_set\u001b[0m\u001b[1;33m,\u001b[0m \u001b[0mregressor_model\u001b[0m\u001b[1;33m,\u001b[0m \u001b[0mX_train\u001b[0m\u001b[1;33m,\u001b[0m\u001b[0my_train\u001b[0m\u001b[1;33m,\u001b[0m \u001b[0mX_test\u001b[0m\u001b[1;33m,\u001b[0m\u001b[0my_test\u001b[0m\u001b[1;33m,\u001b[0m \u001b[0my_pred\u001b[0m\u001b[1;33m)\u001b[0m\u001b[1;33m\u001b[0m\u001b[1;33m\u001b[0m\u001b[0m\n\u001b[0m\u001b[0;32m     27\u001b[0m \u001b[1;33m\u001b[0m\u001b[0m\n\u001b[0;32m     28\u001b[0m     \u001b[1;32mreturn\u001b[0m\u001b[1;33m\u001b[0m\u001b[1;33m\u001b[0m\u001b[0m\n",
      "\u001b[1;32mC:\\Users\\COMERC~1\\AppData\\Local\\Temp/ipykernel_21488/2985141700.py\u001b[0m in \u001b[0;36mPrintRelevantFeatures\u001b[1;34m(title, df, df_model, X_train, y_train, X_test, y_test, y_pred)\u001b[0m\n\u001b[0;32m     55\u001b[0m     \u001b[0mi_col\u001b[0m \u001b[1;33m=\u001b[0m \u001b[1;33m(\u001b[0m\u001b[0mdf\u001b[0m\u001b[1;33m.\u001b[0m\u001b[0mdrop\u001b[0m\u001b[1;33m(\u001b[0m\u001b[1;33m[\u001b[0m\u001b[0mforecast_col\u001b[0m\u001b[1;33m]\u001b[0m\u001b[1;33m,\u001b[0m \u001b[1;36m1\u001b[0m\u001b[1;33m)\u001b[0m\u001b[1;33m)\u001b[0m\u001b[1;33m\u001b[0m\u001b[1;33m\u001b[0m\u001b[0m\n\u001b[0;32m     56\u001b[0m     \u001b[0mplt\u001b[0m\u001b[1;33m.\u001b[0m\u001b[0mfigure\u001b[0m\u001b[1;33m(\u001b[0m\u001b[0mfigsize\u001b[0m\u001b[1;33m=\u001b[0m\u001b[1;33m(\u001b[0m\u001b[1;36m10\u001b[0m\u001b[1;33m,\u001b[0m\u001b[1;36m7\u001b[0m\u001b[1;33m)\u001b[0m\u001b[1;33m)\u001b[0m\u001b[1;33m\u001b[0m\u001b[1;33m\u001b[0m\u001b[0m\n\u001b[1;32m---> 57\u001b[1;33m     \u001b[0mfeat_importances\u001b[0m \u001b[1;33m=\u001b[0m \u001b[0mpd\u001b[0m\u001b[1;33m.\u001b[0m\u001b[0mSeries\u001b[0m\u001b[1;33m(\u001b[0m\u001b[0mdf_model\u001b[0m\u001b[1;33m.\u001b[0m\u001b[0mfeature_importances_\u001b[0m\u001b[1;33m,\u001b[0m \u001b[0mindex\u001b[0m \u001b[1;33m=\u001b[0m \u001b[0mi_col\u001b[0m\u001b[1;33m.\u001b[0m\u001b[0mcolumns\u001b[0m\u001b[1;33m)\u001b[0m\u001b[1;33m\u001b[0m\u001b[1;33m\u001b[0m\u001b[0m\n\u001b[0m\u001b[0;32m     58\u001b[0m     \u001b[0mplt\u001b[0m\u001b[1;33m.\u001b[0m\u001b[0mtitle\u001b[0m\u001b[1;33m(\u001b[0m\u001b[0mtitle\u001b[0m\u001b[1;33m)\u001b[0m\u001b[1;33m\u001b[0m\u001b[1;33m\u001b[0m\u001b[0m\n\u001b[0;32m     59\u001b[0m     \u001b[0mfeat_importances\u001b[0m\u001b[1;33m.\u001b[0m\u001b[0mnlargest\u001b[0m\u001b[1;33m(\u001b[0m\u001b[1;36m5\u001b[0m\u001b[1;33m)\u001b[0m\u001b[1;33m.\u001b[0m\u001b[0mplot\u001b[0m\u001b[1;33m(\u001b[0m\u001b[0mkind\u001b[0m\u001b[1;33m=\u001b[0m\u001b[1;34m'barh'\u001b[0m\u001b[1;33m)\u001b[0m\u001b[1;33m;\u001b[0m\u001b[1;33m\u001b[0m\u001b[1;33m\u001b[0m\u001b[0m\n",
      "\u001b[1;32m~\\Anaconda3\\lib\\site-packages\\pandas\\core\\series.py\u001b[0m in \u001b[0;36m__init__\u001b[1;34m(self, data, index, dtype, name, copy, fastpath)\u001b[0m\n\u001b[0;32m    428\u001b[0m                 \u001b[0mindex\u001b[0m \u001b[1;33m=\u001b[0m \u001b[0mibase\u001b[0m\u001b[1;33m.\u001b[0m\u001b[0mdefault_index\u001b[0m\u001b[1;33m(\u001b[0m\u001b[0mlen\u001b[0m\u001b[1;33m(\u001b[0m\u001b[0mdata\u001b[0m\u001b[1;33m)\u001b[0m\u001b[1;33m)\u001b[0m\u001b[1;33m\u001b[0m\u001b[1;33m\u001b[0m\u001b[0m\n\u001b[0;32m    429\u001b[0m             \u001b[1;32melif\u001b[0m \u001b[0mis_list_like\u001b[0m\u001b[1;33m(\u001b[0m\u001b[0mdata\u001b[0m\u001b[1;33m)\u001b[0m\u001b[1;33m:\u001b[0m\u001b[1;33m\u001b[0m\u001b[1;33m\u001b[0m\u001b[0m\n\u001b[1;32m--> 430\u001b[1;33m                 \u001b[0mcom\u001b[0m\u001b[1;33m.\u001b[0m\u001b[0mrequire_length_match\u001b[0m\u001b[1;33m(\u001b[0m\u001b[0mdata\u001b[0m\u001b[1;33m,\u001b[0m \u001b[0mindex\u001b[0m\u001b[1;33m)\u001b[0m\u001b[1;33m\u001b[0m\u001b[1;33m\u001b[0m\u001b[0m\n\u001b[0m\u001b[0;32m    431\u001b[0m \u001b[1;33m\u001b[0m\u001b[0m\n\u001b[0;32m    432\u001b[0m             \u001b[1;31m# create/copy the manager\u001b[0m\u001b[1;33m\u001b[0m\u001b[1;33m\u001b[0m\u001b[0m\n",
      "\u001b[1;32m~\\Anaconda3\\lib\\site-packages\\pandas\\core\\common.py\u001b[0m in \u001b[0;36mrequire_length_match\u001b[1;34m(data, index)\u001b[0m\n\u001b[0;32m    529\u001b[0m     \"\"\"\n\u001b[0;32m    530\u001b[0m     \u001b[1;32mif\u001b[0m \u001b[0mlen\u001b[0m\u001b[1;33m(\u001b[0m\u001b[0mdata\u001b[0m\u001b[1;33m)\u001b[0m \u001b[1;33m!=\u001b[0m \u001b[0mlen\u001b[0m\u001b[1;33m(\u001b[0m\u001b[0mindex\u001b[0m\u001b[1;33m)\u001b[0m\u001b[1;33m:\u001b[0m\u001b[1;33m\u001b[0m\u001b[1;33m\u001b[0m\u001b[0m\n\u001b[1;32m--> 531\u001b[1;33m         raise ValueError(\n\u001b[0m\u001b[0;32m    532\u001b[0m             \u001b[1;34m\"Length of values \"\u001b[0m\u001b[1;33m\u001b[0m\u001b[1;33m\u001b[0m\u001b[0m\n\u001b[0;32m    533\u001b[0m             \u001b[1;34mf\"({len(data)}) \"\u001b[0m\u001b[1;33m\u001b[0m\u001b[1;33m\u001b[0m\u001b[0m\n",
      "\u001b[1;31mValueError\u001b[0m: Length of values (16) does not match length of index (27)"
     ]
    },
    {
     "data": {
      "text/plain": [
       "<Figure size 720x504 with 0 Axes>"
      ]
     },
     "metadata": {},
     "output_type": "display_data"
    }
   ],
   "source": [
    "UseCaseModelizacion (df_sample, X1_train, y1_train, X1_test, y1_test )"
   ]
  },
  {
   "cell_type": "code",
   "execution_count": 668,
   "id": "3c588281",
   "metadata": {},
   "outputs": [],
   "source": [
    "# Feature selection amb f_regression"
   ]
  },
  {
   "cell_type": "code",
   "execution_count": 669,
   "id": "689b81ea",
   "metadata": {},
   "outputs": [
    {
     "name": "stderr",
     "output_type": "stream",
     "text": [
      "C:\\Users\\comercial7\\Anaconda3\\lib\\site-packages\\sklearn\\feature_selection\\_univariate_selection.py:302: RuntimeWarning: divide by zero encountered in true_divide\n",
      "  corr /= X_norms\n",
      "C:\\Users\\comercial7\\Anaconda3\\lib\\site-packages\\sklearn\\feature_selection\\_univariate_selection.py:307: RuntimeWarning: invalid value encountered in true_divide\n",
      "  F = corr ** 2 / (1 - corr ** 2) * degrees_of_freedom\n"
     ]
    }
   ],
   "source": [
    "features = getTopFeatures(X,y) \n",
    "features\n",
    "\n",
    "columns = []\n",
    "for i in features:\n",
    "    x = df_1.columns[i]\n",
    "    columns.append(x)\n",
    "    \n",
    "#print(columns)\n",
    "\n",
    "df_top_features = df_1[columns]\n",
    "# Afegim el target al nou df:\n",
    "\n",
    "#df_top_features[forecast_col] = df_1[forecast_col]\n",
    "#df_top_features['ArrDelay'] = df['ArrDelay']\n",
    "#df_top_features['ArrDelay'] = df_1.loc[:,('ArrDelay')]\n",
    "#\n",
    "\n",
    "\n",
    "#Agafem la mostra del nou df amb els 'top features' seleccionats:\n",
    "df_2_sample = df_top_features.sample(100000, random_state = 0)\n",
    "X1 = np.array(df_2_sample.drop([forecast_col], 1))\n",
    "y1 = np.array(df_2_sample[forecast_col])\n",
    "\n",
    "X1_train, X1_test, y1_train, y1_test = train_test_split(X1, y1, test_size = 0.2, random_state=0)\n",
    "#X_train, X_test, y_train, y_test = train_test_split(X, y, test_size=0.2, random_state=1234)"
   ]
  },
  {
   "cell_type": "code",
   "execution_count": 670,
   "id": "ed87a3f9",
   "metadata": {},
   "outputs": [
    {
     "name": "stdout",
     "output_type": "stream",
     "text": [
      "LinearRegression sense train/test (validació interna):\n",
      "El coeficiente de determinación es: 0.45492797586930767\n",
      "intercept                         : -22.816772210055326\n",
      "Mean Absolute Error               : 26.51540080989459\n",
      "Mean Squared Error                : 1787.1138759023763\n",
      "Root Mean Squared Error           : 42.274269667285516\n",
      "-------------------------------------------------------\n",
      "DecisionTreeRegressor sense train/test (validació interna):\n",
      "El coeficiente de determinación es: 0.7644885173774845\n",
      "Mean Absolute Error               : 20.479954973063908\n",
      "Mean Squared Error                : 1461.9990537570413\n",
      "Root Mean Squared Error           : 38.23609621492552\n",
      "-------------------------------------------------------\n",
      "RandomForestRegressor sense train/test (validació interna):\n",
      "El coeficiente de determinación es: 0.9496283994750347\n",
      "Mean Absolute Error               : 19.373884999999998\n",
      "Mean Squared Error                : 1188.1132641666666\n",
      "Root Mean Squared Error           : 34.469018903453964\n",
      "-------------------------------------------------------\n"
     ]
    },
    {
     "data": {
      "image/png": "[encoded data removed]",
      "text/plain": [
       "<Figure size 720x504 with 1 Axes>"
      ]
     },
     "metadata": {
      "needs_background": "light"
     },
     "output_type": "display_data"
    },
    {
     "data": {
      "image/png": "[encoded data removed]",
      "text/plain": [
       "<Figure size 720x504 with 1 Axes>"
      ]
     },
     "metadata": {
      "needs_background": "light"
     },
     "output_type": "display_data"
    }
   ],
   "source": [
    "UseCaseModelizacion (df_2_sample, X1_train, y1_train, X1_test, y1_test )"
   ]
  },
  {
   "cell_type": "code",
   "execution_count": 671,
   "id": "2af7e81e",
   "metadata": {},
   "outputs": [],
   "source": [
    "# Conclusió: observem que en el cas de voler predir l'enderreriment dels vols, la selecció d'atributs no és una bona estratègia. Com més atributs treiem, més incrementen el MAE, MSE i l'RMSE. \n",
    "# Per altra banda el fet d'afegir les variables categòriques (que inicialment haviem descartat) mitjançant un Label Encoder, tampoc ajuda a millorar les mètriques. \n",
    "# En canvi, el procés d'estanderització sí que ha fet augmentar la precisió de les prediccions."
   ]
  },
  {
   "cell_type": "code",
   "execution_count": null,
   "id": "9110c22b",
   "metadata": {},
   "outputs": [],
   "source": []
  },
  {
   "cell_type": "code",
   "execution_count": null,
   "id": "191cf116",
   "metadata": {},
   "outputs": [],
   "source": []
  },
  {
   "cell_type": "code",
   "execution_count": null,
   "id": "b10e0854",
   "metadata": {},
   "outputs": [],
   "source": []
  },
  {
   "cell_type": "code",
   "execution_count": null,
   "id": "9e6e25f4",
   "metadata": {},
   "outputs": [],
   "source": []
  },
  {
   "cell_type": "code",
   "execution_count": null,
   "id": "77e5d030",
   "metadata": {},
   "outputs": [],
   "source": []
  },
  {
   "cell_type": "code",
   "execution_count": null,
   "id": "9eafc62e",
   "metadata": {},
   "outputs": [],
   "source": []
  },
  {
   "cell_type": "code",
   "execution_count": null,
   "id": "77a0294e",
   "metadata": {},
   "outputs": [],
   "source": [
    "# -------------------------------------------------------------------------------------------"
   ]
  },
  {
   "cell_type": "code",
   "execution_count": null,
   "id": "108e9bef",
   "metadata": {},
   "outputs": [],
   "source": [
    "# -------------------------------------------------------------------------------------------"
   ]
  },
  {
   "cell_type": "code",
   "execution_count": null,
   "id": "0d4dfcc2",
   "metadata": {},
   "outputs": [],
   "source": [
    "# -------------------------------------------------------------------------------------------"
   ]
  },
  {
   "cell_type": "code",
   "execution_count": null,
   "id": "33426771",
   "metadata": {},
   "outputs": [],
   "source": [
    "# BACKUP"
   ]
  },
  {
   "cell_type": "code",
   "execution_count": null,
   "id": "dbd93cdf",
   "metadata": {},
   "outputs": [],
   "source": [
    "# -------------------------------------------------------------------------------------------"
   ]
  },
  {
   "cell_type": "code",
   "execution_count": null,
   "id": "88aaba0b",
   "metadata": {},
   "outputs": [],
   "source": [
    "# -------------------------------------------------------------------------------------------"
   ]
  },
  {
   "cell_type": "code",
   "execution_count": null,
   "id": "3d0dc350",
   "metadata": {},
   "outputs": [],
   "source": [
    "# -------------------------------------------------------------------------------------------"
   ]
  },
  {
   "cell_type": "code",
   "execution_count": 487,
   "id": "02e09b28",
   "metadata": {},
   "outputs": [],
   "source": [
    "# Exercici 6\n",
    "# No utilitzis la variable DepDelay a l’hora de fer prediccions\n"
   ]
  },
  {
   "cell_type": "code",
   "execution_count": 488,
   "id": "990cfa32",
   "metadata": {},
   "outputs": [],
   "source": [
    "# No utilitzis la variable DepDelay a l’hora de fer prediccions: \n",
    "# Como no podemos utilizar la variable DepDelay, vamos a realizar un sumatorio de las variables donde se describe el motivo \n",
    "# de los retrasos (LateAircraftDelay, CarrierDelay, NASDelay, SecurityDelay y WeatherDelay), expresadas también en minutos, \n",
    "# para intentar predecir el retraso, ArrDelay, en cada caso. \n",
    "\n",
    "suma = df_1[\"LateAircraftDelay\"] + df_1[\"CarrierDelay\"] + df_1[\"NASDelay\"] + df_1[\"SecurityDelay\"] + df_1[\"WeatherDelay\"]\n",
    "\n",
    "data = pd.DataFrame()\n",
    "data[\"Delay\"] = suma\n",
    "X1 = np.array(data) # variables independientes (la suma de retrasos provocados por diversos motivos)\n",
    "y1 = df_1[forecast_col] #variable dependiente (retraso en la llegada)\n",
    "\n",
    "X1_train, X1_test, y1_train, y1_test = train_test_split(X1, y1, test_size = 0.2, random_state=0)\n",
    "#X_train, X_test, y_train, y_test = train_test_split(X, y, test_size=0.2, random_state=1234)"
   ]
  },
  {
   "cell_type": "code",
   "execution_count": 490,
   "id": "1bda5515",
   "metadata": {},
   "outputs": [],
   "source": [
    "UseCaseModelizacion (X1_train, y1_train, X1_test, y1_test )"
   ]
  },
  {
   "cell_type": "code",
   "execution_count": null,
   "id": "c20d25d6",
   "metadata": {},
   "outputs": [],
   "source": [
    "# Asignamos las variables con las que vamos a trabajar en el algoritmo\n",
    "#variable independiente (hora de salida)\n",
    "#variable dependiente (retraso en la llegada)\n",
    "X = np.array(df_sample.drop([forecast_col], 1))\n",
    "y = np.array(df_sample[forecast_col])\n",
    "#x= np.arraydf_sample['DepDelay']).reshape((-1, 1)) \n",
    "#y= df_sample['ArrDelay'] \n",
    "\n",
    "\n",
    "# MODELO DE REGRESIÓN RANDOM FOREST #\n",
    "df = pd.DataFrame()\n",
    "df['X'] = df_sample['DepDelay'] #variable independiente (retraso en la salida)\n",
    "df['y'] = df_sample['ArrDelay'] #variable dependiente (retraso en la llegada)\n",
    "df = df.sample(frac=0.30) # extraemos una muestra aleatoria del 30%, así nos aseguramos que es lo suficientemente representativa\n",
    "\n",
    "# Asignamos las variables con las que vamos a trabajar en el algoritmo\n",
    "X= np.array(df['X']).reshape((-1, 1)) #variable independiente (retraso en la salida)\n",
    "y= df['y'] #variable dependiente (retraso en la llegada)\n",
    "\n",
    "y.dtype\n",
    "dtype('float64')\n",
    "y=y.round(0).astype(int) # pasamos nuestra variable y a integer ya que RandomForest me da problema con los valores float\n",
    "\n"
   ]
  },
  {
   "cell_type": "code",
   "execution_count": null,
   "id": "cdf064f0",
   "metadata": {},
   "outputs": [],
   "source": [
    "X = df_1.iloc[:,:-1]\n",
    "round(calc_vif(X),3)\n"
   ]
  },
  {
   "cell_type": "code",
   "execution_count": null,
   "id": "9d21dcc7",
   "metadata": {},
   "outputs": [],
   "source": [
    "df_1.drop(['ActualElapsedTime','CRSElapsedTime', 'Year', \n",
    "'AirTime',\n",
    "'DepTime',\n",
    "'CRSArrTime',\n",
    "'CRSDepTime'], axis=1, inplace=True)\n",
    "X = df_1.iloc[:,:-1]\n",
    "round(calc_vif(X),3)"
   ]
  }
 ],
 "metadata": {
  "kernelspec": {
   "display_name": "Python 3 (ipykernel)",
   "language": "python",
   "name": "python3"
  },
  "language_info": {
   "codemirror_mode": {
    "name": "ipython",
    "version": 3
   },
   "file_extension": ".py",
   "mimetype": "text/x-python",
   "name": "python",
   "nbconvert_exporter": "python",
   "pygments_lexer": "ipython3",
   "version": "3.9.7"
  }
 },
 "nbformat": 4,
 "nbformat_minor": 5
}
